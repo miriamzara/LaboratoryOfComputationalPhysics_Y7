{
 "cells": [
  {
   "cell_type": "markdown",
   "metadata": {},
   "source": [
    "# Just one (long) exercise: TDC signals analysis (done)\n",
    "\n",
    "### Description\n",
    "This exercise consists in analyzing a dataset containg timing information from a series of Time-to-Digital-Converters (TDC), implemented in a couple of FPGAs. Each measurement (i.e. each row of the input file) consists of:\n",
    "- a flag that specifies the type of message ('HEAD', which in this case is always 1),\n",
    "- two addresses of the TDC providing the signal ('FPGA' and 'TDC_CHANNEL')\n",
    "- the timing information ('ORBIT_CNT', 'BX_COUNTER', and 'TDC_MEAS'). \n",
    "\n",
    "    The triplet ('ORBIT_CNT', 'BX_COUNTER', and 'TDC_MEAS') is a format for the time information analogous to ('hours', 'minutes', 'seconds'):\n",
    "    - Each TDC count corresponds to 25/30 ns (**/ means division**),\n",
    "    - Each BX_COUNTER corresponds to 25 ns,\n",
    "    -  the ORBIT_CNT is increased every 'x' BX_COUNTER (with the value of x to be found)\n",
    "    \n",
    "This allows to store the time in a similar way to hours, minutes and seconds.\n",
    "\n",
    "### Requests\n",
    "\n",
    "- 1\\. Create a Pandas DataFrame reading N rows of the 'data_000637.txt' dataset. Choose N to be smaller than or equal to the maximum number of rows and larger that 10k.\n",
    "\n",
    "- 2\\. Find out the number of BX in a ORBIT (the value 'x').\n",
    "\n",
    "- 3\\. Find out how much the data taking lasted. You can either make an estimate based on the fraction of the measurements (rows) you read, or perform this check precisely by reading out the whole dataset.\n",
    "\n",
    "- 4\\. Create a new column with the absolute time in ns (as a combination of the other three columns with timing information).\n",
    "\n",
    "- 5\\. Replace the values (all 1) of the HEAD column randomly with 0 or 1.\n",
    "\n",
    "- 6\\. Create a new DataFrame that contains only the rows with HEAD=1.\n",
    "\n",
    "- 7\\. Make two occupancy plots (one for each FPGA), i.e. plot the number of counts per TDC channel\n",
    "\n",
    "- 8\\. Use the groupby method to find out the noisy channels, i.e. the TDC channels with most counts (say the top 3)\n",
    "\n",
    "- 9\\. Count the number of unique orbits. Count the number of unique orbits with at least one measurement from TDC_CHANNEL=139"
   ]
  },
  {
   "cell_type": "markdown",
   "metadata": {},
   "source": [
    "### Solution"
   ]
  },
  {
   "cell_type": "markdown",
   "metadata": {},
   "source": [
    "#### 1\\."
   ]
  },
  {
   "cell_type": "code",
   "execution_count": 1,
   "metadata": {},
   "outputs": [],
   "source": [
    "# -L option: follow the redirection link to the actual file\n",
    "#!curl -L -O  https://www.dropbox.com/s/xvjzaxzz3ysphme/data_000637.txt\n",
    "import csv\n",
    "import pandas as pd\n",
    "import numpy as np\n",
    "import matplotlib.pyplot as plt"
   ]
  },
  {
   "cell_type": "code",
   "execution_count": 2,
   "metadata": {},
   "outputs": [
    {
     "name": "stdout",
     "output_type": "stream",
     "text": [
      "['HEAD', 'FPGA', 'TDC_CHANNEL', 'ORBIT_CNT', 'BX_COUNTER', 'TDC_MEAS']\n",
      "['1', '0', '123', '3869200167', '2374', '26']\n",
      "['1', '0', '124', '3869200167', '2374', '27']\n",
      "['1', '0', '63', '3869200167', '2553', '28']\n",
      "['1', '0', '64', '3869200167', '2558', '19']\n",
      "['1', '0', '64', '3869200167', '2760', '25']\n",
      "number of rows in the file: 1310715\n"
     ]
    }
   ],
   "source": [
    "filename = \"data_000637.txt\"\n",
    "# inspect how many rows are there in the file\n",
    "\n",
    "with open(filename, mode= 'r', ) as f:\n",
    "    reader = csv.reader(f, delimiter=',')  # Specify ',' as the delimiter\n",
    "    # print first 5 row to ensure everything is ok\n",
    "    for i, row in enumerate(reader):\n",
    "        print(row)\n",
    "        if i == 5:\n",
    "            break\n",
    "    # now count the rows\n",
    "    nrows = sum(1 for _ in reader)\n",
    "\n",
    "f.close()\n",
    "print(f\"number of rows in the file: {nrows}\")"
   ]
  },
  {
   "cell_type": "code",
   "execution_count": 3,
   "metadata": {},
   "outputs": [
    {
     "data": {
      "text/html": [
       "<div>\n",
       "<style scoped>\n",
       "    .dataframe tbody tr th:only-of-type {\n",
       "        vertical-align: middle;\n",
       "    }\n",
       "\n",
       "    .dataframe tbody tr th {\n",
       "        vertical-align: top;\n",
       "    }\n",
       "\n",
       "    .dataframe thead th {\n",
       "        text-align: right;\n",
       "    }\n",
       "</style>\n",
       "<table border=\"1\" class=\"dataframe\">\n",
       "  <thead>\n",
       "    <tr style=\"text-align: right;\">\n",
       "      <th></th>\n",
       "      <th>HEAD</th>\n",
       "      <th>FPGA</th>\n",
       "      <th>TDC_CHANNEL</th>\n",
       "      <th>ORBIT_CNT</th>\n",
       "      <th>BX_COUNTER</th>\n",
       "      <th>TDC_MEAS</th>\n",
       "    </tr>\n",
       "  </thead>\n",
       "  <tbody>\n",
       "    <tr>\n",
       "      <th>999981</th>\n",
       "      <td>1</td>\n",
       "      <td>0</td>\n",
       "      <td>124</td>\n",
       "      <td>3869209011</td>\n",
       "      <td>2539</td>\n",
       "      <td>11</td>\n",
       "    </tr>\n",
       "    <tr>\n",
       "      <th>999982</th>\n",
       "      <td>1</td>\n",
       "      <td>0</td>\n",
       "      <td>61</td>\n",
       "      <td>3869209011</td>\n",
       "      <td>2527</td>\n",
       "      <td>7</td>\n",
       "    </tr>\n",
       "    <tr>\n",
       "      <th>999983</th>\n",
       "      <td>1</td>\n",
       "      <td>1</td>\n",
       "      <td>5</td>\n",
       "      <td>3869209011</td>\n",
       "      <td>2544</td>\n",
       "      <td>25</td>\n",
       "    </tr>\n",
       "    <tr>\n",
       "      <th>999984</th>\n",
       "      <td>1</td>\n",
       "      <td>0</td>\n",
       "      <td>124</td>\n",
       "      <td>3869209011</td>\n",
       "      <td>2544</td>\n",
       "      <td>12</td>\n",
       "    </tr>\n",
       "    <tr>\n",
       "      <th>999985</th>\n",
       "      <td>1</td>\n",
       "      <td>0</td>\n",
       "      <td>64</td>\n",
       "      <td>3869209011</td>\n",
       "      <td>2531</td>\n",
       "      <td>23</td>\n",
       "    </tr>\n",
       "    <tr>\n",
       "      <th>999986</th>\n",
       "      <td>1</td>\n",
       "      <td>1</td>\n",
       "      <td>7</td>\n",
       "      <td>3869209011</td>\n",
       "      <td>2546</td>\n",
       "      <td>13</td>\n",
       "    </tr>\n",
       "    <tr>\n",
       "      <th>999987</th>\n",
       "      <td>1</td>\n",
       "      <td>0</td>\n",
       "      <td>60</td>\n",
       "      <td>3869209011</td>\n",
       "      <td>2554</td>\n",
       "      <td>2</td>\n",
       "    </tr>\n",
       "    <tr>\n",
       "      <th>999988</th>\n",
       "      <td>1</td>\n",
       "      <td>1</td>\n",
       "      <td>139</td>\n",
       "      <td>3869209011</td>\n",
       "      <td>2553</td>\n",
       "      <td>0</td>\n",
       "    </tr>\n",
       "    <tr>\n",
       "      <th>999989</th>\n",
       "      <td>1</td>\n",
       "      <td>1</td>\n",
       "      <td>4</td>\n",
       "      <td>3869209011</td>\n",
       "      <td>2551</td>\n",
       "      <td>14</td>\n",
       "    </tr>\n",
       "    <tr>\n",
       "      <th>999990</th>\n",
       "      <td>1</td>\n",
       "      <td>0</td>\n",
       "      <td>121</td>\n",
       "      <td>3869209011</td>\n",
       "      <td>2554</td>\n",
       "      <td>24</td>\n",
       "    </tr>\n",
       "    <tr>\n",
       "      <th>999991</th>\n",
       "      <td>1</td>\n",
       "      <td>0</td>\n",
       "      <td>59</td>\n",
       "      <td>3869209011</td>\n",
       "      <td>2558</td>\n",
       "      <td>9</td>\n",
       "    </tr>\n",
       "    <tr>\n",
       "      <th>999992</th>\n",
       "      <td>1</td>\n",
       "      <td>0</td>\n",
       "      <td>49</td>\n",
       "      <td>3869209011</td>\n",
       "      <td>2557</td>\n",
       "      <td>3</td>\n",
       "    </tr>\n",
       "    <tr>\n",
       "      <th>999993</th>\n",
       "      <td>1</td>\n",
       "      <td>0</td>\n",
       "      <td>123</td>\n",
       "      <td>3869209011</td>\n",
       "      <td>2553</td>\n",
       "      <td>13</td>\n",
       "    </tr>\n",
       "    <tr>\n",
       "      <th>999994</th>\n",
       "      <td>1</td>\n",
       "      <td>0</td>\n",
       "      <td>60</td>\n",
       "      <td>3869209011</td>\n",
       "      <td>2561</td>\n",
       "      <td>27</td>\n",
       "    </tr>\n",
       "    <tr>\n",
       "      <th>999995</th>\n",
       "      <td>1</td>\n",
       "      <td>0</td>\n",
       "      <td>62</td>\n",
       "      <td>3869209011</td>\n",
       "      <td>2560</td>\n",
       "      <td>29</td>\n",
       "    </tr>\n",
       "    <tr>\n",
       "      <th>999996</th>\n",
       "      <td>1</td>\n",
       "      <td>0</td>\n",
       "      <td>51</td>\n",
       "      <td>3869209011</td>\n",
       "      <td>2561</td>\n",
       "      <td>12</td>\n",
       "    </tr>\n",
       "    <tr>\n",
       "      <th>999997</th>\n",
       "      <td>1</td>\n",
       "      <td>0</td>\n",
       "      <td>61</td>\n",
       "      <td>3869209011</td>\n",
       "      <td>2562</td>\n",
       "      <td>2</td>\n",
       "    </tr>\n",
       "    <tr>\n",
       "      <th>999998</th>\n",
       "      <td>1</td>\n",
       "      <td>0</td>\n",
       "      <td>50</td>\n",
       "      <td>3869209011</td>\n",
       "      <td>2563</td>\n",
       "      <td>4</td>\n",
       "    </tr>\n",
       "    <tr>\n",
       "      <th>999999</th>\n",
       "      <td>1</td>\n",
       "      <td>0</td>\n",
       "      <td>60</td>\n",
       "      <td>3869209011</td>\n",
       "      <td>2688</td>\n",
       "      <td>25</td>\n",
       "    </tr>\n",
       "    <tr>\n",
       "      <th>1000000</th>\n",
       "      <td>1</td>\n",
       "      <td>1</td>\n",
       "      <td>57</td>\n",
       "      <td>3869209011</td>\n",
       "      <td>2849</td>\n",
       "      <td>13</td>\n",
       "    </tr>\n",
       "  </tbody>\n",
       "</table>\n",
       "</div>"
      ],
      "text/plain": [
       "         HEAD  FPGA  TDC_CHANNEL   ORBIT_CNT  BX_COUNTER  TDC_MEAS\n",
       "999981      1     0          124  3869209011        2539        11\n",
       "999982      1     0           61  3869209011        2527         7\n",
       "999983      1     1            5  3869209011        2544        25\n",
       "999984      1     0          124  3869209011        2544        12\n",
       "999985      1     0           64  3869209011        2531        23\n",
       "999986      1     1            7  3869209011        2546        13\n",
       "999987      1     0           60  3869209011        2554         2\n",
       "999988      1     1          139  3869209011        2553         0\n",
       "999989      1     1            4  3869209011        2551        14\n",
       "999990      1     0          121  3869209011        2554        24\n",
       "999991      1     0           59  3869209011        2558         9\n",
       "999992      1     0           49  3869209011        2557         3\n",
       "999993      1     0          123  3869209011        2553        13\n",
       "999994      1     0           60  3869209011        2561        27\n",
       "999995      1     0           62  3869209011        2560        29\n",
       "999996      1     0           51  3869209011        2561        12\n",
       "999997      1     0           61  3869209011        2562         2\n",
       "999998      1     0           50  3869209011        2563         4\n",
       "999999      1     0           60  3869209011        2688        25\n",
       "1000000     1     1           57  3869209011        2849        13"
      ]
     },
     "execution_count": 3,
     "metadata": {},
     "output_type": "execute_result"
    }
   ],
   "source": [
    "N = np.power(10, 6)\n",
    "df = pd.read_csv(filepath_or_buffer= filename, nrows= (N + 1))\n",
    "# nrows : int, optional.  Number of rows of file to read. Useful for reading pieces of large files\n",
    "df.tail(20)"
   ]
  },
  {
   "cell_type": "markdown",
   "metadata": {},
   "source": [
    "Comment: I see that the BX_COUNTER values are not monotonically increasing. Maybe the measures (the rows) are not chronologically ordered, or maybe it is impossible to find their chronological ordering exactly because the timing values are affected by statistical errors."
   ]
  },
  {
   "cell_type": "markdown",
   "metadata": {},
   "source": [
    "#### 2\\.\n",
    "\n",
    "I need to find the range of TCD_MEAS and BX_COUNTER.\n",
    "\n",
    "For the time format (\"hours\", \"minutes\", \"seconds\") I know that \"minutes\" ranges from 0 to 60 and then resets. I want to get the same information about this other time format. There are two ways I can do this:\n",
    "\n",
    "- use np.max(), np.min()\n",
    "- plot the whole distribution and get its extrema\n",
    "\n",
    "The second approach is smarter, since I can verify that the values returned by np.max() and np.min() are the actual extrema of a continuous range and not - for instance - some outlier, wrong value. Also, I can check if the times of the measures are uniformly distributed or not. If not, and I know that the physical process is random and uncorrelated, there might be some systematic error in the measurement system.\n",
    "\n",
    "To do it I use statistics: the dataset is very large (one million measures), and I expect the sampling times to be a uniform random variable. Hence, if I plot the histogram of TDC_MEAS, I expect to find the whole range of values."
   ]
  },
  {
   "cell_type": "code",
   "execution_count": 4,
   "metadata": {},
   "outputs": [
    {
     "name": "stdout",
     "output_type": "stream",
     "text": [
      "0 29\n",
      "0 3563\n"
     ]
    },
    {
     "data": {
      "image/png": "[encoded data removed]",
      "text/plain": [
       "<Figure size 640x480 with 2 Axes>"
      ]
     },
     "metadata": {},
     "output_type": "display_data"
    }
   ],
   "source": [
    "fig, axs = plt.subplots(nrows = 1, ncols = 2)\n",
    "plt.subplots_adjust(wspace= 0.5)\n",
    "axs[0].hist(df['TDC_MEAS'])\n",
    "axs[0].set_title('TDC_MEAS')\n",
    "axs[1].hist(df['BX_COUNTER'])\n",
    "axs[1].set_title('BX_COUNTER')\n",
    "tcd_min, tcd_max = df['TDC_MEAS'].min(), df['TDC_MEAS'].max()\n",
    "print(tcd_min, tcd_max)\n",
    "\n",
    "bx_counter_min, bx_counter_max = df['BX_COUNTER'].min(), df['BX_COUNTER'].max()\n",
    "print(bx_counter_min, bx_counter_max)"
   ]
  },
  {
   "cell_type": "markdown",
   "metadata": {},
   "source": [
    "Summary: TCD_MEAS resets at 30 and BX counter resests at 3563: there are $x = 3564$ BX_COUNTER units in a ORBIT_CNT\n",
    "\n",
    "**ORBIT_CNT::BX_COUNTER::TCD_MEAS**\n",
    "**[0, ..]::[0, 3563]::[0, 29]**"
   ]
  },
  {
   "cell_type": "markdown",
   "metadata": {},
   "source": [
    "### Request 3\n",
    "\n",
    "Find out how much the data taking lasted. You can either make an estimate based on the fraction of the measurements (rows) you read, or perform this check precisely by reading out the whole dataset."
   ]
  },
  {
   "cell_type": "code",
   "execution_count": 5,
   "metadata": {},
   "outputs": [
    {
     "data": {
      "text/plain": [
       "np.int64(8845)"
      ]
     },
     "execution_count": 5,
     "metadata": {},
     "output_type": "execute_result"
    }
   ],
   "source": [
    "#df['ORBIT_CNT'].hist(bins = 10)\n",
    "orbs_count_min = np.min(df['ORBIT_CNT'])\n",
    "orbs_count_max = np.max(df['ORBIT_CNT'])\n",
    "num_orbs_counts = orbs_count_max - orbs_count_min + 1\n",
    "num_orbs_counts"
   ]
  },
  {
   "cell_type": "code",
   "execution_count": 6,
   "metadata": {},
   "outputs": [
    {
     "name": "stdout",
     "output_type": "stream",
     "text": [
      "Total measurement time (estimated): 1032960728.9925001  ns\n"
     ]
    }
   ],
   "source": [
    "tdc_in_ns = 25./30\n",
    "bx_in_ns = 25\n",
    "# Check:\n",
    "#print(tdc_in_seconds * (tcd_max+ 1), bx_in_seconds)  perfect, it agrees\n",
    "\n",
    "orbs_in_ns = bx_in_ns * (bx_counter_max + 1)\n",
    "#print(orbs_count_in_seconds)\n",
    "subset_total_time = num_orbs_counts * orbs_in_ns\n",
    "total_time = (subset_total_time/ N) * nrows\n",
    "\n",
    "print(\"Total measurement time (estimated):\", total_time, \" ns\")"
   ]
  },
  {
   "cell_type": "markdown",
   "metadata": {},
   "source": [
    "#### 4\\.\n",
    "\n",
    "Create a new column with the absolute time in ns (as a combination of the other three columns with timing information)."
   ]
  },
  {
   "cell_type": "code",
   "execution_count": 7,
   "metadata": {},
   "outputs": [],
   "source": [
    "df['time_ns'] = (df['ORBIT_CNT'] - orbs_count_min) * orbs_in_ns + df['BX_COUNTER'] * bx_in_ns + df['TDC_MEAS'] * tdc_in_ns\n",
    "#df.head()"
   ]
  },
  {
   "cell_type": "markdown",
   "metadata": {},
   "source": [
    "#### 5\\. \n",
    "Replace the values (all 1) of the HEAD column randomly with 0 or 1."
   ]
  },
  {
   "cell_type": "code",
   "execution_count": 8,
   "metadata": {},
   "outputs": [],
   "source": [
    "import numpy.random as npr\n",
    "df['HEAD'] = npr.choice([0, 1], size= len(df))\n",
    "#df.head()"
   ]
  },
  {
   "cell_type": "markdown",
   "metadata": {},
   "source": [
    "#### 6\\.\n",
    "Create a new DataFrame that contains only the rows with HEAD=1."
   ]
  },
  {
   "cell_type": "code",
   "execution_count": 9,
   "metadata": {},
   "outputs": [
    {
     "name": "stdout",
     "output_type": "stream",
     "text": [
      "   HEAD  FPGA  TDC_CHANNEL   ORBIT_CNT  BX_COUNTER  TDC_MEAS       time_ns\n",
      "0     1     0          123  3869200167        2374        26  59371.666667\n",
      "1     1     0          124  3869200167        2374        27  59372.500000\n",
      "2     1     0           63  3869200167        2553        28  63848.333333\n",
      "3     1     0           64  3869200167        2558        19  63965.833333\n",
      "4     1     0           64  3869200167        2760        25  69020.833333\n"
     ]
    }
   ],
   "source": [
    "df_filtered = df[df[\"HEAD\"] == 1].reset_index(drop= True)#.copy()  it is superfluous\n",
    "print(df_filtered.head())"
   ]
  },
  {
   "cell_type": "markdown",
   "metadata": {},
   "source": [
    "#### 7\\.\n",
    "Make two occupancy plots (one for each FPGA), i.e. plot the number of counts per TDC channel"
   ]
  },
  {
   "cell_type": "code",
   "execution_count": 34,
   "metadata": {},
   "outputs": [
    {
     "data": {
      "image/png": "[encoded data removed]",
      "text/plain": [
       "<Figure size 640x480 with 1 Axes>"
      ]
     },
     "metadata": {},
     "output_type": "display_data"
    }
   ],
   "source": [
    "# First try: groupby().count() (longer)\n",
    "\"\"\"\n",
    "df_ = df[['FPGA', 'TDC_CHANNEL']].copy()\n",
    "df_['COUNTS'] = pd.Series(np.ones(len(df)))\n",
    "result = df_.groupby(['FPGA', 'TDC_CHANNEL']).count()\n",
    "result_flattened = result.reset_index()\n",
    "\n",
    "fig, ax = plt.subplots()\n",
    "\n",
    "for fpga in np.unique(result_flattened['FPGA']):\n",
    "    temp_df = result_flattened[result_flattened['FPGA'] == fpga]\n",
    "    x, y = temp_df['TDC_CHANNEL'].values, temp_df['COUNTS'].values\n",
    "    ax.bar(x, y, label = fpga)\n",
    "\n",
    "ax.legend(title= \"FPGA\")\n",
    "ax.set_xlabel('TDC_CHANNEL')\n",
    "ax.set_ylabel('COUNTS')\n",
    "ax.set_title(\"Occupacy Plot\")\n",
    "\"\"\"\n",
    "\n",
    "# Second try: groupby().size() (best)\n",
    "for fpga in [0, 1]:\n",
    "    result = df.groupby(['FPGA', 'TDC_CHANNEL']).size()\n",
    "    #result.xs(fpga, level= 'FPGA') # multi-index accessing: access all rows where the index \"FPGA\" is 1\n",
    "    plt.bar(x = result.xs(fpga, level= 'FPGA').index, height= result.xs(fpga, level= 'FPGA').values, align= 'edge')"
   ]
  },
  {
   "cell_type": "markdown",
   "metadata": {},
   "source": [
    "### 8\\.\n",
    "Use the groupby method to find out the noisy channels, i.e. the TDC channels with most counts (say the top 3)"
   ]
  },
  {
   "cell_type": "code",
   "execution_count": 19,
   "metadata": {},
   "outputs": [
    {
     "data": {
      "text/plain": [
       "TDC_CHANNEL\n",
       "139    82677\n",
       "64     50201\n",
       "63     49335\n",
       "61     37789\n",
       "62     37602\n",
       "       ...  \n",
       "125      457\n",
       "130       53\n",
       "138       52\n",
       "137       50\n",
       "129       28\n",
       "Length: 133, dtype: int64"
      ]
     },
     "execution_count": 19,
     "metadata": {},
     "output_type": "execute_result"
    }
   ],
   "source": [
    "# I sum the counts coming from FPGA 0 and FPGA 1. \n",
    "\n",
    "# First method (longer)\n",
    "#df_ = df[['TDC_CHANNEL']].copy()\n",
    "#df_['COUNTS'] = pd.Series(np.ones(len(df_)))\n",
    "#result = df_.groupby(['TDC_CHANNEL']).count()\n",
    "#result.sort_values(by= 'COUNTS', ascending= False)\n",
    "#result\n",
    "\n",
    "# Second method (optimized)\n",
    "result = df.groupby(['TDC_CHANNEL']).size().sort_values(ascending=False)\n",
    "result"
   ]
  },
  {
   "cell_type": "markdown",
   "metadata": {},
   "source": [
    "# 9\\. \n",
    "\n",
    "- Count the number of unique orbits. \n",
    "\n",
    "- Count the number of unique orbits with at least one measurement from TDC_CHANNEL=139"
   ]
  },
  {
   "cell_type": "code",
   "execution_count": 45,
   "metadata": {},
   "outputs": [
    {
     "name": "stdout",
     "output_type": "stream",
     "text": [
      "unique_orbits: 8841\n"
     ]
    },
    {
     "data": {
      "text/plain": [
       "ORBIT_CNT   TDC_CHANNEL\n",
       "3869200167  5               1\n",
       "            6               1\n",
       "            7               1\n",
       "            8               1\n",
       "            10              1\n",
       "                           ..\n",
       "3869209011  109             1\n",
       "            121             1\n",
       "            123             1\n",
       "            124             2\n",
       "            139            12\n",
       "Length: 440984, dtype: int64"
      ]
     },
     "execution_count": 45,
     "metadata": {},
     "output_type": "execute_result"
    }
   ],
   "source": [
    "unique_orbits = len(np.unique(df['ORBIT_CNT']))\n",
    "print(\"unique_orbits:\", unique_orbits)\n",
    "\n",
    "result = df.groupby(['ORBIT_CNT', 'TDC_CHANNEL']).size()\n",
    "result # the entries with size 0 are already excluded from the resulting pd series"
   ]
  },
  {
   "cell_type": "code",
   "execution_count": 48,
   "metadata": {},
   "outputs": [
    {
     "name": "stdout",
     "output_type": "stream",
     "text": [
      "ORBIT_CNT\n",
      "3869200167     4\n",
      "3869200168     8\n",
      "3869200169    11\n",
      "3869200170     9\n",
      "3869200171     9\n",
      "              ..\n",
      "3869209007    10\n",
      "3869209008    22\n",
      "3869209009    15\n",
      "3869209010     7\n",
      "3869209011    12\n",
      "Length: 8816, dtype: int64\n"
     ]
    },
    {
     "data": {
      "text/plain": [
       "8816"
      ]
     },
     "execution_count": 48,
     "metadata": {},
     "output_type": "execute_result"
    }
   ],
   "source": [
    "pd_series = result.xs(139, level= 'TDC_CHANNEL')\n",
    "print(pd_series)\n",
    "unique_orbits_with_139_counts = len(pd_series.index)\n",
    "unique_orbits_with_139_counts"
   ]
  }
 ],
 "metadata": {
  "kernelspec": {
   "display_name": "myenv",
   "language": "python",
   "name": "python3"
  },
  "language_info": {
   "codemirror_mode": {
    "name": "ipython",
    "version": 3
   },
   "file_extension": ".py",
   "mimetype": "text/x-python",
   "name": "python",
   "nbconvert_exporter": "python",
   "pygments_lexer": "ipython3",
   "version": "3.12.0"
  }
 },
 "nbformat": 4,
 "nbformat_minor": 2
}
