{
 "cells": [
  {
   "cell_type": "markdown",
   "metadata": {},
   "source": [
    "# OSEMN Exercises"
   ]
  },
  {
   "cell_type": "code",
   "execution_count": 3,
   "metadata": {},
   "outputs": [],
   "source": [
    "%matplotlib inline\n",
    "import pandas as pd\n",
    "import numpy as np\n",
    "from numpy import random"
   ]
  },
  {
   "cell_type": "markdown",
   "metadata": {},
   "source": [
    "1\\. Create a random list of number and then save it to a text file named \"simple_data.txt\""
   ]
  },
  {
   "cell_type": "code",
   "execution_count": 10,
   "metadata": {},
   "outputs": [
    {
     "name": "stdout",
     "output_type": "stream",
     "text": [
      "[5.38826776e-01 7.57965361e-01 9.11585491e-01 8.23464793e-01\n",
      " 5.49727940e-02 7.45906383e-01 9.05486815e-01 6.43773233e-01\n",
      " 4.64457921e-01 9.03453776e-01 7.48525943e-03 8.40106960e-01\n",
      " 2.13270255e-01 9.35060282e-01 2.48423298e-01 6.28358746e-01\n",
      " 3.32615383e-01 8.36521198e-01 4.89520965e-01 4.87449855e-01\n",
      " 1.33854053e-01 6.60687725e-01 6.09101973e-01 4.92902500e-01\n",
      " 6.94090133e-01 6.96873387e-01 1.15892070e-01 8.27270289e-01\n",
      " 2.95775812e-01 6.94123145e-01 4.53355510e-01 5.02043836e-01\n",
      " 9.59796649e-02 6.85629113e-02 9.98782962e-01 3.69948080e-01\n",
      " 4.84658285e-02 3.07179685e-01 8.24724714e-01 7.31699476e-01\n",
      " 7.50148029e-01 3.51308968e-01 1.06416640e-01 2.73570145e-01\n",
      " 8.98128053e-01 1.04881275e-01 8.47472581e-01 9.90774704e-01\n",
      " 2.13748835e-01 4.86990790e-02 9.89485968e-01 4.64699084e-01\n",
      " 2.60479802e-01 4.98362944e-02 6.70383167e-01 8.33055445e-01\n",
      " 4.78077384e-01 9.71720319e-01 9.35540217e-01 3.43293326e-01\n",
      " 3.03999538e-01 6.18208941e-01 4.28960789e-01 2.69327157e-02\n",
      " 3.39890292e-01 1.90692868e-01 8.01765337e-02 8.32424521e-01\n",
      " 4.66043543e-01 3.16891893e-01 2.54380792e-01 4.18547169e-01\n",
      " 1.82683033e-01 9.70016936e-01 3.47149011e-01 2.29035282e-01\n",
      " 3.12086632e-01 3.87923730e-02 4.31814786e-02 6.07038390e-02\n",
      " 8.91961796e-04 5.98352022e-01 2.45396825e-01 2.45587442e-01\n",
      " 2.78625569e-01 3.42872782e-01 1.21180699e-01 4.54680698e-02\n",
      " 5.98608653e-01 2.40641698e-01 4.28051298e-01 2.06245046e-01\n",
      " 4.03907783e-01 9.92765769e-01 4.69165677e-01 3.56346929e-01\n",
      " 8.31723712e-02 4.31300086e-01 5.38084618e-01 1.86660679e-01]\n"
     ]
    }
   ],
   "source": [
    "d = random.random(size=100)\n",
    "print(d)\n",
    "\n",
    "filename = \"simple_data.txt\"\n",
    "\n",
    "with open(filename, mode = 'w') as f:\n",
    "    for point in d:\n",
    "        f.write(str(point) + '\\n')"
   ]
  },
  {
   "cell_type": "markdown",
   "metadata": {},
   "source": [
    "2\\. Create a random matrix of 5x5 and then save it to a text file named \"data.txt\""
   ]
  },
  {
   "cell_type": "code",
   "execution_count": 17,
   "metadata": {},
   "outputs": [
    {
     "name": "stdout",
     "output_type": "stream",
     "text": [
      "[[0.1860355  0.61307529 0.05353184 0.48756715 0.38687207]\n",
      " [0.83841886 0.05152655 0.39196464 0.37101173 0.28974222]\n",
      " [0.84502642 0.5843666  0.68215965 0.60974911 0.59934688]\n",
      " [0.8320256  0.83280161 0.2834097  0.28216093 0.54109529]\n",
      " [0.38339302 0.96138523 0.00962801 0.3743062  0.97296634]]\n"
     ]
    }
   ],
   "source": [
    "matrix = np.array([[np.random.random() for _ in range(5)] for _ in range(5)])\n",
    "print(matrix)\n",
    "\n",
    "# Manual way\n",
    "filename = \"simple_matrix.txt\"\n",
    "with open(filename, mode = 'w') as f:\n",
    "    for row_idx in range(matrix.shape[0]):\n",
    "        for col_idx in range(matrix.shape[1]):\n",
    "            f.write(str(matrix[row_idx, col_idx]) + ',')\n",
    "        f.write('\\n')\n",
    "\n",
    "#Numpy automatic way\n",
    "filename = \"simple_matrix_numpy.txt\"\n",
    "np.savetxt(fname= filename, X = matrix)"
   ]
  },
  {
   "cell_type": "markdown",
   "metadata": {},
   "source": [
    "3\\. Load the saved txt file of point 2 and convert it to a csv file (by hand)"
   ]
  },
  {
   "cell_type": "code",
   "execution_count": 41,
   "metadata": {},
   "outputs": [
    {
     "name": "stdout",
     "output_type": "stream",
     "text": [
      "[[0.1860355  0.61307529 0.05353184 0.48756715 0.38687207]\n",
      " [0.83841886 0.05152655 0.39196464 0.37101173 0.28974222]\n",
      " [0.84502642 0.5843666  0.68215965 0.60974911 0.59934688]\n",
      " [0.8320256  0.83280161 0.2834097  0.28216093 0.54109529]\n",
      " [0.38339302 0.96138523 0.00962801 0.3743062  0.97296634]]\n"
     ]
    }
   ],
   "source": [
    "input_filename = \"simple_matrix_numpy.txt\" # here separator = ' '\n",
    "matrix = np.zeros((5,5))\n",
    "\n",
    "# Load the matrix\n",
    "row_idx =0\n",
    "with open(input_filename, mode = 'r') as f:\n",
    "    for line in f:\n",
    "        # line is a str\n",
    "        # numbers is a list of str\n",
    "        numbers = line.rstrip('\\n').split(sep= ' ')\n",
    "        matrix[row_idx, :] = numbers\n",
    "        row_idx += 1\n",
    "print(matrix)\n",
    "\n",
    "# Save the matrix as .csv\n",
    "filename = \"simple_matrix.csv\"\n",
    "with open(filename, mode = 'w') as f:\n",
    "    for row_idx in range(matrix.shape[0]):\n",
    "        for col_idx in range(matrix.shape[1]):\n",
    "            f.write(str(matrix[row_idx, col_idx]) + ',')\n",
    "        f.write('\\n')\n",
    "\n",
    "#There is no built in function for .csv saving in numpy. The alternative is to use Pandas"
   ]
  },
  {
   "cell_type": "markdown",
   "metadata": {},
   "source": [
    "4\\. load the binary file named *credit_card.dat* and convert the data into the real credit-card number.\n",
    "Each line correspond to a credit card number.\n",
    "Each character is composed by 6 bit (even the space) and the last 4 bit are just a padding\n",
    "\n",
    "**hint**: use the `chr()` function to convert a number to a char"
   ]
  },
  {
   "cell_type": "markdown",
   "metadata": {},
   "source": [
    "5\\. Load the file \"user_data.json\", filter the data by the \"CreditCardType\" field equals to \"American Express\". Than save the data a to CSV."
   ]
  },
  {
   "cell_type": "markdown",
   "metadata": {},
   "source": [
    "6\\. Load the file from this url: [https://www.dropbox.com/s/7u3lm737ogbqsg8/mushrooms_categorized.csv?dl=1](https://www.dropbox.com/s/7u3lm737ogbqsg8/mushrooms_categorized.csv?dl=1) with Pandas. \n",
    "+ Explore the data (see the info of the data)\n",
    "+ Draw the istogram of the 'class' field. Decribe wath yuou see\n"
   ]
  },
  {
   "cell_type": "markdown",
   "metadata": {},
   "source": [
    "7\\. Load the remote file [https://www.dropbox.com/s/vkl89yce7xjdq4n/regression_generated.csv?dl=1](https://www.dropbox.com/s/vkl89yce7xjdq4n/regression_generated.csv?dl=1) with Pandas and plot a scatter plot all possible combination of the following fields:\n",
    "    \n",
    "  + features_1\n",
    "  + features_2\n",
    "  + features_3"
   ]
  },
  {
   "cell_type": "markdown",
   "metadata": {},
   "source": [
    "8\\. Load the same file of point 6, and convert the file to json with Pandas."
   ]
  }
 ],
 "metadata": {
  "kernelspec": {
   "display_name": "myenv",
   "language": "python",
   "name": "python3"
  },
  "language_info": {
   "codemirror_mode": {
    "name": "ipython",
    "version": 3
   },
   "file_extension": ".py",
   "mimetype": "text/x-python",
   "name": "python",
   "nbconvert_exporter": "python",
   "pygments_lexer": "ipython3",
   "version": "3.12.0"
  }
 },
 "nbformat": 4,
 "nbformat_minor": 2
}
