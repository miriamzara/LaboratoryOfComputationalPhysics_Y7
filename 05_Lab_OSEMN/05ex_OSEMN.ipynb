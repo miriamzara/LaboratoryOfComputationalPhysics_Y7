{
 "cells": [
  {
   "cell_type": "markdown",
   "metadata": {},
   "source": [
    "# OSEMN Exercises"
   ]
  },
  {
   "cell_type": "code",
   "execution_count": 2,
   "metadata": {},
   "outputs": [],
   "source": [
    "%matplotlib inline\n",
    "import pandas as pd\n",
    "import numpy as np\n",
    "from numpy import random"
   ]
  },
  {
   "cell_type": "markdown",
   "metadata": {},
   "source": [
    "## 1\\. (done) Create a random list of number and then save it to a text file named \"simple_data.txt\""
   ]
  },
  {
   "cell_type": "code",
   "execution_count": 3,
   "metadata": {},
   "outputs": [],
   "source": [
    "d = random.random(size=100)\n",
    "#print(d)\n",
    "\n",
    "filename = \"simple_data.txt\"\n",
    "\n",
    "with open(filename, mode = 'w') as f:\n",
    "    for point in d:\n",
    "        f.write(str(point) + '\\n')"
   ]
  },
  {
   "cell_type": "markdown",
   "metadata": {},
   "source": [
    "## 2\\. (done) Create a random matrix of 5x5 and then save it to a text file named \"data.txt\""
   ]
  },
  {
   "cell_type": "code",
   "execution_count": 17,
   "metadata": {},
   "outputs": [
    {
     "name": "stdout",
     "output_type": "stream",
     "text": [
      "[[0.1860355  0.61307529 0.05353184 0.48756715 0.38687207]\n",
      " [0.83841886 0.05152655 0.39196464 0.37101173 0.28974222]\n",
      " [0.84502642 0.5843666  0.68215965 0.60974911 0.59934688]\n",
      " [0.8320256  0.83280161 0.2834097  0.28216093 0.54109529]\n",
      " [0.38339302 0.96138523 0.00962801 0.3743062  0.97296634]]\n"
     ]
    }
   ],
   "source": [
    "matrix = np.array([[np.random.random() for _ in range(5)] for _ in range(5)])\n",
    "#print(matrix)\n",
    "\n",
    "# Manual way\n",
    "filename = \"simple_matrix.txt\"\n",
    "with open(filename, mode = 'w') as f:\n",
    "    for row_idx in range(matrix.shape[0]):\n",
    "        for col_idx in range(matrix.shape[1]):\n",
    "            f.write(str(matrix[row_idx, col_idx]) + ',')\n",
    "        f.write('\\n')\n",
    "\n",
    "#Numpy automatic way\n",
    "filename = \"simple_matrix_numpy.txt\"\n",
    "np.savetxt(fname= filename, X = matrix)"
   ]
  },
  {
   "cell_type": "markdown",
   "metadata": {},
   "source": [
    "## 3\\. (done) Load the saved txt file of point 2 and convert it to a csv file (by hand)"
   ]
  },
  {
   "cell_type": "code",
   "execution_count": 41,
   "metadata": {},
   "outputs": [
    {
     "name": "stdout",
     "output_type": "stream",
     "text": [
      "[[0.1860355  0.61307529 0.05353184 0.48756715 0.38687207]\n",
      " [0.83841886 0.05152655 0.39196464 0.37101173 0.28974222]\n",
      " [0.84502642 0.5843666  0.68215965 0.60974911 0.59934688]\n",
      " [0.8320256  0.83280161 0.2834097  0.28216093 0.54109529]\n",
      " [0.38339302 0.96138523 0.00962801 0.3743062  0.97296634]]\n"
     ]
    }
   ],
   "source": [
    "input_filename = \"simple_matrix_numpy.txt\" # here separator = ' '\n",
    "matrix = np.zeros((5,5))\n",
    "\n",
    "# Load the matrix\n",
    "row_idx =0\n",
    "with open(input_filename, mode = 'r') as f:\n",
    "    for line in f:\n",
    "        # line is a str\n",
    "        # numbers is a list of str\n",
    "        numbers = line.rstrip('\\n').split(sep= ' ')\n",
    "        matrix[row_idx, :] = numbers\n",
    "        row_idx += 1\n",
    "print(matrix)\n",
    "\n",
    "# Save the matrix as .csv\n",
    "filename = \"simple_matrix.csv\"\n",
    "with open(filename, mode = 'w') as f:\n",
    "    for row_idx in range(matrix.shape[0]):\n",
    "        for col_idx in range(matrix.shape[1]):\n",
    "            f.write(str(matrix[row_idx, col_idx]) + ',')\n",
    "        f.write('\\n')\n",
    "\n",
    "#There is no built in function for .csv saving in numpy. The alternative is to use Pandas"
   ]
  },
  {
   "cell_type": "markdown",
   "metadata": {},
   "source": [
    "## 4\\. - 5\\. (done) Credit Cards Exercise\n",
    "\n",
    "- Load the binary file named *credit_card.dat* and convert the data into the real credit-card number. \n",
    "\n",
    "    Consider that:\n",
    "\n",
    "    - Each **line** correspond to a credit card number\n",
    "    - Each character (also the space) is encoded with a string of 6 bit.\n",
    "    - The newline character occupies 1 bit (try to believe)\n",
    "    - The last 4 bit of the file are a padding\n",
    "\n",
    "    **hint**: use the `chr()` function to convert a number to a char\n",
    "\n",
    "- Load the file \"user_data.json\", filter the data by the \"CreditCardType\" field equals to \"American Express\". Than save the data a to CSV."
   ]
  },
  {
   "cell_type": "code",
   "execution_count": 44,
   "metadata": {},
   "outputs": [
    {
     "data": {
      "text/plain": [
       "'1011000110100111100110'"
      ]
     },
     "execution_count": 44,
     "metadata": {},
     "output_type": "execute_result"
    }
   ],
   "source": [
    "# Methods for removing trailing strings\n",
    "\n",
    "line = '0011011000110100111100110'\n",
    "line_left = line.lstrip('01') # removes all combinations of 0 an 1: then removes the whole string!!\n",
    "line_left\n",
    "line_left_prefix = line.removeprefix('001')\n",
    "line_left_prefix\n",
    "\n",
    "# there are also rstrip() and remove.suffix()"
   ]
  },
  {
   "cell_type": "code",
   "execution_count": 71,
   "metadata": {},
   "outputs": [
    {
     "name": "stdout",
     "output_type": "stream",
     "text": [
      "110011110000110010110110100000110111110011111000110000100000110001110010110100110001100000110001110000111000110100\n",
      "['110011', '110000', '110010', '110110', '100000', '110111', '110011', '111000', '110000', '100000', '110001', '110010', '110100', '110001', '100000', '110001', '110000', '111000', '110100']\n",
      "['3', '0', '2', '6', ' ', '7', '3', '8', '0', ' ', '1', '2', '4', '1', ' ', '1', '0', '8', '4']\n"
     ]
    }
   ],
   "source": [
    "padding = \"1010\"\n",
    "line = \"1100111100001100101101101000001101111100111110001100001000001100011100101101001100011000001100011100001110001101001010\"\n",
    "clean_line = line.removesuffix(padding)\n",
    "print(clean_line)\n",
    "# check if line contains a valid credit card number\n",
    "if clean_line:\n",
    "    encoded_chars = [clean_line[i:(i + 6)] for i in range(0, len(clean_line), 6)]\n",
    "    # decode the bit string into characters:\n",
    "    # first step: convert the binary string into a decimal number;\n",
    "    # second step: call chr() to retrieve the UTC8 encoded character\n",
    "    decoded_chars = [chr(int(c, 2)) for c in encoded_chars]\n",
    "print(encoded_chars)\n",
    "print(decoded_chars)"
   ]
  },
  {
   "cell_type": "code",
   "execution_count": 80,
   "metadata": {},
   "outputs": [
    {
     "name": "stdout",
     "output_type": "stream",
     "text": [
      "total bits: 5954\n",
      "valid bits (excluded padding and newlines): 5700\n",
      "card bits: 114.0\n",
      "card length (spaces included): 19.0\n"
     ]
    }
   ],
   "source": [
    "filename = \"credit_card.dat\"\n",
    "\n",
    "# By manual inspection of the file, I see that:\n",
    "# There are 50 credit cards -> 50+1 = 51 newline characters\n",
    "# There is a padding: trailing chars at end of each line, also written in the last line\n",
    "padding = '1010'\n",
    "\n",
    "# Now i want to know how many characters form a credit card number\n",
    "with open(filename, mode= 'r') as f:\n",
    "    file_content = f.read()\n",
    "\n",
    "lines_num = 51\n",
    "total_bits = len(file_content) # total number of digits\n",
    "# (\\n = 1 bit)\n",
    "valid_bits = total_bits - lines_num * len(padding) - (lines_num - 1) * 1\n",
    "card_bits = valid_bits / 50\n",
    "card_length = card_bits/6\n",
    "\n",
    "print(\"total bits:\", total_bits)\n",
    "print(\"valid bits (excluded padding and newlines):\", valid_bits)\n",
    "print(\"card bits:\", card_bits)\n",
    "print(\"card length (spaces included):\", card_length)\n",
    "\n",
    "\n",
    "binary_cards = []\n",
    "id = 0\n",
    "with open(filename, mode= 'r') as f:\n",
    "    for line in f:\n",
    "        clean_line = line[: -5] # removes \"1010\\n\" at end of string\n",
    "        # tried with line.removesuffix(\"1010\\n\") and line.removesuffix(\"1010\") but does nothing\n",
    "        # check if line contains a valid credit card number\n",
    "        if clean_line:\n",
    "            encoded_chars = [clean_line[i:(i + 6)] for i in range(0, len(clean_line), 6)]\n",
    "            # decode the bit string into characters:\n",
    "            # first step: convert the binary string into a decimal number;\n",
    "            # second step: call chr() to retrieve the UTC8 encoded character\n",
    "            decoded_chars = [chr(int(c, 2)) for c in encoded_chars]\n",
    "            binary_cards.append( ''.join(decoded_chars))\n",
    "            id += 1\n",
    "\n",
    "\n",
    "binary_cards\n",
    "output_filename = \"decoded_credit_cards.txt\"\n",
    "with open(output_filename, mode = 'w') as f:\n",
    "    for card in binary_cards:\n",
    "        f.write(card + '\\n')\n",
    "f.close()"
   ]
  },
  {
   "cell_type": "code",
   "execution_count": 95,
   "metadata": {},
   "outputs": [
    {
     "data": {
      "text/plain": [
       "[{'ID': '2',\n",
       "  'JobTitle': 'Investment  Advisor',\n",
       "  'EmailAddress': 'Clint_Thorpe5003@bulaffy.com',\n",
       "  'FirstNameLastName': 'Clint Thorpe',\n",
       "  'CreditCard': '7083-8766-0251-2345',\n",
       "  'CreditCardType': 'American Express'},\n",
       " {'ID': '12',\n",
       "  'JobTitle': 'Retail Trainee',\n",
       "  'EmailAddress': 'Phillip_Carpenter9505@famism.biz',\n",
       "  'FirstNameLastName': 'Phillip Carpenter',\n",
       "  'CreditCard': '3657-0088-0820-5247',\n",
       "  'CreditCardType': 'American Express'},\n",
       " {'ID': '28',\n",
       "  'JobTitle': 'Project Manager',\n",
       "  'EmailAddress': 'Russel_Graves1378@extex.org',\n",
       "  'FirstNameLastName': 'Russel Graves',\n",
       "  'CreditCard': '6718-4818-8011-6024',\n",
       "  'CreditCardType': 'American Express'},\n",
       " {'ID': '39',\n",
       "  'JobTitle': 'Stockbroker',\n",
       "  'EmailAddress': 'Leanne_Newton1268@typill.biz',\n",
       "  'FirstNameLastName': 'Leanne Newton',\n",
       "  'CreditCard': '5438-0816-4166-4847',\n",
       "  'CreditCardType': 'American Express'},\n",
       " {'ID': '57',\n",
       "  'JobTitle': 'Budget Analyst',\n",
       "  'EmailAddress': 'Tony_Giles1960@iatim.tech',\n",
       "  'FirstNameLastName': 'Tony Giles',\n",
       "  'CreditCard': '8130-3425-7573-7745',\n",
       "  'CreditCardType': 'American Express'},\n",
       " {'ID': '62',\n",
       "  'JobTitle': 'CNC Operator',\n",
       "  'EmailAddress': 'Owen_Allcott5125@bauros.biz',\n",
       "  'FirstNameLastName': 'Owen Allcott',\n",
       "  'CreditCard': '4156-0107-7210-2630',\n",
       "  'CreditCardType': 'American Express'},\n",
       " {'ID': '68',\n",
       "  'JobTitle': 'Project Manager',\n",
       "  'EmailAddress': 'Liam_Lynn3280@kideod.biz',\n",
       "  'FirstNameLastName': 'Liam Lynn',\n",
       "  'CreditCard': '7152-3247-6053-2233',\n",
       "  'CreditCardType': 'American Express'},\n",
       " {'ID': '74',\n",
       "  'JobTitle': 'Dentist',\n",
       "  'EmailAddress': 'Regina_Woodcock5820@yahoo.com',\n",
       "  'FirstNameLastName': 'Regina Woodcock',\n",
       "  'CreditCard': '0208-1753-3870-8002',\n",
       "  'CreditCardType': 'American Express'},\n",
       " {'ID': '81',\n",
       "  'JobTitle': 'HR Specialist',\n",
       "  'EmailAddress': 'Carter_Wallace9614@atink.com',\n",
       "  'FirstNameLastName': 'Carter Wallace',\n",
       "  'CreditCard': '4256-7201-6717-4322',\n",
       "  'CreditCardType': 'American Express'},\n",
       " {'ID': '92',\n",
       "  'JobTitle': 'Staffing Consultant',\n",
       "  'EmailAddress': 'Maia_Stark2797@jiman.org',\n",
       "  'FirstNameLastName': 'Maia Stark',\n",
       "  'CreditCard': '3851-1403-1734-6321',\n",
       "  'CreditCardType': 'American Express'},\n",
       " {'ID': '97',\n",
       "  'JobTitle': 'Stockbroker',\n",
       "  'EmailAddress': 'Ciara_Lomax982@bauros.biz',\n",
       "  'FirstNameLastName': 'Ciara Lomax',\n",
       "  'CreditCard': '3702-3440-2472-5424',\n",
       "  'CreditCardType': 'American Express'},\n",
       " {'ID': '116',\n",
       "  'JobTitle': 'Staffing Consultant',\n",
       "  'EmailAddress': 'Isabel_Ellwood1475@fuliss.net',\n",
       "  'FirstNameLastName': 'Isabel Ellwood',\n",
       "  'CreditCard': '3738-0882-0066-6683',\n",
       "  'CreditCardType': 'American Express'},\n",
       " {'ID': '148',\n",
       "  'JobTitle': 'CNC Operator',\n",
       "  'EmailAddress': 'Abdul_Townend2202@infotech44.tech',\n",
       "  'FirstNameLastName': 'Abdul Townend',\n",
       "  'CreditCard': '4224-1226-3557-3448',\n",
       "  'CreditCardType': 'American Express'},\n",
       " {'ID': '150',\n",
       "  'JobTitle': 'Fabricator',\n",
       "  'EmailAddress': 'Caleb_Poulton1735@atink.com',\n",
       "  'FirstNameLastName': 'Caleb Poulton',\n",
       "  'CreditCard': '8203-6875-5225-0341',\n",
       "  'CreditCardType': 'American Express'},\n",
       " {'ID': '151',\n",
       "  'JobTitle': 'Restaurant Manager',\n",
       "  'EmailAddress': 'Ronald_Lewis6777@deavo.com',\n",
       "  'FirstNameLastName': 'Ronald Lewis',\n",
       "  'CreditCard': '7212-0155-5014-8471',\n",
       "  'CreditCardType': 'American Express'},\n",
       " {'ID': '154',\n",
       "  'JobTitle': 'Bellman',\n",
       "  'EmailAddress': 'Faith_Seymour3829@twace.org',\n",
       "  'FirstNameLastName': 'Faith Seymour',\n",
       "  'CreditCard': '4170-5186-6887-6558',\n",
       "  'CreditCardType': 'American Express'},\n",
       " {'ID': '169',\n",
       "  'JobTitle': 'Assistant Buyer',\n",
       "  'EmailAddress': 'Anthony_Hancock9083@qater.org',\n",
       "  'FirstNameLastName': 'Anthony Hancock',\n",
       "  'CreditCard': '0832-3357-6010-6550',\n",
       "  'CreditCardType': 'American Express'},\n",
       " {'ID': '176',\n",
       "  'JobTitle': 'Healthcare Specialist',\n",
       "  'EmailAddress': 'Isabella_Willson5478@nanoff.biz',\n",
       "  'FirstNameLastName': 'Isabella Willson',\n",
       "  'CreditCard': '5177-4868-4623-0384',\n",
       "  'CreditCardType': 'American Express'},\n",
       " {'ID': '182',\n",
       "  'JobTitle': 'Pharmacist',\n",
       "  'EmailAddress': 'Stephanie_Darcy3298@bauros.biz',\n",
       "  'FirstNameLastName': 'Stephanie Darcy',\n",
       "  'CreditCard': '0264-4020-5106-5576',\n",
       "  'CreditCardType': 'American Express'},\n",
       " {'ID': '199',\n",
       "  'JobTitle': 'Investment  Advisor',\n",
       "  'EmailAddress': 'Ryan_Kennedy5565@corti.com',\n",
       "  'FirstNameLastName': 'Ryan Kennedy',\n",
       "  'CreditCard': '3166-6287-6242-7207',\n",
       "  'CreditCardType': 'American Express'}]"
      ]
     },
     "execution_count": 95,
     "metadata": {},
     "output_type": "execute_result"
    }
   ],
   "source": [
    "import json\n",
    "data = json.load(open('user_data.json'))\n",
    "#print (data) # type(data) = list\n",
    "\n",
    "#for i in range(len(data)):\n",
    "#    print(data[i]['FirstNameLastName'])\n",
    "\n",
    "filtered_data = []   \n",
    "for i in range(len(data)):\n",
    "    if data[i]['CreditCardType'] == \"American Express\":\n",
    "        filtered_data.append(data[i]) \n",
    "filtered_data"
   ]
  },
  {
   "cell_type": "code",
   "execution_count": 108,
   "metadata": {},
   "outputs": [],
   "source": [
    "columns = list(filtered_data[0].keys())\n",
    "columns\n",
    "values = list(filtered_data[0].values())\n",
    "values\n",
    "\n",
    "output_filename = \"american_express_user_data.csv\"\n",
    "with open(output_filename, mode = \"w\") as f:\n",
    "    #write header\n",
    "    for col in columns[:-1]:\n",
    "        f.write(col + \", \")\n",
    "    f.write(columns[-1] + \"\\n\")\n",
    "    # write users data\n",
    "    for user_idx in range(len(filtered_data)):\n",
    "        values = list(filtered_data[user_idx].values())\n",
    "        for val in values[:-1]:\n",
    "            f.write(val + \", \")\n",
    "        f.write(val[-1] + '\\n')\n",
    "f.close()"
   ]
  },
  {
   "cell_type": "markdown",
   "metadata": {},
   "source": [
    "6\\. Load the file from this url: [https://www.dropbox.com/s/7u3lm737ogbqsg8/mushrooms_categorized.csv?dl=1](https://www.dropbox.com/s/7u3lm737ogbqsg8/mushrooms_categorized.csv?dl=1) with Pandas. \n",
    "+ Explore the data (see the info of the data)\n",
    "+ Draw the istogram of the 'class' field. Decribe wath yuou see\n"
   ]
  },
  {
   "cell_type": "markdown",
   "metadata": {},
   "source": [
    "7\\. Load the remote file [https://www.dropbox.com/s/vkl89yce7xjdq4n/regression_generated.csv?dl=1](https://www.dropbox.com/s/vkl89yce7xjdq4n/regression_generated.csv?dl=1) with Pandas and plot a scatter plot all possible combination of the following fields:\n",
    "    \n",
    "  + features_1\n",
    "  + features_2\n",
    "  + features_3"
   ]
  },
  {
   "cell_type": "markdown",
   "metadata": {},
   "source": [
    "8\\. Load the same file of point 6, and convert the file to json with Pandas."
   ]
  }
 ],
 "metadata": {
  "kernelspec": {
   "display_name": "myenv",
   "language": "python",
   "name": "python3"
  },
  "language_info": {
   "codemirror_mode": {
    "name": "ipython",
    "version": 3
   },
   "file_extension": ".py",
   "mimetype": "text/x-python",
   "name": "python",
   "nbconvert_exporter": "python",
   "pygments_lexer": "ipython3",
   "version": "3.12.0"
  }
 },
 "nbformat": 4,
 "nbformat_minor": 2
}
