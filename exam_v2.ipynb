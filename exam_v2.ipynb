{
 "cells": [
  {
   "cell_type": "markdown",
   "metadata": {},
   "source": [
    "# Version 2"
   ]
  },
  {
   "cell_type": "markdown",
   "metadata": {},
   "source": [
    "### Numpy 4.4\n",
    "\n",
    "Use np.linspace to create an array of 100 numbers between 0 and 2π (includsive).\n",
    "\n",
    "  * Extract every 10th element using slice notation\n",
    "  * Reverse the array using slice notation\n",
    "  * Extract elements where the absolute difference between the sine and cosine functions evaluated at that element is less than 0.1\n",
    "  * Make a plot showing the sin and cos functions and indicate where they are close"
   ]
  },
  {
   "cell_type": "markdown",
   "metadata": {},
   "source": [
    "### Bash 3.2\n",
    "\n",
    "2.a Make a copy of the file `data.csv` removing the metadata and the commas between numbers; call it `data.txt`\n",
    "\n",
    "2\\.b How many even numbers are there?\n",
    "\n",
    "2\\.c Distinguish the entries on the basis of `sqrt(X^2 + Y^2 + Z^2)` is greater or smaller than `100*sqrt(3)/2`. Count the entries of each of the two groups \n",
    "\n",
    "2\\.d Make `n` copies of data.txt (with `n` an input parameter of the script), where the i-th copy has all the numbers divided by i (with `1<=i<=n`)."
   ]
  },
  {
   "cell_type": "markdown",
   "metadata": {},
   "source": [
    "```bash\n",
    "# imput parameter for point 4\n",
    "if [ -z $1 ]\n",
    "then\n",
    "    echo \"this script requires as input the name of the file to be created\"\n",
    "    exit\n",
    "else\n",
    "    n=$1\n",
    "    echo \"imput is $n\"\n",
    "fi\n",
    "\n",
    "# 2.a\n",
    "mkdir ex2\n",
    "cd ex2\n",
    "cp ../data.csv ./data.csv\n",
    "grep -v \"^#\" data.csv > data.txt #put rows that do not begin with #\n",
    "sed -i \"\" 's/,//g' data.txt \n",
    "\n",
    "# 2.b\n",
    "even_numbers=0\n",
    "while IFS= read -r line; do\n",
    "    for field in $line; do\n",
    "        if  (( field % 2 == 0 )) ; then\n",
    "            (( even_numbers++ ))\n",
    "        fi\n",
    "    done\n",
    "done < data.txt\n",
    "echo \"even numbers are $even_numbers\"\n",
    "\n",
    "#2.c\n",
    "# first three columns\n",
    "counter_lt=0\n",
    "counter_gt=0\n",
    "max_sqrt=$(echo \"100*sqrt(3/2)\" |bc)\n",
    "while IFS= read -r line; do\n",
    "    x=$(echo \"$line\" | cut -f 1 -d \" \")\n",
    "    y=$(echo \"$line\" | cut -f 2 -d \" \")\n",
    "    z=$(echo \"$line\" | cut -f 3 -d \" \")\n",
    "    sqrt=$(echo \"sqrt($x^2 + $y^2 + $z^2)\" | bc)\n",
    "    if [ $sqrt -lt $max_sqrt ]; then\n",
    "        ((counter_lt++)); else\n",
    "        ((counter_gt++))\n",
    "    fi\n",
    "done < data.txt\n",
    "echo \"entries with r<sqrt(3/2)*100 are $counter_lt, with r>sqrt(3/2)*100 are $counter_gt\"\n",
    "\n",
    "#2.d\n",
    "for (( i=1; i<=n; i++ )); do\n",
    "    while IFS= read -r line; do\n",
    "        echo \"$line\" | awk  -v divisor=\"$i\" '{for(j=1;j<=NF;j++) $j=sprintf(\"%.3f\", $j/divisor)}1' >> \"data_copy_$i\".txt\n",
    "        # -v divisor=\"$i\" passes i as a variable to awk\n",
    "        # awk '{}' is the basic syntax\n",
    "        # NF is the number of fields\n",
    "        # }1' ensures that the line is printed\n",
    "        # >> creates the file when not existing and appends to it during successive iterations\n",
    "    done < \"data.txt\"\n",
    "done\n",
    "```"
   ]
  }
 ],
 "metadata": {
  "language_info": {
   "name": "python"
  }
 },
 "nbformat": 4,
 "nbformat_minor": 2
}
