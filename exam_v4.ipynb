{
 "cells": [
  {
   "cell_type": "markdown",
   "metadata": {},
   "source": [
    "# Exam v 4"
   ]
  },
  {
   "cell_type": "markdown",
   "metadata": {},
   "source": [
    "### 4.2 Outer product\n",
    "\n",
    "Find the outer product of the following two vecotrs\n",
    "\n",
    "```python\n",
    "u = np.array([1,3,5,7])\n",
    "v = np.array([2,4,6,8])\n",
    "```\n",
    "\n",
    "Do this in the following ways:\n",
    "\n",
    "   * Using the function outer in numpy\n",
    "   * Using a nested for loop or list comprehension\n",
    "   * Using numpy broadcasting operatoins\n",
    "\n",
    "\n",
    "\n",
    "The outer product is given by:\n",
    "$$\n",
    "\\mathbf {u} \\otimes \\mathbf {v} =\\mathbf {u} \\mathbf {v} ^{\\textsf {T}}={\\begin{bmatrix}u_{1}\\\\u_{2}\\\\u_{3}\\\\u_{4}\\end{bmatrix}}{\\begin{bmatrix}v_{1}&v_{2}&v_{3}\\end{bmatrix}}={\\begin{bmatrix}u_{1}v_{1}&u_{1}v_{2}&u_{1}v_{3}\\\\u_{2}v_{1}&u_{2}v_{2}&u_{2}v_{3}\\\\u_{3}v_{1}&u_{3}v_{2}&u_{3}v_{3}\\\\u_{4}v_{1}&u_{4}v_{2}&u_{4}v_{3}\\end{bmatrix}}\n",
    "$$"
   ]
  },
  {
   "cell_type": "markdown",
   "metadata": {},
   "source": [
    "### 3.2 BASH"
   ]
  },
  {
   "cell_type": "markdown",
   "metadata": {},
   "source": [
    "###  7.3 Profile plot \n",
    "\n",
    "Produce a profile plot from a scatter plot.\n",
    "* Download the following dataset and load it as a pandas dataframe:\n",
    "```bash\n",
    "wget https://www.dropbox.com/s/hgnvyj9abatk8g6/residuals_261.npy\n",
    "```\n",
    "Note that you should use the `np.load()` function to load the file as a numpy array, call the `.item()` method, and then pass it to the `pd.DataFrame()` constructor.\n",
    "- Request 1:\n",
    "  * Inspect the dataset, you'll find two variables (features)\n",
    "  * Clean the sample by selecting the entries (rows) with the variable \"residual\" in absolute value smaller than 2\n",
    "  * perform a linear regression of \"residuals\" versus \"distances\" using `scipy.stats.linregress()` \n",
    "- Request 2:\n",
    "  * plot a seaborn jointplot of  \"residuals\" versus \"distances\", having seaborn performing a linear regression. The result of the regression should be displayed on the plot\n",
    "- Request 3:\n",
    "\n",
    "  Plot the binned mean +/- std of \"residuals\" versus \"distances\". To achieve this:\n",
    "  * Fill 3 numpy arrays\n",
    "    * x, serving as an array of bin centers for the \"distance\" variable. It should range from 0 to 20 with reasonable number of steps (bins)\n",
    "    * y, the mean values of the \"residuals\", estimated in slices (bins) of \"distance\"\n",
    "    * erry, the standard deviation of the  of the \"residuals\", estimated in slices (bins) of \"distance\"\n",
    "  * Plot this on top of the `sns.joinplot()` scatter and profile plot"
   ]
  },
  {
   "cell_type": "markdown",
   "metadata": {},
   "source": [
    "### 9.5\\. FFT of an image\n",
    "\n",
    "* Examine the provided image `moonlanding.png`, which is heavily contaminated with periodic noise. In this exercise, we aim to clean up the noise using the Fast Fourier Transform.\n",
    "* Load the image using pylab.imread().\n",
    "* Find and use the 2-D FFT function in scipy.fftpack, and plot the spectrum (Fourier transform of) the image. Do you have any trouble visualising the spectrum? If so,why?\n",
    "* The spectrum consists of high and low frequency components. The noise is contained in the high-frequency part of the spectrum, so set some of those components to zero (use array slicing).\n",
    "* Apply the inverse Fourier transform to see the resulting image."
   ]
  },
  {
   "cell_type": "markdown",
   "metadata": {},
   "source": [
    "### 10.4 Monte Carlo integration in high dimension\n",
    "\n",
    "Start of by computing the area of a circle of unit radius, by integrating the function \n",
    "\n",
    "$$\n",
    "f(x,y)=\n",
    "\\left\\{\n",
    "\\begin{array}{ll}\n",
    "      1 & x^2+y^2\\le 1 \\\\\n",
    "      0 & {\\rm elsewhere}\n",
    "\\end{array} \n",
    "\\right.\n",
    "$$\n",
    "\n",
    "* Generalize the result for a 10D sphere\n"
   ]
  },
  {
   "cell_type": "markdown",
   "metadata": {},
   "source": []
  }
 ],
 "metadata": {
  "language_info": {
   "name": "python"
  }
 },
 "nbformat": 4,
 "nbformat_minor": 2
}
