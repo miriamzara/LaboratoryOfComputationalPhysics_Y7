{
 "cells": [
  {
   "cell_type": "markdown",
   "id": "b5746bd0",
   "metadata": {},
   "source": [
    "# Lab 03: BASH\n",
    "\n",
    "The following exercises are meant to be solved by gathering the bash commands incrimentally in **two scripts**, one for ex 1.* the other for ex 2.* \n",
    "\n",
    "**AT THE EXAM THERE IS ALWAYS at least 1 EXERCISE ABOUT BASH. DONT OVERLOOK THIS**"
   ]
  },
  {
   "cell_type": "markdown",
   "id": "4e60de78",
   "metadata": {},
   "source": [
    "### Ex 1"
   ]
  },
  {
   "cell_type": "markdown",
   "id": "6759df36",
   "metadata": {},
   "source": [
    "**1\\.a** Make a new directory called `students` in your home. Download a csv file with the list of students of this lab from [here](https://www.dropbox.com/s/867rtx3az6e9gm8/LCP_22-23_students.csv) (use the `wget` command) and copy that to `students`. First check whether the file is already there\n",
    "```"
   ]
  },
  {
   "cell_type": "markdown",
   "id": "96e0bd9b",
   "metadata": {},
   "source": [
    "*My notes*\n",
    "\n",
    "`wget`is used to retrieve files from the internet. Examples of usage:\n",
    "\n",
    "```bash\n",
    "wget https://example.com/file.zip #download file in the pwd\n",
    "wget -O newfilename.zip https://example.com/file.zip #download and rename (big O stands for \"Output document\")\n",
    "wget -r https://example.com #download all the site and liked pages recursively\n",
    "wget -c https://example.com/largefile.zip #continue a download if it was interrupted\n",
    "```\n",
    "\n",
    "I have MacOS so I cannot use `wget`: my default command is `curl`which works similarly:\n",
    "\n",
    "```bash\n",
    "curl -O https://www.dropbox.com/scl/fi/bxv17nrbrl83vw6qrkiu9/LCP_22-23_students.csv #saves with the original name from the URL\n",
    "curl -o custom_name.csv https://www.dropbox.com/scl/fi/bxv17nrbrl83vw6qrkiu9/LCP_22-23_students.csv #specifies custom name"
   ]
  },
  {
   "cell_type": "markdown",
   "id": "5d9635fc",
   "metadata": {},
   "source": [
    "**My solution**\n",
    "\n",
    "```bash\n",
    "mkdir students\n",
    "find /students -name LCP_22-23_students.csv #search for the file in dir /students: no of course, the dir has just been created\n",
    "curl -L -O \"https://www.dropbox.com/scl/fi/bxv17nrbrl83vw6qrkiu9/LCP_22-23_students.csv?rlkey=47fakvatrtif3q3qw4q97p5b7&e=1\"\n",
    "# without the -L option, the content of the downloaded file was \"<!--status=302-->\" which indicates a redirect response from Dropbox\n",
    "# -L specifies to curl to follow the redirect automatically, and so enables to download the actual file correctly\n",
    "find . -name LCP_22-23_students.csv# \".\" stands for here in pwd\n",
    "cp LCP_22-23_students.csv ./students/LCP_22-23_students_copy.csv\n",
    "cd students\n",
    "ls\n",
    "cd -\n",
    "````"
   ]
  },
  {
   "cell_type": "markdown",
   "id": "798c0c9d",
   "metadata": {},
   "source": [
    "**1\\.b** Make two new files, one containing the students belonging to PoD, the other to Physics."
   ]
  },
  {
   "cell_type": "markdown",
   "id": "940cac64",
   "metadata": {},
   "source": [
    "**My solution**\n",
    "```bash\n",
    "cd students\n",
    "head -n 5 LCP_22-23_students.csv\n",
    "cut -d',' -f4 LCP_22-23_students.csv | grep -c \"PoD\" \n",
    "# focus on the 4th column, consider ',' as a delimiter, then retrieve and count the entries equal to \"PoD\". return the number of counts.\n",
    "# this is the basic command\n",
    "grep \"PoD\" LCP_22-23_students.csv > \"PoD_students.csv\" #std output redirection\n",
    "grep \"Physics\" LCP_22-23_students.csv > \"Physics_students.csv\"\n",
    "# this to also keep the header line (line n 1): \">>\" appends, \">\" overwrites\n",
    "head -n 1 LCP_22-23_students.csv > \"PoD_students.csv\" && grep \"PoD\" LCP_22-23_students.csv >> \"PoD_students.csv\"\n",
    "head -n 1 LCP_22-23_students.csv > \"Physics_students.csv\" && grep \"Physics\" LCP_22-23_students.csv >> \"Physics_students.csv\"\n",
    "```"
   ]
  },
  {
   "cell_type": "markdown",
   "id": "8a43d622",
   "metadata": {},
   "source": [
    "**1\\.c** For each letter of the alphabet, count the number of students whose surname starts with that letter. \n",
    "\n",
    "**1\\.d** Find out which is the letter with most counts."
   ]
  },
  {
   "cell_type": "markdown",
   "id": "20999daa",
   "metadata": {},
   "source": [
    "**My solution**\n",
    "```bash\n",
    "# this is the basic  sintax for iterating over alphabetic letters\n",
    "for letter in {a..z}; do echo $letter; done #lowercase\n",
    "for letter in {A..Z}; do echo $letter; done #uppercase\n",
    "# this goes into ex1c_script.sh\n",
    "#-------------------------------\n",
    "# wc -l means word counts, line. counts the number of lines which satisfy the conditions specified in grep\n",
    "max_count=$(cut -d',' -f1 LCP_22-23_students.csv | grep \"^A\" | wc -l)\n",
    "max_count_letter=A\n",
    "for letter in {A..Z}; do\n",
    "    #count=$(cut -d',' -f1 LCP_22-23_students.csv | grep -c \"^$letter\")\n",
    "    count=$(cut -d',' -f1 LCP_22-23_students.csv | grep \"^$letter\" | wc -l)\n",
    "    echo \"$letter: $count\"\n",
    "    if [ $count -gt $maxcount ]; then\n",
    "        max_count=$count\n",
    "        max_count_letter=$letter; fi\n",
    "    done\n",
    "echo \"The letter with maximum counts is $max_count_letter, with $max_count counts\"\n",
    "#-------------------------------\n",
    "chmod +x ex1c_script.sh #makes it executable\n",
    "./ex1c_script.sh #runs it, with no input\n",
    "```"
   ]
  },
  {
   "cell_type": "markdown",
   "id": "086a043c",
   "metadata": {},
   "source": [
    "**1\\.e** Assume an obvious numbering of the students in the file (first line is 1, second line is 2, etc.), group students \"modulo 18\", i.e. 1,19,37,.. 2,20,38,.. etc. and put each group in a separate file  "
   ]
  },
  {
   "cell_type": "markdown",
   "id": "25217cae",
   "metadata": {},
   "source": [
    "**My solution**\n",
    "\n",
    "```bash\n",
    "total_students=$(($(wc -l < LCP_22-23_students.csv) -1))\n",
    "header_line=$(head -n 1 LCP_22-23_students.csv)\n",
    "for (( i=0; i<=17; i++ )); do\n",
    "    echo $i\n",
    "    if [ -e \"${i}_mod18_students.csv\" ]; then rm \"${i}_mod18_students.csv\"; fi #if files already exists from previous execution, remove it\n",
    "    echo $header_line > \"${i}_mod18_students.csv\"; done #create new file and append header line\n",
    "\n",
    "#now iterate over the lines of the file \"LCP_22-23_students.csv\"\n",
    "for ((student=1, student<=((total_students + 1)); ))\n",
    "```\n"
   ]
  },
  {
   "cell_type": "markdown",
   "id": "1d730d21",
   "metadata": {},
   "source": [
    "### Ex 2"
   ]
  },
  {
   "cell_type": "markdown",
   "id": "4b87ecb7",
   "metadata": {},
   "source": [
    "2.a Make a copy of the file `data.csv` removing the metadata and the commas between numbers; call it `data.txt`"
   ]
  },
  {
   "cell_type": "markdown",
   "id": "344048c8",
   "metadata": {},
   "source": [
    "2\\.b How many even numbers are there?"
   ]
  },
  {
   "cell_type": "markdown",
   "id": "2a27138d",
   "metadata": {},
   "source": [
    "2\\.c Distinguish the entries on the basis of `sqrt(X^2 + Y^2 + Z^2)` is greater or smaller than `100*sqrt(3)/2`. Count the entries of each of the two groups "
   ]
  },
  {
   "cell_type": "markdown",
   "id": "e937ef4e",
   "metadata": {},
   "source": [
    "2\\.d Make `n` copies of data.txt (with `n` an input parameter of the script), where the i-th copy has all the numbers divided by i (with `1<=i<=n`)."
   ]
  }
 ],
 "metadata": {
  "kernelspec": {
   "display_name": "Python 3 (ipykernel)",
   "language": "python",
   "name": "python3"
  },
  "language_info": {
   "codemirror_mode": {
    "name": "ipython",
    "version": 3
   },
   "file_extension": ".py",
   "mimetype": "text/x-python",
   "name": "python",
   "nbconvert_exporter": "python",
   "pygments_lexer": "ipython3",
   "version": "3.9.7"
  }
 },
 "nbformat": 4,
 "nbformat_minor": 5
}
