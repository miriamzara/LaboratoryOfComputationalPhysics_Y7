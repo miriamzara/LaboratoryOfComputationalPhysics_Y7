{
 "cells": [
  {
   "cell_type": "markdown",
   "id": "d232d447",
   "metadata": {},
   "source": [
    "### 4\\.4\\. (Numpy) Use ```np.linspace``` \n",
    "\n",
    "Use ```np.linspace``` to create an array of 100 numbers between $0$ and $2\\pi$ (inclusive).\n",
    "\n",
    "- Extract every 10th element using slice notation\n",
    "- Reverse the array using slice notation\n",
    "- Extract elements where the absolute difference between the sine and cosine functions evaluated at that element is less than 0.1\n",
    "- Make a plot showing the sin and cos functions and indicate where they are close"
   ]
  },
  {
   "cell_type": "markdown",
   "id": "0fb78e1e",
   "metadata": {},
   "source": [
    "### 3\\.2 (Bash)\n",
    "\n",
    "* Download a file named `data.csv` from [here](https://www.dropbox.com/scl/fi/kziuw2cw2ag1awqil0te3/data.csv?rlkey=qx5i8732ekl6japbmrp6675q9&dl=0). Make a copy of that file  removing the metadata and the commas between numbers; call it `data.txt`\n",
    "* How many even numbers are there?\n",
    "* Distinguish the entries on the basis of `sqrt(X^2 + Y^2 + Z^2)` is greater or smaller than `100*sqrt(3)/2`. Count the entries of each of the two groups \n",
    "* Make `n` copies of data.txt (with `n` an input parameter of the script), where the i-th copy has all the numbers divided by i (with `1<=i<=n`)\n"
   ]
  },
  {
   "cell_type": "markdown",
   "id": "9a89bd1c",
   "metadata": {},
   "source": [
    "### 8\\.2 (Linear Algebra) PCA on 3D dataset\n",
    "\n",
    "- Generate a dataset with three features each with $\\rm N$ entries ($\\rm N$ being $O(1000)$). With $N(\\mu,\\,\\sigma)$ the normal distribution with mean $\\mu$ and standard deviation $\\sigma$, generate the 3 variables \n",
    " such that:\n",
    " - $x_1$ is distributed as $N(0,\\, 1)$\n",
    " - $x_2$ is distributed as $x_1 + N(0,\\,3)$\n",
    " - $x_3$ is given by $2x_1+x_2$\n",
    "\n",
    "- Find the eigenvectors and eigenvalues of the covariance matrix of the dataset.\n",
    "- Find the eigenvectors and eigenvalues using SVD. Check that the two procedures yield to same result.\n",
    "\n",
    "What percent of the total dataset's variability is explained by the principal components? Given how the dataset was constructed, do these make sense? \n",
    "- Reduce the dimensionality of the system so that at least 99% of the total variability is retained.\n",
    "- Redefine the data in the basis yielded by the PCA procedure.\n",
    "- Plot the data points in the original and the new coordiantes as a set of scatter plots. Your final figure should have 2 rows of 3 plots each, where the columns show the (0,1), (0,2) and (1,2) proejctions."
   ]
  },
  {
   "cell_type": "markdown",
   "id": "bd445435",
   "metadata": {},
   "source": [
    "### 2D minimization of a six-hump camelback function\n",
    " \n",
    "$$\n",
    "f(x,\\,y)= (4-2.1x^2 + \\frac{x^4}{3})x^2 + xy+(4y^2-4)y^2\n",
    "$$\n",
    "has multiple global and local minima. Find the global minima of this function.\n",
    "\n",
    "Hints:\n",
    "\n",
    "- Variables can be restricted to $-2<x<2$ and $-1<y<1$.\n",
    "- Use `numpy.meshgrid()` and `pylab.imshow()` to find visually the regions.\n",
    "- Use `scipy.optimize.minimize()`, optionally trying out several of its methods.\n",
    "\n",
    "How many global minima are there, and what is the function value at those points? What happens for an initial guess of $(x,y)=(0,0)$?"
   ]
  },
  {
   "cell_type": "markdown",
   "id": "b4ff9e2d",
   "metadata": {},
   "source": [
    "### Rutherford Scattering\n",
    "\n",
    "The scattering angle $\\theta$ of $\\alpha$ particles hitting a positively charged nucleus of a Gold atom ($Z=79$) follows the rule:\n",
    "$$\n",
    "\\tan\\frac{1}{2}\\theta = \\frac{Ze^2}{2\\pi\\epsilon_0 E b}\n",
    "$$ \n",
    " \n",
    "where $E=7.7$ MeV and $b$ beam is the impact parameter. The beam is represented by a 2D gaussian distribution with $\\sigma = a_0/100$ for both coordinates ($a_0$ being the Bohr radius). Assume 1 million $\\alpha$ particles are shot on the gold atom.\n",
    "\n",
    "Computing the fraction of particles that \"bounce back\", i.e. those particle whose scattering angle is greater than \n",
    "$\\pi/2$ (which set a condition on the impact parameter $b$)"
   ]
  }
 ],
 "metadata": {
  "kernelspec": {
   "display_name": "Python 3 (ipykernel)",
   "language": "python",
   "name": "python3"
  },
  "language_info": {
   "codemirror_mode": {
    "name": "ipython",
    "version": 3
   },
   "file_extension": ".py",
   "mimetype": "text/x-python",
   "name": "python",
   "nbconvert_exporter": "python",
   "pygments_lexer": "ipython3",
   "version": "3.9.7"
  }
 },
 "nbformat": 4,
 "nbformat_minor": 5
}
