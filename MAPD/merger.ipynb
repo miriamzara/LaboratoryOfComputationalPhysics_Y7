{
 "cells": [
  {
   "cell_type": "code",
   "execution_count": 3,
   "metadata": {},
   "outputs": [
    {
     "name": "stdout",
     "output_type": "stream",
     "text": [
      "PDF processing complete!\n"
     ]
    }
   ],
   "source": [
    "from PyPDF2 import PdfReader, PdfWriter\n",
    "from reportlab.pdfgen import canvas\n",
    "from io import BytesIO\n",
    "\n",
    "def create_overlay(page_number, page_width, page_height):\n",
    "    \"\"\"Create an overlay with a page number and a frame.\"\"\"\n",
    "    packet = BytesIO()\n",
    "    can = canvas.Canvas(packet, pagesize=(page_width, page_height))\n",
    "\n",
    "    # Draw a frame (adjust margins as needed)\n",
    "    margin = 20  # Margin in points\n",
    "    can.setLineWidth(1)  # Frame line thickness\n",
    "    can.rect(margin, margin, page_width - 2 * margin, page_height - 2 * margin)\n",
    "\n",
    "    # Add page number\n",
    "    can.setFont(\"Helvetica\", 15)\n",
    "    can.drawString(page_width - 50, 30, f\"{page_number}\")  # Bottom-right corner\n",
    "    can.save()\n",
    "    packet.seek(0)\n",
    "    return PdfReader(packet).pages[0]\n",
    "\n",
    "def add_frames_and_page_numbers(input_pdf, output_pdf):\n",
    "    \"\"\"Merge PDFs, add frames, and page numbers.\"\"\"\n",
    "    reader = PdfReader(input_pdf)\n",
    "    writer = PdfWriter()\n",
    "\n",
    "    for i, page in enumerate(reader.pages):\n",
    "        # Get the dimensions of the page\n",
    "        page_width = float(page.mediabox.width)\n",
    "        page_height = float(page.mediabox.height)\n",
    "\n",
    "        # Create an overlay with a frame and page number\n",
    "        overlay = create_overlay(i + 1, page_width, page_height)\n",
    "\n",
    "        # Merge the overlay onto the page\n",
    "        page.merge_page(overlay)\n",
    "        writer.add_page(page)\n",
    "\n",
    "    # Write the final PDF with frames and page numbers\n",
    "    with open(output_pdf, \"wb\") as f:\n",
    "        writer.write(f)\n",
    "\n",
    "# Merge PDFs into one (optional step)\n",
    "def merge_pdfs(input_pdfs, merged_pdf):\n",
    "    \"\"\"Merge multiple PDFs into one.\"\"\"\n",
    "    writer = PdfWriter()\n",
    "    for pdf in input_pdfs:\n",
    "        writer.append(PdfReader(pdf))\n",
    "    with open(merged_pdf, \"wb\") as f:\n",
    "        writer.write(f)\n",
    "\n",
    "# Example usage\n",
    "# List of PDFs to merge\n",
    "input_pdfs = [\"2_Boolean_algebra.pdf\", \"3_Sequential_logic.pdf\", \"4_Arithmetic.pdf\", \"5_SAP-1.pdf\", \"6_SAP-2-3.pdf\"]\n",
    "merged_pdf = \"merged.pdf\"  # Output of merged PDF\n",
    "output_pdf = \"final_with_frames_and_numbers.pdf\"  # Final output PDF\n",
    "\n",
    "# Merge PDFs (if you need to combine them first)\n",
    "merge_pdfs(input_pdfs, merged_pdf)\n",
    "\n",
    "# Add frames and page numbers\n",
    "add_frames_and_page_numbers(merged_pdf, output_pdf)\n",
    "\n",
    "print(\"PDF processing complete!\")\n"
   ]
  }
 ],
 "metadata": {
  "kernelspec": {
   "display_name": "myenv",
   "language": "python",
   "name": "python3"
  },
  "language_info": {
   "codemirror_mode": {
    "name": "ipython",
    "version": 3
   },
   "file_extension": ".py",
   "mimetype": "text/x-python",
   "name": "python",
   "nbconvert_exporter": "python",
   "pygments_lexer": "ipython3",
   "version": "3.12.0"
  }
 },
 "nbformat": 4,
 "nbformat_minor": 2
}
