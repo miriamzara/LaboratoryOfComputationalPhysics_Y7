{
 "cells": [
  {
   "cell_type": "markdown",
   "metadata": {},
   "source": [
    "# Exam v 3"
   ]
  },
  {
   "cell_type": "markdown",
   "metadata": {},
   "source": [
    "### 4. 6\n",
    "\n",
    "Use broadcasting to create a grid of distances\n",
    "\n",
    "Route 66 crosses the following cities in the US: Chicago, Springfield, Saint-Louis, Tulsa, Oklahoma City, Amarillo, Santa Fe, Albuquerque, Flagstaff, Los Angeles\n",
    "The corresponding positions in miles are: 0, 198, 303, 736, 871, 1175, 1475, 1544, 1913, 2448\n",
    "\n",
    "  * Construct a 2D grid of distances among each city along Route 66\n",
    "  * Convert that in km (those savages...)\n",
    "\n",
    "  1 miles = 1.609 km"
   ]
  },
  {
   "cell_type": "markdown",
   "metadata": {},
   "source": [
    "### 3.1 BASH"
   ]
  },
  {
   "cell_type": "markdown",
   "metadata": {},
   "source": [
    "### 6.1 Pandas TDC signals analysis \n",
    "#### Description\n",
    "This exercise consists in analyzing a dataset containg timing information from a series of Time-to-Digital-Converters (TDC), implemented in a couple of FPGAs. Each measurement (i.e. each row of the input file) consists of:\n",
    "- a flag that specifies the type of message ('HEAD', which in this case is always 1),\n",
    "- two addresses of the TDC providing the signal ('FPGA' and 'TDC_CHANNEL')\n",
    "- the timing information ('ORBIT_CNT', 'BX_COUNTER', and 'TDC_MEAS'). \n",
    "\n",
    "    The triplet ('ORBIT_CNT', 'BX_COUNTER', and 'TDC_MEAS') is a format for the time information analogous to ('hours', 'minutes', 'seconds'):\n",
    "    - Each TDC count corresponds to 25/30 ns (**/ means division**),\n",
    "    - Each BX_COUNTER corresponds to 25 ns,\n",
    "    -  the ORBIT_CNT is increased every 'x' BX_COUNTER (with the value of x to be found)\n",
    "    \n",
    "This allows to store the time in a similar way to hours, minutes and seconds.\n",
    "\n",
    "#### Requests\n",
    "\n",
    "- 1\\. Create a Pandas DataFrame reading N rows of the 'data_000637.txt' dataset. Choose N to be smaller than or equal to the maximum number of rows and larger that 10k.\n",
    "\n",
    "- 2\\. Find out the number of BX in a ORBIT (the value 'x').\n",
    "\n",
    "- 3\\. Find out how much the data taking lasted. You can either make an estimate based on the fraction of the measurements (rows) you read, or perform this check precisely by reading out the whole dataset.\n",
    "\n",
    "- 4\\. Create a new column with the absolute time in ns (as a combination of the other three columns with timing information).\n",
    "\n",
    "- 5\\. Replace the values (all 1) of the HEAD column randomly with 0 or 1.\n",
    "\n",
    "- 6\\. Create a new DataFrame that contains only the rows with HEAD=1.\n",
    "\n",
    "- 7\\. Make two occupancy plots (one for each FPGA), i.e. plot the number of counts per TDC channel\n",
    "\n",
    "- 8\\. Use the groupby method to find out the noisy channels, i.e. the TDC channels with most counts (say the top 3)\n",
    "\n",
    "- 9\\. Count the number of unique orbits. Count the number of unique orbits with at least one measurement from TDC_CHANNEL=139"
   ]
  },
  {
   "cell_type": "markdown",
   "metadata": {},
   "source": []
  },
  {
   "cell_type": "markdown",
   "metadata": {
    "vscode": {
     "languageId": "plaintext"
    }
   },
   "source": [
    "### 10.3\\. Monte Carlo integration: hit/miss vs mean value method\n",
    "\n",
    "Consider the function \n",
    "\n",
    "$$f(x) =\\sin^2{\\frac{1}{x(2-x)}}$$\n",
    "\n",
    "* Compute the integral of $f(x)$ between 0 and 2 with the hit/miss method. Evaluate the error of your estimate\n",
    "* Repeat the integral with the mean value method. Evaluate the error and compare it with the previous one"
   ]
  }
 ],
 "metadata": {
  "language_info": {
   "name": "python"
  }
 },
 "nbformat": 4,
 "nbformat_minor": 2
}
