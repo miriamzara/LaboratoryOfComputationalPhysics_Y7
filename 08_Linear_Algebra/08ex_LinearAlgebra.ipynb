{
 "cells": [
  {
   "cell_type": "markdown",
   "metadata": {},
   "source": [
    "# Lab 08 Exercises: Linear Algebra (PCA)"
   ]
  },
  {
   "cell_type": "markdown",
   "metadata": {},
   "source": [
    "## 1\\. PCA on 3D dataset (done)\n",
    "\n",
    "1. (done) Generate a dataset with $M = 3$ features and N ${\\cal O}(1000)$ measurements. Specifically, with $N(\\mu,\\sigma)$ the normal distribution with mean $\\mu$ and $\\sigma$  standard deviation, generate the 3 features $x_{1,2,3}$ such that:\n",
    "    * $x_1$ is distributed as $N(0,1)$\n",
    "    * $x_2$ is distributed as $x_1+N(0,3)$\n",
    "    * $x_3$ is given by $2x_1+x_2$\n",
    "2. (done) Find the eigenvectors and eigenvalues of the covariance matrix of the dataset.\n",
    "3. (done) Find the eigenvectors and eigenvalues using SVD. Check that the two procedures yield to same result.\n",
    "4. (done) What percent of the total dataset's variability is explained by the principal components? Given how the dataset was constructed, do these make sense? Reduce the dimensionality of the system so that at least 99% of the total variability is retained.\n",
    "5. (done) Redefine the data in the basis yielded by the PCA procedure.\n",
    "6. (done) Plot the data points in the original and the new coordinates as a set of scatter plots. Your final figure should have 2 rows of 3 plots each, where the columns show the (0,1), (0,2) and (1,2) proejctions.\n"
   ]
  },
  {
   "cell_type": "markdown",
   "metadata": {},
   "source": [
    "### 1.\n",
    "\n",
    "Generate a dataset with $M = 3$ features and N ${\\cal O}(1000)$ measurements. Specifically, with $N(\\mu,\\sigma)$ the normal distribution with mean $\\mu$ and $\\sigma$  standard deviation, generate the 3 features $x_{1,2,3}$ such that:\n",
    "    * $x_1$ is distributed as $N(0,1)$\n",
    "    * $x_2$ is distributed as $x_1+N(0,3)$\n",
    "    * $x_3$ is given by $2x_1+x_2$"
   ]
  },
  {
   "cell_type": "code",
   "execution_count": 1,
   "metadata": {},
   "outputs": [
    {
     "name": "stdout",
     "output_type": "stream",
     "text": [
      "Covariance matrix: \n",
      " [[ 0.99371301  0.87634961  2.86377563]\n",
      " [ 0.87634961  9.8895715  11.64227071]\n",
      " [ 2.86377563 11.64227071 17.36982198]]\n"
     ]
    }
   ],
   "source": [
    "import pandas as pd\n",
    "from numpy import random\n",
    "import numpy as np\n",
    "random.seed(102340)\n",
    "\n",
    "N = 1000\n",
    "x1 = random.normal(loc= 0, scale = 1, size = N)\n",
    "x2 = x1 + random.normal(loc= 0, scale = 3, size = N)\n",
    "x3 = 2*x1 + x2\n",
    "\n",
    "# build numpy matrix\n",
    "X = np.vstack((x1, x2, x3))\n",
    "#print(data_array.shape) shape is (3 rows, 1000 columns) Ready to be passed on to numpy cov() method.\n",
    "\n",
    "# compute covariance matrix\n",
    "covariance_matrix = np.cov(X)\n",
    "print(\"Covariance matrix: \\n\" ,covariance_matrix)"
   ]
  },
  {
   "cell_type": "markdown",
   "metadata": {},
   "source": [
    "### 2.\n",
    "\n",
    "Find the eigenvectors and eigenvalues of the covariance matrix of the dataset.\n",
    "\n",
    "$$ \\Lambda = Q^T \\cdot \\Sigma \\cdot Q $$\n",
    "\n",
    "where $\\Lambda_{i,\\, i} = \\lambda_i$ is the i-th eigenvalue of $\\Sigma$ and the columns of $Q$ are the associated eigenvectors."
   ]
  },
  {
   "cell_type": "code",
   "execution_count": 2,
   "metadata": {},
   "outputs": [
    {
     "name": "stdout",
     "output_type": "stream",
     "text": [
      "eigenvectors: \n",
      " [[-0.11185642 -0.81649658  0.56641105]\n",
      " [-0.5818526  -0.40824829 -0.70340663]\n",
      " [-0.80556545  0.40824829  0.42941547]]\n",
      "\n",
      "eigenvalues: \n",
      " [2.61765766e+01+0.j 2.17820035e-16+0.j 2.07652988e+00+0.j]\n",
      "\n",
      "eigenvalues (real): \n",
      " [2.61765766e+01 2.17820035e-16 2.07652988e+00]\n"
     ]
    }
   ],
   "source": [
    "# Eigenvalues, eigenvectors using diagonalization\n",
    "from scipy import linalg as la\n",
    "eigval, eigvect = la.eig(covariance_matrix)\n",
    "\n",
    "print (\"eigenvectors: \\n\", eigvect, end = '\\n\\n')\n",
    "print (\"eigenvalues: \\n\", eigval, end = '\\n\\n') # by default, this returns complex values. but in this case (cov is symmetric)...\n",
    "print(\"eigenvalues (real): \\n\", np.real_if_close(eigval)) # ... we now the eigval are real"
   ]
  },
  {
   "cell_type": "code",
   "execution_count": 3,
   "metadata": {},
   "outputs": [
    {
     "name": "stdout",
     "output_type": "stream",
     "text": [
      "[[ 2.61765766e+01  6.55619476e-16 -1.73364006e-15]\n",
      " [ 3.86918756e-16 -4.77358134e-16 -1.43515792e-15]\n",
      " [-3.21964677e-15 -1.16573418e-15  2.07652988e+00]] \n",
      "\n",
      "\n",
      "[[2.61765766e+01 0.00000000e+00 0.00000000e+00]\n",
      " [0.00000000e+00 2.17820035e-16 0.00000000e+00]\n",
      " [0.00000000e+00 0.00000000e+00 2.07652988e+00]] \n",
      "\n",
      "\n"
     ]
    }
   ],
   "source": [
    "Lambda = np.diag( np.real_if_close(eigval) )\n",
    "Q = eigvect\n",
    "\n",
    "is_this_Lambda = Q.T @ covariance_matrix @ Q\n",
    "\n",
    "print(is_this_Lambda, '\\n\\n')\n",
    "print(Lambda, '\\n\\n')\n",
    "\n",
    "# The check is completed. The new basis vectors are:\n",
    "v0 = Q[:, 0]\n",
    "v1 = Q[: , 1]\n",
    "v2 = Q[:,  2]\n"
   ]
  },
  {
   "cell_type": "markdown",
   "metadata": {},
   "source": [
    "### 3. \n",
    "\n",
    "Find the eigenvectors and eigenvalues of $\\Sigma$ using SVD on the data matrix $X$ instead. Check that the two procedures give the expected result.\n",
    "\n",
    "\n",
    "Say $X$ is the data matrix with $n$ number of samples rows and $p$ (number of features) columns. The SVD decomposition on $X$ is:\n",
    "\n",
    "$$ X = U\\cdot D \\cdot V^T$$\n",
    "\n",
    "and, given that, as before, $\\Lambda = Q^T\\cdot \\Sigma \\cdot Q$,  is the eigendecomposition of $\\Sigma$, \n",
    "\n",
    "then\n",
    "\n",
    "$$ \\Lambda_{i, i} = \\frac{ (D_{i,\\,i})^2}{N-1}$$\n",
    "\n",
    "and \n",
    "\n",
    "$$ V = Q$$\n",
    "\n",
    "More precisely, the above identity is expected to be valid up to a re-ordering of the columns of $Q$, i.e. the eigenvalue -th of $\\Lambda$ could be in the j-th diagonal element of $D$ with $j \\neq i$. What matters is that the set of eigenvalues and eigenvectors is the same."
   ]
  },
  {
   "cell_type": "code",
   "execution_count": 4,
   "metadata": {},
   "outputs": [
    {
     "name": "stdout",
     "output_type": "stream",
     "text": [
      "[1.61909691e+02 4.55471094e+01 1.49536927e-14] \n",
      "\n",
      "\n",
      "[[-0.11191164  0.56640014 -0.81649658]\n",
      " [-0.58178403 -0.70346334 -0.40824829]\n",
      " [-0.8056073   0.42933694  0.40824829]] \n",
      "\n",
      "\n",
      "Covariance matrix eigenvalues:  [2.62409890e+01 2.07661579e+00 2.23836762e-31]\n"
     ]
    }
   ],
   "source": [
    "# Eigenvalues, eigenvectors using SVD\n",
    "\n",
    "U, D_diagonal, Vt = la.svd(X.T) # I defined X with shape (3, 1000) so I need to transpose here\n",
    "\n",
    "print (D_diagonal,'\\n\\n')\n",
    "print( Vt.T, '\\n\\n')\n",
    "\n",
    "print(\"Covariance matrix eigenvalues: \", np.square(D_diagonal)/(N - 1)) # Same as before!"
   ]
  },
  {
   "cell_type": "markdown",
   "metadata": {},
   "source": [
    "### 4. \n",
    "\n",
    " What percent of the total dataset's variability is explained by the principal components? Given how the dataset was constructed, do these make sense? Reduce the dimensionality of the system so that at least 99% of the total variability is retained."
   ]
  },
  {
   "cell_type": "markdown",
   "metadata": {},
   "source": [
    "*Answer:*\n",
    "\n",
    "\n",
    "As we would have expected, there is an (almost) zero eigenvalue: this corresponds to the fact that x3 is a linear combination of x1 and x2 with no statistical noise at all.\n",
    "The two other eigenvalues have magnitude ratio 1:10. It corresponds to the fact that the std of the two variables x1 and x2 is different (ratio 1:3).\n",
    "\n",
    "\n",
    "The variability explained by taking the first $k < p$ largest eigenvalues of $\\Lambda$ is:\n",
    "\n",
    "$$\\frac{ \\sum_{i = 1}^{k} \\lambda_i }{tr(\\Lambda)}$$\n",
    "\n",
    "being $\\Lambda$ the covariance matrix of the dataset expressed in the new basis ($\\vec{x}' = Q^T \\vec{x}$). "
   ]
  },
  {
   "cell_type": "code",
   "execution_count": 5,
   "metadata": {},
   "outputs": [
    {
     "name": "stdout",
     "output_type": "stream",
     "text": [
      "0.9265025996635522\n"
     ]
    }
   ],
   "source": [
    "eigval = np.real_if_close(eigval)\n",
    "eigval.sort() # sort in ascending ordeer\n",
    "eigval = eigval[::-1] # reverse\n",
    "eigval\n",
    "\n",
    "\n",
    "p = 1 # principal components retained\n",
    "explained_variability = np.sum(eigval[:p]) / np.sum(eigval)\n",
    "\n",
    "print(explained_variability)"
   ]
  },
  {
   "cell_type": "markdown",
   "metadata": {},
   "source": [
    "*Answer* the principal component explains $\\simeq 92 \\%$ of the total variability. It makes sense, because the features $x_2$ and $x_3$ where build as functions of the first feature $x_1$. In order to retain $\\simeq 99 \\%$ of the total variability, the dimensionality needs to be reduce from $p = 3$ to $p = 2$."
   ]
  },
  {
   "cell_type": "markdown",
   "metadata": {},
   "source": [
    "### 5.\n",
    "\n",
    "Redefine the data in the basis yielded by the PCA procedure."
   ]
  },
  {
   "cell_type": "code",
   "execution_count": 6,
   "metadata": {},
   "outputs": [],
   "source": [
    "X_rotated = Q.T @ X # X_rotated has shape (3, 1000)"
   ]
  },
  {
   "cell_type": "markdown",
   "metadata": {},
   "source": [
    "### 6. \n",
    "\n",
    "Plot the data points in the original and the new coordinates as a set of scatter plots. Your final figure should have 2 rows of 3 plots each, where the columns show the (0,1), (0,2) and (1,2) proejctions."
   ]
  },
  {
   "cell_type": "code",
   "execution_count": 7,
   "metadata": {},
   "outputs": [
    {
     "data": {
      "image/png": "[encoded data removed]",
      "text/plain": [
       "<Figure size 640x480 with 6 Axes>"
      ]
     },
     "metadata": {},
     "output_type": "display_data"
    }
   ],
   "source": [
    "import matplotlib.pyplot as plt\n",
    "\n",
    "pairs = [[0, 1], [0, 2], [1, 2]]\n",
    "labels = [[\"x1\", \"x2\"], [\"x1\", \"x3\"], [\"x2\", \"x3\"]]\n",
    "rotated_labels = [[\"x1' \", \"x2' \"], [\"x1' \", \"x3' \"], [\"x2' \", \"x3' \"]]\n",
    "\n",
    "fig, axs = plt.subplots(nrows = 2, ncols = 3)\n",
    "for i in range(3):\n",
    "    axs[0, i].scatter(x = X[pairs[i][0], :], y = X[pairs[i][1], :], alpha = 0.5)\n",
    "    axs[1, i].scatter(x = X_rotated[pairs[i][0], :], y = X_rotated[pairs[i][1], :], color = \"red\", alpha = 0.7)\n",
    "    axs[0, i].set_xlabel(labels[i][0])\n",
    "    axs[0, i].set_ylabel(labels[i][1])\n",
    "\n",
    "    axs[1, i].set_xlabel(rotated_labels[i][0])\n",
    "    axs[1, i].set_ylabel(rotated_labels[i][1])\n",
    "\n",
    "    dt = np.linspace(-2.5, +2.5, 100)\n",
    "    axs[0, 0].plot(dt , dt)\n",
    "    axs[0, 1].plot( dt, 3 *dt)\n",
    "\n",
    "    \n",
    "\n",
    "plt.subplots_adjust(wspace = 0.6, hspace = 0.5)"
   ]
  },
  {
   "cell_type": "markdown",
   "metadata": {},
   "source": [
    "    * $x_1$ is distributed as $N(0,1)$\n",
    "    * $x_2$ is distributed as $x_1+N(0,3)$\n",
    "    * $x_3$ is given by $2x_1+x_2$\n",
    "\n",
    "The variable $x_2'$ is squeezed to zero. It corresponds to the coordinate along the direction given by:"
   ]
  },
  {
   "cell_type": "code",
   "execution_count": 8,
   "metadata": {},
   "outputs": [
    {
     "data": {
      "text/plain": [
       "array([ 0.56641105, -0.70340663,  0.42941547])"
      ]
     },
     "execution_count": 8,
     "metadata": {},
     "output_type": "execute_result"
    }
   ],
   "source": [
    "v2"
   ]
  },
  {
   "cell_type": "markdown",
   "metadata": {},
   "source": [
    "## 2\\. PCA on a nD dataset\n",
    "\n",
    "Start from the dataset you have genereted in the previous exercise and add uncorrelated random noise. Such noise should be represented by other 10 uncorrelated variables normal distributed, with standar deviation much smaller (say, a factor 50) than those used to generate the $x_1$ and $x_2$.\n",
    "\n",
    "Repeat the PCA procedure and compare the results with what you obtained before"
   ]
  },
  {
   "cell_type": "code",
   "execution_count": 13,
   "metadata": {},
   "outputs": [],
   "source": [
    "num_noise_variables = 10\n",
    "random.seed(102340)\n",
    "sigma = 1./10\n",
    "noise_matrix = np.zeros(shape = (num_noise_variables, N))\n",
    "for i in range(10):\n",
    "    noise_matrix[i,:] = random.normal(loc= 0, scale = sigma, size = N)"
   ]
  },
  {
   "cell_type": "code",
   "execution_count": 14,
   "metadata": {},
   "outputs": [
    {
     "data": {
      "text/plain": [
       "(13, 1000)"
      ]
     },
     "execution_count": 14,
     "metadata": {},
     "output_type": "execute_result"
    }
   ],
   "source": [
    "new_X = np.vstack( (X, noise_matrix) )\n",
    "new_X.shape"
   ]
  },
  {
   "cell_type": "code",
   "execution_count": 15,
   "metadata": {},
   "outputs": [
    {
     "name": "stdout",
     "output_type": "stream",
     "text": [
      "eigenvalues:  [ 2.61863697e+01  2.08696105e+00  1.14689591e-02  1.08676380e-02\n",
      "  1.03125909e-02  9.85093492e-03  9.52304003e-03  9.12082035e-03\n",
      "  8.90516018e-03  8.38629623e-03  5.61569050e-19 -1.01665994e-17\n",
      " -7.01356487e-16]\n"
     ]
    },
    {
     "data": {
      "text/plain": [
       "np.float64(0.9972334901740083)"
      ]
     },
     "execution_count": 15,
     "metadata": {},
     "output_type": "execute_result"
    }
   ],
   "source": [
    "covariance_matrix = np.cov(new_X)\n",
    "\n",
    "from scipy import linalg as la\n",
    "eigval, eigvect = la.eig(covariance_matrix)\n",
    "\n",
    "\n",
    "eigval = np.real_if_close(eigval)\n",
    "eigval.sort() # sort in ascending order\n",
    "eigval = eigval[::-1] #reverse (descending order)\n",
    "\n",
    "print(\"eigenvalues: \", eigval)\n",
    "\n",
    "\n",
    "p = 2 # principal components selected\n",
    "explained_variability = np.sum(eigval[:p]) / np.sum(eigval)\n",
    "explained_variability"
   ]
  },
  {
   "cell_type": "markdown",
   "metadata": {},
   "source": [
    "*Answer* The variables we added are uncorrelated and almost constant (their std is much smaller than the std of the first three features). Indeed still $p = 2 $ features are enough to explain $99\\%$ of the variability in the data."
   ]
  },
  {
   "cell_type": "markdown",
   "metadata": {},
   "source": [
    "## 3 \\. Looking at an oscillating spring (optional)\n",
    "\n",
    "Imagine you have $n$ cameras looking at a spring oscillating along the $x$ axis. Each  camera record the motion of the spring looking at it along a given direction defined by the pair $(\\theta_i, \\phi_i)$, the angles in spherical coordinates. \n",
    "\n",
    "Start from the simulation of the records (say ${\\cal O}(1000)$) of the spring's motion along the x axis, assuming a little random noise affects the measurements along the $y$. Rotate such dataset to emulate the records of each camera.\n",
    "\n",
    "Perform a Principal Component Analysis on the thus obtained dataset, aiming at finding the only one coordinate that really matters.\n"
   ]
  },
  {
   "cell_type": "markdown",
   "metadata": {},
   "source": [
    "## 4\\. PCA on the MAGIC dataset (optional)\n",
    "\n",
    "Perform a PCA on the magic04.data dataset"
   ]
  },
  {
   "cell_type": "code",
   "execution_count": 12,
   "metadata": {},
   "outputs": [
    {
     "name": "stdout",
     "output_type": "stream",
     "text": [
      "zsh:1: command not found: wget\n",
      "zsh:1: command not found: wget\n"
     ]
    }
   ],
   "source": [
    "# get the dataset and its description on the proper data directory\n",
    "!wget https://archive.ics.uci.edu/ml/machine-learning-databases/magic/magic04.data -P ~/data/\n",
    "!wget https://archive.ics.uci.edu/ml/machine-learning-databases/magic/magic04.names -P ~/data/ "
   ]
  }
 ],
 "metadata": {
  "kernelspec": {
   "display_name": "myenv",
   "language": "python",
   "name": "python3"
  },
  "language_info": {
   "codemirror_mode": {
    "name": "ipython",
    "version": 3
   },
   "file_extension": ".py",
   "mimetype": "text/x-python",
   "name": "python",
   "nbconvert_exporter": "python",
   "pygments_lexer": "ipython3",
   "version": "3.12.0"
  }
 },
 "nbformat": 4,
 "nbformat_minor": 2
}
