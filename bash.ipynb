{
 "cells": [
  {
   "cell_type": "markdown",
   "metadata": {
    "vscode": {
     "languageId": "plaintext"
    }
   },
   "source": [
    "###  Ex1"
   ]
  },
  {
   "cell_type": "markdown",
   "metadata": {},
   "source": [
    "### Bash 3.1 (20 min)\n",
    "1\\.a Make a new directory called `students` in your home. Download a csv file with the list of students of this lab from [here](https://www.dropbox.com/s/867rtx3az6e9gm8/LCP_22-23_students.csv) (use the `wget` command) and copy that to `students`. First check whether the file is already there\n",
    "\n",
    "**1\\.b** Make two new files, one containing the students belonging to PoD, the other to Physics.\n",
    "\n",
    "**1\\.c** For each letter of the alphabet, count the number of students whose surname starts with that letter. \n",
    "\n",
    "**1\\.d** Find out which is the letter with most counts.\n",
    "\n",
    "**1\\.e** Assume an obvious numbering of the students in the file (first line is 1, second line is 2, etc.), group students \"modulo 18\", i.e. 1,19,37,.. 2,20,38,.. etc. and put each group in a separate file  "
   ]
  },
  {
   "cell_type": "markdown",
   "metadata": {},
   "source": [
    "### EX 2"
   ]
  },
  {
   "cell_type": "markdown",
   "metadata": {},
   "source": [
    "2.a Make a copy of the file `data.csv` removing the metadata and the commas between numbers; call it `data.txt`\n",
    "\n",
    "2\\.b How many even numbers are there?\n",
    "\n",
    "2\\.c Distinguish the entries on the basis of `sqrt(X^2 + Y^2 + Z^2)` is greater or smaller than `100*sqrt(3)/2`. Count the entries of each of the two groups \n",
    "\n",
    "2\\.d Make `n` copies of data.txt (with `n` an input parameter of the script), where the i-th copy has all the numbers divided by i (with `1<=i<=n`)."
   ]
  },
  {
   "cell_type": "markdown",
   "metadata": {},
   "source": [
    "### bash code here:\n",
    "\n",
    "```bash\n",
    "# imput parameter\n",
    "# checking if the user provided an input\n",
    "if [ -z $1 ]\n",
    "then\n",
    "    echo \"this script requires as input the name of the file to be created\"\n",
    "    exit\n",
    "else\n",
    "    n=$1\n",
    "fi\n",
    "\n",
    "#2.a\n",
    "head -n 10 \"data.csv\"\n",
    "(grep -v \"^#\" \"data.csv\" ) > \"data.txt\"\n",
    "sed -i \" \" 's/,//g' \"data.txt\"\n",
    "#2.b\n",
    "even_counter=0\n",
    "odd_counter=0\n",
    "while IFS= read -r line; do\n",
    "    for field in $line; do\n",
    "        module=$(( $field % 2 ))\n",
    "        if [ $module -lt 1 ]; then\n",
    "            ((even_counter++))\n",
    "        else\n",
    "             ((odd_counter++))\n",
    "        fi\n",
    "    done\n",
    "done < \"data.txt\"\n",
    "echo \"even numbers are $even_counter, odd numbers are $odd_counter\"\n",
    "#2.c\n",
    "max_sqrt=$(echo \"scale=4; 100*sqrt(3)/2\" | bc)\n",
    "gt_counter=0\n",
    "lt_counter=0\n",
    "echo \"max sqrt= $max_sqrt\"\n",
    "while IFS= read -r line; do\n",
    "    x=$(echo \"$line\" | cut -f 1 -d \" \")\n",
    "    y=$(echo \"$line\" | cut -f 2 -d \" \")\n",
    "    z=$(echo \"$line\" | cut -f 3 -d \" \")\n",
    "    sqrt=$(echo \"scale=4; sqrt($x^2+$y^2+$z^2)\" | bc)\n",
    "    if (( $(echo \"scale=4; $sqrt >= $max_sqrt\" | bc) )); then\n",
    "        (( gt_counter++ ))\n",
    "    else\n",
    "         (( lt_counter++ ))\n",
    "    fi\n",
    "done < \"data.txt\"\n",
    "echo \"$gt_counter, $lt_counter\"\n",
    "# 2.d\n",
    "for ((i=1; i<=n; i++)); do\n",
    "    while IFS= read -r line; do\n",
    "        (echo \"$line\" | awk -v \"divisor=$i\" '{for(j=1; j<=NF; j++) $j=sprintf($j/divisor) }1' ) >> data_copy_{$i}.txt\n",
    "    done < \"data.txt\"\n",
    "done\n",
    "```"
   ]
  },
  {
   "cell_type": "code",
   "execution_count": 53,
   "metadata": {},
   "outputs": [],
   "source": [
    "%%bash\n",
    "n=1\n",
    "for ((i=1; i<=$n; i++)); do\n",
    "    echo \"# divided by $i\" >  data_copy_{$i}.txt\n",
    "    while IFS= read -r line; do\n",
    "        (echo \"$line\" | awk -v \"divisor=$i\" '{for (j=1; j<=NF; j++) $j=sprintf($j/divisor)}1') >> data_copy_{$i}.txt\n",
    "    done < \"data.txt\"\n",
    "done"
   ]
  },
  {
   "cell_type": "code",
   "execution_count": 54,
   "metadata": {},
   "outputs": [
    {
     "name": "stdout",
     "output_type": "stream",
     "text": [
      "\u001b[34m00_Lab_Introduction\u001b[m\u001b[m\n",
      "\u001b[34m01_Lab_Fundamentals\u001b[m\u001b[m\n",
      "\u001b[34m02_Lab_NumberRepresentation\u001b[m\u001b[m\n",
      "\u001b[34m03_Lab_Bash\u001b[m\u001b[m\n",
      "\u001b[34m04_Lab_Numpy\u001b[m\u001b[m\n",
      "\u001b[34m05_Lab_OSEMN\u001b[m\u001b[m\n",
      "\u001b[34m06_Pandas\u001b[m\u001b[m\n",
      "\u001b[34m07_Visualization\u001b[m\u001b[m\n",
      "\u001b[34m08_Linear_Algebra\u001b[m\u001b[m\n",
      "\u001b[34m09_Algorithms\u001b[m\u001b[m\n",
      "\u001b[34m10_MonteCarlo\u001b[m\u001b[m\n",
      "LCP_22-23_students.csv\n",
      "\u001b[34mLCP_A_projects\u001b[m\u001b[m\n",
      "\u001b[34mMAPD\u001b[m\u001b[m\n",
      "\u001b[34mPDF_stuff\u001b[m\u001b[m\n",
      "Physics_students.csv\n",
      "PoD_students.csv\n",
      "README.md\n",
      "README_GitInstructions.md\n",
      "\u001b[34m__pycache__\u001b[m\u001b[m\n",
      "bash.ipynb\n",
      "bash_ex1.sh\n",
      "\u001b[31mbash_ex2.sh\u001b[m\u001b[m\n",
      "\u001b[31mbash_script_v4.sh\u001b[m\u001b[m\n",
      "data.csv\n",
      "data.txt\n",
      "data.txt \n",
      "data_000637.txt\n",
      "data_copy_{1}.txt\n",
      "exam_v1.ipynb\n",
      "exam_v2.ipynb\n",
      "exam_v3.ipynb\n",
      "exam_v4.ipynb\n",
      "exam_v5.ipynb\n",
      "max-speeds.npy\n",
      "moonlanding.png\n",
      "\u001b[34mmyenv\u001b[m\u001b[m\n",
      "\u001b[34mpast_exams\u001b[m\u001b[m\n",
      "\u001b[34mpdf_files\u001b[m\u001b[m\n",
      "populations.txt\n",
      "requirements.txt\n",
      "residuals_261.npy\n",
      "\u001b[34mstudents\u001b[m\u001b[m\n",
      "students_.csv\n",
      "\u001b[34mtest_dir\u001b[m\u001b[m\n",
      "two_categories_scatter_plot.png\n"
     ]
    }
   ],
   "source": [
    "%%bash\n",
    "ls"
   ]
  },
  {
   "cell_type": "code",
   "execution_count": null,
   "metadata": {},
   "outputs": [],
   "source": []
  }
 ],
 "metadata": {
  "kernelspec": {
   "display_name": "Python 3 (ipykernel)",
   "language": "python",
   "name": "python3"
  },
  "language_info": {
   "codemirror_mode": {
    "name": "ipython",
    "version": 3
   },
   "file_extension": ".py",
   "mimetype": "text/x-python",
   "name": "python",
   "nbconvert_exporter": "python",
   "pygments_lexer": "ipython3",
   "version": "3.12.0"
  }
 },
 "nbformat": 4,
 "nbformat_minor": 4
}
