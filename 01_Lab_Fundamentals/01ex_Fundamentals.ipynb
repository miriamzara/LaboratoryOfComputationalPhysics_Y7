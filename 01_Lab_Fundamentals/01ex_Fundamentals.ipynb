{
 "cells": [
  {
   "cell_type": "markdown",
   "metadata": {},
   "source": [
    "0\\. Implement a function (whatever you want) and save it to a file (e.g. `function.py`). Import that file and use that function in this notebook.\n"
   ]
  },
  {
   "cell_type": "code",
   "execution_count": 13,
   "metadata": {},
   "outputs": [
    {
     "name": "stdout",
     "output_type": "stream",
     "text": [
      "64\n"
     ]
    }
   ],
   "source": [
    "from lab01exfunction import square\n",
    "\n",
    "print(square(8))"
   ]
  },
  {
   "cell_type": "markdown",
   "metadata": {},
   "source": [
    "1\\. Write the following as a list comprehension"
   ]
  },
  {
   "cell_type": "code",
   "execution_count": 3,
   "metadata": {},
   "outputs": [
    {
     "name": "stdout",
     "output_type": "stream",
     "text": [
      "[(0, 0), (0, 1), (0, 2), (0, 3), (1, 0), (1, 1), (1, 2), (1, 3), (2, 0), (2, 1), (2, 2), (2, 3)]\n",
      "\n",
      "[0, 4, 16]\n"
     ]
    }
   ],
   "source": [
    "# 1\n",
    "ans = []\n",
    "for i in range(3):\n",
    "    for j in range(4):\n",
    "        ans.append((i, j))\n",
    "print (ans, end = '\\n\\n')\n",
    "\n",
    "# 2\n",
    "ans = map(lambda x: x*x, filter(lambda x: x%2 == 0, range(5)))\n",
    "print (list(ans))"
   ]
  },
  {
   "cell_type": "code",
   "execution_count": 35,
   "metadata": {},
   "outputs": [
    {
     "name": "stdout",
     "output_type": "stream",
     "text": [
      "[(0, 0), (1, 0), (2, 0), (0, 1), (1, 1), (2, 1), (0, 2), (1, 2), (2, 2), (0, 3), (1, 3), (2, 3)]\n",
      "\n",
      "[0, 4, 16]\n"
     ]
    }
   ],
   "source": [
    "# 1\n",
    "# nested list comprehension\n",
    "ans = [(i, j) for j in range(4) for i in range(3)]\n",
    "print(ans, end= '\\n\\n')\n",
    "\n",
    "#2\n",
    "ans = [x**2 for x in range(5) if x%2 ==0 ]\n",
    "print(ans)"
   ]
  },
  {
   "cell_type": "markdown",
   "metadata": {},
   "source": [
    "2\\. Convert the following function into a pure function with no global variables or side effects\n",
    "\n",
    "\n",
    "*this is to remember that the interpreter treats immutable type function arguments as copies but mutable types arguments (such as list!) as references*"
   ]
  },
  {
   "cell_type": "code",
   "execution_count": 17,
   "metadata": {},
   "outputs": [
    {
     "name": "stdout",
     "output_type": "stream",
     "text": [
      "[1, 2, 3]\n",
      "[1, 2, 3, 0, 1, 2, 3, 4]\n",
      "[1, 2, 3, 0, 1, 2, 3, 4]\n"
     ]
    }
   ],
   "source": [
    "x = 5\n",
    "def f(alist):\n",
    "    for i in range(x):\n",
    "         alist.append(i)\n",
    "    return alist\n",
    "\n",
    "alist = [1,2,3]\n",
    "print(alist)\n",
    "ans = f(alist)\n",
    "print (ans)\n",
    "print (alist) # alist has been changed!"
   ]
  },
  {
   "cell_type": "code",
   "execution_count": 18,
   "metadata": {},
   "outputs": [
    {
     "name": "stdout",
     "output_type": "stream",
     "text": [
      "[1, 2, 3]\n",
      "[1, 2, 3, 0, 1, 2, 3, 4]\n",
      "[1, 2, 3]\n"
     ]
    }
   ],
   "source": [
    "import copy\n",
    "def f(alist):\n",
    "    new_list = copy.copy(alist)\n",
    "    for i in range(5):\n",
    "        new_list.append(i)\n",
    "    return new_list\n",
    "\n",
    "alist = [1,2,3]\n",
    "print(alist)\n",
    "ans = f(alist)\n",
    "print (ans)\n",
    "print (alist)"
   ]
  },
  {
   "cell_type": "markdown",
   "metadata": {},
   "source": [
    "3\\. Write a `decorator` hello that makes every wrapped function print “Hello!”, i.e. something like:\n",
    "\n",
    "```python\n",
    "@hello\n",
    "def square(x):\n",
    "    return x*x\n",
    "```\n",
    "\n"
   ]
  },
  {
   "cell_type": "markdown",
   "metadata": {},
   "source": [
    "`*args`, `**kwargs` stands for arguments and keyword arguments respectively\n",
    "\n",
    "`*args` are positional, unnamed arguments e.g. `square(8)`, 8 is a positional argument\n",
    "positional arguments, as the name suggest, are interpreted as their position says.\n",
    "e.g. \n",
    "\n",
    "```python\n",
    "def power(n,m):\n",
    "    return n**m\n",
    "```\n",
    "here `power(2,3)` is 2^3 while `power(3,2)` is 3^2. they are different and one should\n",
    "remember how the function was defined and pass the positional arguments in the correct order\n",
    "\n",
    "if one calls the function as\n",
    "`power(n=2, m=3)`, then the values (2,3) are passed as keyword arguments\n",
    "*kwargs are named arguments"
   ]
  },
  {
   "cell_type": "code",
   "execution_count": 29,
   "metadata": {},
   "outputs": [
    {
     "name": "stdout",
     "output_type": "stream",
     "text": [
      "Hello\n",
      "64\n"
     ]
    }
   ],
   "source": [
    "#here i specify that func can contain an arbitrary number of both\n",
    "#named and unnamed arguments\n",
    "\n",
    "def my_decorator(func):\n",
    "    def wrapped_func(*args, **kwargs):\n",
    "        print(\"Hello\")\n",
    "        return func(*args, **kwargs)\n",
    "    return wrapped_func\n",
    "\n",
    "@my_decorator\n",
    "def square(n):\n",
    "    return n**2\n",
    "\n",
    "m = square(n=8)\n",
    "print(m)"
   ]
  },
  {
   "cell_type": "markdown",
   "metadata": {},
   "source": [
    "4\\. Write the factorial function so that it a) does and b) does not use recursion."
   ]
  },
  {
   "cell_type": "code",
   "execution_count": 34,
   "metadata": {},
   "outputs": [
    {
     "name": "stdout",
     "output_type": "stream",
     "text": [
      "24\n"
     ]
    }
   ],
   "source": [
    "def factorial(n):\n",
    "    f = 1\n",
    "    for i in range(1, n+1):\n",
    "        f *= i\n",
    "    return f\n",
    "\n",
    "\n",
    "print(factorial(4))"
   ]
  },
  {
   "cell_type": "markdown",
   "metadata": {},
   "source": [
    "5\\. Use HOFs (zip in particular) to compute the weight of a circle, a disk and a sphere, assuming different radii and different densities:\n",
    "\n",
    "```python\n",
    "densities = {\"Al\":[0.5,1,2],\"Fe\":[3,4,5],\"Pb\": [15,20,30]}\n",
    "radii = [1,2,3]\n",
    "```\n",
    "\n",
    "where the entries of the dictionary's values are the linear, superficial and volumetric densities of the materials respectively.\n",
    "\n",
    "In particular define a list of three lambda functions using a comprehension that computes the circumference, the area and the volume for a given radius.\n"
   ]
  },
  {
   "cell_type": "code",
   "execution_count": 47,
   "metadata": {},
   "outputs": [
    {
     "name": "stdout",
     "output_type": "stream",
     "text": [
      "Al [[3.141592653589793, 3.141592653589793, 8.377580409572781], [6.283185307179586, 12.566370614359172, 67.02064327658225], [9.42477796076938, 28.274333882308138, 226.19467105846508]]\n",
      "Fe [[18.84955592153876, 12.566370614359172, 20.94395102393195], [37.69911184307752, 50.26548245743669, 167.5516081914556], [56.548667764616276, 113.09733552923255, 565.4866776461627]]\n",
      "Pb [[94.24777960769379, 62.83185307179586, 125.66370614359171], [188.49555921538757, 251.32741228718345, 1005.3096491487337], [282.7433388230814, 565.4866776461628, 3392.920065876976]]\n"
     ]
    }
   ],
   "source": [
    "from math import pi\n",
    "d_volumes = [lambda x: 2*pi*x, lambda x: pi* (x**2), lambda x: (4./3.)*pi*(x**3)]\n",
    "\n",
    "densities = {\"Al\":[0.5,1,2],\"Fe\":[3,4,5],\"Pb\": [15,20,30]}\n",
    "radii = [1,2,3]\n",
    "\n",
    "# I define a new dictiionary for weights, where the labels are materials and the values is a list of lists\n",
    "# where the inner list contains weights for a fixed radius\n",
    "weights = {}\n",
    "\n",
    "for material in densities.keys():\n",
    "    outer_list = []\n",
    "    for radius in radii:\n",
    "        #inner_list = [d_volumes[d](radius) * densities[material][d] for d in range(len(d_volumes))]\n",
    "        #but this below is better!\n",
    "        inner_list = [volume(radius) * density for volume,density in zip(d_volumes, densities[material])]\n",
    "        outer_list.append(inner_list)\n",
    "    weights[material] = outer_list\n",
    "\n",
    "for key, values in zip(weights.keys(), weights.values()):\n",
    "    print(key, values)"
   ]
  },
  {
   "cell_type": "markdown",
   "metadata": {},
   "source": [
    "6\\. Edit the class defintion to add an instance attribute of is_hungry = True to the Dog class. Then add a method called eat() which changes the value of is_hungry to False when called. Figure out the best way to feed each dog and then output “My dogs are hungry.” if all are hungry or “My dogs are not hungry.” if all are not hungry. The final output should look like this:\n",
    "\n",
    "`I have 3 dogs. \n",
    "Tom is 6. \n",
    "Fletcher is 7. \n",
    "Larry is 9. \n",
    "And they're all mammals, of course. \n",
    "My dogs are not hungry.\n",
    "`\n",
    "\n",
    "```python\n",
    "# Parent class\n",
    "class Dog:\n",
    "\n",
    "    # Class attribute\n",
    "    species = 'mammal'\n",
    "\n",
    "    # Initializer / Instance attributes\n",
    "    def __init__(self, name, age):\n",
    "        self.name = name\n",
    "        self.age = age\n",
    "\n",
    "    # instance method\n",
    "    def description(self):\n",
    "        return \"{} is {} years old\".format(self.name, self.age)\n",
    "\n",
    "    # instance method\n",
    "    def speak(self, sound):\n",
    "        return \"{} says {}\".format(self.name, sound)\n",
    "\n",
    "# Child class (inherits from Dog class)\n",
    "class RussellTerrier(Dog):\n",
    "    def run(self, speed):\n",
    "        return \"{} runs {}\".format(self.name, speed)\n",
    "\n",
    "# Child class (inherits from Dog class)\n",
    "class Bulldog(Dog):\n",
    "    def run(self, speed):\n",
    "        return \"{} runs {}\".format(self.name, speed)\n",
    "```"
   ]
  },
  {
   "cell_type": "code",
   "execution_count": 68,
   "metadata": {},
   "outputs": [
    {
     "name": "stdout",
     "output_type": "stream",
     "text": [
      "I have 3 dogs. Tom is 6 years old, Fletcher is 7 years old, Larry is 9 years old. And they are all mammal, of course.\n",
      "My dogs are not hungry.\n"
     ]
    }
   ],
   "source": [
    "class Dog:\n",
    "    # Class attribute\n",
    "    #these are not changeable\n",
    "    species = 'mammal'\n",
    "\n",
    "    # Initializer / Instance attributes\n",
    "    def __init__(self, name, age):\n",
    "        self.name = name\n",
    "        self.age = age\n",
    "        self.is_hungry = True\n",
    "\n",
    "    # instance method\n",
    "    def description(self):\n",
    "        return \"{} is {} years old\".format(self.name, self.age)\n",
    "    \n",
    "    # instance method\n",
    "    def speak(self, sound):\n",
    "        return \"{} says {}\".format(self.name, sound)\n",
    "    def eats(self):\n",
    "        self.is_hungry = False\n",
    "        return\n",
    "\n",
    "my_dogs = [Dog(name= 'Tom', age= 6), Dog(name= 'Fletcher', age= 7), Dog(name='Larry',age= 9)]\n",
    "\n",
    "\n",
    "\n",
    "print(f\"I have {len(my_dogs)} dogs\", end=\". \")\n",
    "for i, dog in enumerate(my_dogs): print(dog.description(), end = \". \" if i==len(my_dogs) -1 else \", \")\n",
    "print(f\"And they are all {my_dogs[0].species}, of course.\")\n",
    "\n",
    "\n",
    "for dog in my_dogs: dog.eats()\n",
    "#my_dogs[0].eats()\n",
    "#my_dogs[1].eats()\n",
    "#my_dogs[2].eats()\n",
    "\n",
    "from functools import reduce\n",
    "all_hungry_check = reduce(lambda x,y: x*y , [dog.is_hungry for dog in my_dogs])\n",
    "all_not_hungry_check = reduce(lambda x,y: x*y , [not(dog.is_hungry) for dog in my_dogs])\n",
    "\n",
    "if all_hungry_check == True:\n",
    "    print(\"My dogs are hungry.\")\n",
    "elif all_not_hungry_check == True:\n",
    "     print(\"My dogs are not hungry.\")"
   ]
  }
 ],
 "metadata": {
  "kernelspec": {
   "display_name": "myenv",
   "language": "python",
   "name": "python3"
  },
  "language_info": {
   "codemirror_mode": {
    "name": "ipython",
    "version": 3
   },
   "file_extension": ".py",
   "mimetype": "text/x-python",
   "name": "python",
   "nbconvert_exporter": "python",
   "pygments_lexer": "ipython3",
   "version": "3.12.0"
  }
 },
 "nbformat": 4,
 "nbformat_minor": 2
}
