{
 "cells": [
  {
   "cell_type": "markdown",
   "metadata": {},
   "source": [
    "# Modules/packages/libraries\n",
    "\n",
    "Definitions:\n",
    "\n",
    "  * Modules:\n",
    "  A module is a file which contains python functions, global variables etc. It is nothing but .py file which has python executable code / statement.\n",
    "\n",
    "  * Packages:\n",
    "  A package is a namespace which contains multiple package/modules. It is a directory which contains a special file `__init__.py`\n",
    "  \n",
    "  * Libraries:\n",
    "  A library is a collection of various packages. There is no difference between package and python library conceptually.\n",
    "  \n",
    "Modules/packages/libraries can be easily \"imported\" and made functional in your python code. A set of libriaries comes with every python installation. Others can be installed locally and then imported. Your own code sitting somewhere else in your local computer can be imported too.\n",
    "\n",
    "Further details (very important!) on packages and how to create them can be found online. We may find the need of creating our own during the course."
   ]
  },
  {
   "cell_type": "markdown",
   "metadata": {},
   "source": [
    "## notes from lecture\n",
    "\n",
    "Jupyter stands from Ju-lia, Py-thon and R. these are the three programming languages that Jupyter was made for.\n",
    "\n",
    "Modules is what i built up to this day.\n",
    "\n",
    "cross-compatibility of libraries was a real issue with c++ libraries. In python with pip everything is checked automatically and you do not have to know and care about these things.\n",
    "\n",
    "\n",
    "every know and then there might be an update to some library that breaks up cross-compatibility with other libraries. gith management of those libraries is a complicated thing."
   ]
  },
  {
   "cell_type": "code",
   "execution_count": 3,
   "metadata": {},
   "outputs": [
    {
     "name": "stdout",
     "output_type": "stream",
     "text": [
      "3.141592653589793\n",
      "3.141592653589793\n",
      "3.141592653589793\n",
      "2.6457513110645907\n"
     ]
    }
   ],
   "source": [
    "###### all the \"stuff\" that is in the math library can be used\n",
    "import math\n",
    "print(math.pi)\n",
    "\n",
    "# you can give math a label for convenience\n",
    "import math as m\n",
    "print (m.pi)\n",
    "\n",
    "# alternatively you can import only a given \"thing\" from the library\n",
    "from math import pi    #you can add several libraries at once, just list them separated by a \", \"\n",
    "print (pi)\n",
    "\n",
    "# or just get everything (very dangerous!!!)\n",
    "\"\"\"\n",
    "dangerous because you do not know what is inside the library\n",
    "never do this unless you know very well what is inside\n",
    "for example, you can do it when you import a module that you wrote yourself\n",
    "in math there may be variables and then you declare them again and you are losing them\n",
    "and you make a mess\n",
    "\"\"\"\n",
    "#from math import *\n",
    "#print (sqrt(7))"
   ]
  },
  {
   "cell_type": "markdown",
   "metadata": {},
   "source": [
    "To know which modules are there for you to use just type:"
   ]
  },
  {
   "cell_type": "code",
   "execution_count": 2,
   "metadata": {},
   "outputs": [
    {
     "name": "stdout",
     "output_type": "stream",
     "text": [
      "\n",
      "Please wait a moment while I gather a list of all available modules...\n",
      "\n",
      "test_sqlite3: testing with SQLite version 3.42.0\n"
     ]
    },
    {
     "name": "stderr",
     "output_type": "stream",
     "text": [
      "2024-10-23 10:53:10.389 Python[1889:51019] WARNING: Secure coding is not enabled for restorable state! Enable secure coding by implementing NSApplicationDelegate.applicationSupportsSecureRestorableState: and returning YES.\n"
     ]
    },
    {
     "name": "stdout",
     "output_type": "stream",
     "text": [
      "IPython             _tracemalloc        heapq               reprlib\n",
      "PIL                 _typing             hmac                resource\n",
      "__future__          _uuid               html                rlcompleter\n",
      "__hello__           _warnings           http                runpy\n",
      "__phello__          _weakref            idlelib             sched\n",
      "_abc                _weakrefset         imaplib             scipy\n",
      "_aix_support        _xxinterpchannels   imghdr              seaborn\n",
      "_ast                _xxsubinterpreters  importlib           secrets\n",
      "_asyncio            _xxtestfuzz         inspect             select\n",
      "_bisect             _zoneinfo           io                  selectors\n",
      "_blake2             abc                 ipaddress           shelve\n",
      "_bz2                aifc                ipykernel           shlex\n",
      "_codecs             antigravity         ipykernel_launcher  shutil\n",
      "_codecs_cn          appnope             itertools           signal\n",
      "_codecs_hk          argparse            jedi                site\n",
      "_codecs_iso2022     array               json                six\n",
      "_codecs_jp          ast                 jupyter             smtplib\n",
      "_codecs_kr          asttokens           jupyter_client      sndhdr\n",
      "_codecs_tw          asyncio             jupyter_core        socket\n",
      "_collections        atexit              keyword             socketserver\n",
      "_collections_abc    audioop             kiwisolver          sqlite3\n",
      "_compat_pickle      base64              lib2to3             sre_compile\n",
      "_compression        bdb                 linecache           sre_constants\n",
      "_contextvars        binascii            locale              sre_parse\n",
      "_crypt              bisect              logging             ssl\n",
      "_csv                builtins            lzma                stack_data\n",
      "_ctypes             bz2                 mailbox             stat\n",
      "_ctypes_test        cProfile            mailcap             statistics\n",
      "_curses             calendar            marshal             string\n",
      "_curses_panel       cgi                 math                stringprep\n",
      "_datetime           cgitb               matplotlib          struct\n",
      "_dbm                chunk               matplotlib_inline   subprocess\n",
      "_decimal            cmath               mimetypes           sunau\n",
      "_elementtree        cmd                 mmap                symtable\n",
      "_functools          code                modulefinder        sys\n",
      "_hashlib            codecs              multiprocessing     sysconfig\n",
      "_heapq              codeop              nest_asyncio        syslog\n",
      "_imp                collections         netrc               tabnanny\n",
      "_io                 colorsys            nis                 tarfile\n",
      "_json               comm                nntplib             telnetlib\n",
      "_locale             compileall          ntpath              tempfile\n",
      "_lsprof             concurrent          nturl2path          termios\n",
      "_lzma               configparser        numbers             test\n",
      "_markupbase         contextlib          numpy               textwrap\n",
      "_md5                contextvars         opcode              this\n",
      "_multibytecodec     contourpy           operator            threading\n",
      "_multiprocessing    copy                optparse            time\n",
      "_opcode             copyreg             os                  timeit\n",
      "_operator           crypt               packaging           tkinter\n",
      "_osx_support        csv                 pandas              token\n",
      "_pickle             ctypes              parso               tokenize\n",
      "_posixshmem         curses              pathlib             tomllib\n",
      "_posixsubprocess    cycler              pdb                 tornado\n",
      "_py_abc             dataclasses         pexpect             tqdm\n",
      "_pydatetime         datetime            pickle              trace\n",
      "_pydecimal          dateutil            pickletools         traceback\n",
      "_pyio               dbm                 pip                 tracemalloc\n",
      "_pylong             debugpy             pipes               traitlets\n",
      "_queue              decimal             pkgutil             tty\n",
      "_random             decorator           platform            turtle\n",
      "_scproxy            difflib             platformdirs        turtledemo\n",
      "_sha1               dis                 plistlib            types\n",
      "_sha2               doctest             poplib              typing\n",
      "_sha3               email               posix               tzdata\n",
      "_signal             encodings           posixpath           unicodedata\n",
      "_sitebuiltins       ensurepip           pprint              unittest\n",
      "_socket             enum                profile             urllib\n",
      "_sqlite3            errno               prompt_toolkit      uu\n",
      "_sre                executing           pstats              uuid\n",
      "_ssl                faulthandler        psutil              venv\n",
      "_stat               fcntl               pty                 warnings\n",
      "_statistics         filecmp             ptyprocess          wave\n",
      "_string             fileinput           pure_eval           wcwidth\n",
      "_strptime           fnmatch             pwd                 weakref\n",
      "_struct             fontTools           py_compile          webbrowser\n",
      "_symtable           fractions           pyclbr              wsgiref\n",
      "_sysconfigdata__darwin_darwin ftplib              pydoc               xdrlib\n",
      "_testbuffer         functools           pydoc_data          xml\n",
      "_testcapi           gc                  pyexpat             xmlrpc\n",
      "_testclinic         genericpath         pygments            xxlimited\n",
      "_testimportmultiple getopt              pylab               xxlimited_35\n",
      "_testinternalcapi   getpass             pyparsing           xxsubtype\n",
      "_testmultiphase     gettext             pytz                zipapp\n",
      "_testsinglephase    glob                queue               zipfile\n",
      "_thread             graphlib            quopri              zipimport\n",
      "_threading_local    grp                 random              zlib\n",
      "_tkinter            gzip                re                  zmq\n",
      "_tokenize           hashlib             readline            zoneinfo\n",
      "\n",
      "Enter any module name to get more help.  Or, type \"modules spam\" to search\n",
      "for modules whose name or summary contain the string \"spam\".\n",
      "\n",
      "None\n"
     ]
    },
    {
     "name": "stderr",
     "output_type": "stream",
     "text": [
      "/Users/miriamzara/LaboratoryOfComputationalPhysics_Y7/myenv/lib/python3.12/site-packages/tqdm/auto.py:21: TqdmWarning: IProgress not found. Please update jupyter and ipywidgets. See https://ipywidgets.readthedocs.io/en/stable/user_install.html\n",
      "  from .autonotebook import tqdm as notebook_tqdm\n"
     ]
    }
   ],
   "source": [
    "print (help('modules') )"
   ]
  },
  {
   "cell_type": "markdown",
   "metadata": {},
   "source": [
    "`pip` is a special package. It is used from the command line to install properly (e.g. matching the version of the local packages) new packages. It can also be used from within python to check i.e. the set installed packages and their versions. N.B.: only the installed packages on top of the default ones will be listed \n",
    "\n",
    "\n",
    "\n",
    "*three numbers e.g. scipy==2.13.1*\n",
    "\n",
    "- *if the first number changes, it surely breaks compatibility*\n",
    "- *the second one can break compatibility*\n",
    "- *the third is used to mean fixing bugs*"
   ]
  },
  {
   "cell_type": "code",
   "execution_count": null,
   "metadata": {},
   "outputs": [],
   "source": [
    "\"\"\"\"\"\n",
    "try:\n",
    "    # this doesn't work anymore\n",
    "    import pip\n",
    "    sorted([\"%s==%s\" % (i.key, i.version) for i in pip._internal.utils.misc.get_installed_distributions()])\n",
    "    print (\"within try\")\n",
    "\"\"\"\"\" \n",
    "# use this instead\n",
    "import pkg_resources\n",
    "installed_packages = pkg_resources.working_set\n",
    "installed_packages_list = sorted([\"%s==%s\" % (i.key, i.version)\n",
    "    for i in installed_packages])\n",
    "print(installed_packages_list)\n"
   ]
  },
  {
   "cell_type": "markdown",
   "metadata": {},
   "source": [
    "# Copies and Views\n",
    "\n",
    "#### Copies:\n",
    "* A **copy** creates a new object that is a duplicate of the original one.\n",
    "* Changes made to the copy do not affect the original object, and vice versa.\n",
    "* There are two types of copies:\n",
    "  * **Shallow Copy**: Only the top-level object is copied. If the original object contains references to other objects (e.g., a list of lists), the references are copied, not the objects themselves.\n",
    "  * **Deep Copy**: A complete copy is made, including all **nested** objects. Changes to any part of the deep copy won’t affect the original object."
   ]
  },
  {
   "cell_type": "code",
   "execution_count": 5,
   "metadata": {},
   "outputs": [
    {
     "name": "stdout",
     "output_type": "stream",
     "text": [
      "Original: [1, 2, [3, 4]]\n",
      "Original: [1, 2, [300, 4]]\n",
      "Shallow Copy: [100, 2, [300, 4]]\n"
     ]
    }
   ],
   "source": [
    "import copy\n",
    "original = [1, 2, [3, 4]]\n",
    "shallow_copy = copy.copy(original)\n",
    "print(\"Original:\", original)  # Output: [1, 2, [3, 4]]\n",
    "\n",
    "shallow_copy[0] = 100  # This won't affect the original\n",
    "shallow_copy[2][0] = 300  # This will affect the original's nested list\n",
    "\n",
    "print(\"Original:\", original)  # Output: [1, 2, [300, 4]]\n",
    "print(\"Shallow Copy:\", shallow_copy)  # Output: [100, 2, [300, 4]]\n"
   ]
  },
  {
   "cell_type": "markdown",
   "metadata": {},
   "source": [
    "#### Views:\n",
    "* A view provides a **reference** to the original object without creating a new object.\n",
    "* Changes made through the view directly affect the original object because the view is simply another way of accessing the original data.\n",
    "* We will see in the next classes that NumPy arrays and **Pandas DataFrames often deal with views when you slice or manipulate them**.\n",
    "\n",
    "\n",
    "*this because when you have big data (GB or TB size) you really want to avoid duplicating as much as possible because you dont have that much memory*"
   ]
  },
  {
   "cell_type": "code",
   "execution_count": null,
   "metadata": {},
   "outputs": [],
   "source": [
    "import numpy as np\n",
    "arr = np.array([1, 2, 3, 4])\n",
    "view = arr[1:3]  # This creates a view, not a copy\n",
    "\n",
    "view[0] = 100  # Modifies the original array\n",
    "\n",
    "print(\"Original array:\", arr)  # Output: [  1 100   3   4]\n",
    "print(\"View:\", view)  # Output: [100   3]"
   ]
  },
  {
   "cell_type": "markdown",
   "metadata": {},
   "source": [
    "# Functions\n",
    "\n",
    "*keys are valid when they can be HASHED (more or less: translated into a list of symbols)*\n",
    "\n",
    "*for example, lists are hashable and as such they can be used as keys for a dictionary,*\n",
    "*but most of the times of course you use a string as key*\n"
   ]
  },
  {
   "cell_type": "code",
   "execution_count": 11,
   "metadata": {},
   "outputs": [
    {
     "name": "stdout",
     "output_type": "stream",
     "text": [
      "9\n",
      "27\n",
      "cube 27\n",
      "square 9\n"
     ]
    }
   ],
   "source": [
    "def square(x):\n",
    "    \"\"\"Square of x.\"\"\"\n",
    "    return x*x\n",
    "\n",
    "def cube(x):\n",
    "    \"\"\"Cube of x.\"\"\"\n",
    "    return x*x*x\n",
    "\n",
    "# create a dictionary of functions\n",
    "funcs = {\n",
    "    'square': square,\n",
    "    'cube': cube,\n",
    "}\n",
    "\n",
    "x = 3\n",
    "print(square(x))\n",
    "print(cube(x))\n",
    "\n",
    "for func in sorted(funcs):\n",
    "    print (func, funcs[func](x))"
   ]
  },
  {
   "cell_type": "markdown",
   "metadata": {},
   "source": [
    "## Functions arguments"
   ]
  },
  {
   "cell_type": "markdown",
   "metadata": {},
   "source": [
    "In Python, whether arguments passed to a function are treated as views or copies depends on the data type of the argument and how it is handled inside the function. Here's how **Python handles** various types of arguments:\n",
    "\n",
    "**Immutable Types** (e.g., integers, strings, tuples):\n",
    "* For immutable types like `int`, `str`, and `tuple`, when you pass them as arguments to a function, Python creates a **copy** of the reference to the object, not the object itself.\n",
    "* Since these objects cannot be modified, **any attempt to change them inside the function results in the creation of a new object**, leaving the original object unchanged."
   ]
  },
  {
   "cell_type": "code",
   "execution_count": 8,
   "metadata": {},
   "outputs": [
    {
     "name": "stdout",
     "output_type": "stream",
     "text": [
      "Inside function: 11\n",
      "Outside function: 10\n"
     ]
    }
   ],
   "source": [
    "def modify(x):\n",
    "    x += 1\n",
    "    print(\"Inside function:\", x)\n",
    "\n",
    "a = 10\n",
    "modify(a)\n",
    "print(\"Outside function:\", a)"
   ]
  },
  {
   "cell_type": "markdown",
   "metadata": {},
   "source": [
    "**Mutable Types** (e.g., lists, dictionaries, sets):\n",
    "* For mutable types like `list`, `dict`, or `set`, Python passes a reference to the original object. This means that any modification made to the object inside the function **will affect** the original object outside the function, as they both reference the same object (this behaves like a view)."
   ]
  },
  {
   "cell_type": "code",
   "execution_count": 9,
   "metadata": {},
   "outputs": [
    {
     "name": "stdout",
     "output_type": "stream",
     "text": [
      "Inside function: [1, 2, 3, 4]\n",
      "Outside function: [1, 2, 3, 4]\n"
     ]
    }
   ],
   "source": [
    "def modify_list(lst):\n",
    "    lst.append(4)\n",
    "    print(\"Inside function:\", lst)\n",
    "\n",
    "my_list = [1, 2, 3]\n",
    "modify_list(my_list)\n",
    "print(\"Outside function:\", my_list)\n"
   ]
  },
  {
   "cell_type": "markdown",
   "metadata": {},
   "source": [
    "## Higher order functions\n",
    "\n",
    "A function that uses another function as an input argument or returns a function is known as a higher-order function (HOF). The most familiar examples are `map` and `filter`.\n",
    "\n",
    "*Also we look at `reduce` and `zip`*"
   ]
  },
  {
   "cell_type": "markdown",
   "metadata": {},
   "source": [
    "### map\n",
    "\n",
    "The map function applies a function to each member of a collection"
   ]
  },
  {
   "cell_type": "code",
   "execution_count": 12,
   "metadata": {},
   "outputs": [
    {
     "name": "stdout",
     "output_type": "stream",
     "text": [
      "[0, 1, 4, 9, 16]\n",
      "0\n",
      "1\n",
      "4\n",
      "9\n",
      "16\n"
     ]
    },
    {
     "data": {
      "text/plain": [
       "[0, 1, 4, 9, 16, 25]"
      ]
     },
     "execution_count": 12,
     "metadata": {},
     "output_type": "execute_result"
    }
   ],
   "source": [
    "x = list(map(square, range(5))) \n",
    "print (x)\n",
    "\n",
    "# Note the difference w.r.t python 2. In python 3 map retuns an iterator so you can do stuff like:\n",
    "for i in map(square,range(5)): print(i)\n",
    "\n",
    "# or\n",
    "[i for i in map(square,range(6))]"
   ]
  },
  {
   "cell_type": "markdown",
   "metadata": {},
   "source": [
    "### filter\n",
    "\n",
    "The filter function applies a predicate to each member of a collection, **retaining only** those members where the predicate is True"
   ]
  },
  {
   "cell_type": "code",
   "execution_count": 14,
   "metadata": {},
   "outputs": [
    {
     "name": "stdout",
     "output_type": "stream",
     "text": [
      "[0, 2, 4]\n",
      "<class 'range'>\n"
     ]
    }
   ],
   "source": [
    "def is_even(x):\n",
    "    return x%2 == 0\n",
    "\n",
    "print (list(filter(is_even, range(5))))\n",
    "#print(type(range(5)))"
   ]
  },
  {
   "cell_type": "markdown",
   "metadata": {},
   "source": [
    "Combinations in sequence of HOF are obviously possible"
   ]
  },
  {
   "cell_type": "code",
   "execution_count": null,
   "metadata": {},
   "outputs": [],
   "source": [
    "list(map(square, filter(is_even, range(5))))"
   ]
  },
  {
   "cell_type": "markdown",
   "metadata": {},
   "source": [
    "### reduce\n",
    "\n",
    "*Not that common anymore but good to know because it was a big thing at the beginning of big data computing*\n",
    "\n",
    "The `reduce` function reduces a collection using a binary operator to combine items two at a time. More often than not reduce can be substituted with a more efficient for loop. It is worth mentioning it for its key role in big-data applications together with map (the map-reduce paradigm). \n",
    "N.B.: it no loger exist as built-in function in python 3, it is now part of the `functools` library"
   ]
  },
  {
   "cell_type": "code",
   "execution_count": 15,
   "metadata": {},
   "outputs": [
    {
     "data": {
      "text/plain": [
       "15"
      ]
     },
     "execution_count": 15,
     "metadata": {},
     "output_type": "execute_result"
    }
   ],
   "source": [
    "from functools import reduce\n",
    "\n",
    "def my_add(x, y):\n",
    "    return x + y\n",
    "\n",
    "# another implementation of the sum function\n",
    "reduce(my_add, [1,2,3,4,5]) #output = 15"
   ]
  },
  {
   "cell_type": "markdown",
   "metadata": {},
   "source": [
    "### zip\n",
    "\n",
    "`zip` is useful when you need to iterate over matched elements of multiple lists"
   ]
  },
  {
   "cell_type": "code",
   "execution_count": 21,
   "metadata": {},
   "outputs": [
    {
     "name": "stdout",
     "output_type": "stream",
     "text": [
      "1 10 a\n",
      "2 20 b\n",
      "3 30 c\n",
      "4 40 d\n",
      "[(1, 10, 'a'), (2, 20, 'b'), (3, 30, 'c'), (4, 40, 'd')]\n",
      "[(1, 10, 'a'), (2, 20, 'b'), (3, 30, 'c')]\n"
     ]
    }
   ],
   "source": [
    "xs = [1, 2, 3, 4]\n",
    "ys = [10, 20, 30, 40]\n",
    "zs = ['a', 'b', 'c','d']\n",
    "\n",
    "for x, y, z in zip(xs, ys, zs):\n",
    "    print (x, y, z)\n",
    "\n",
    "print(list(zip(xs, ys, zs)))\n",
    "\n",
    "# No problem when sizes are not homogeneous\n",
    "# Python simply skips the elements with no pairing\n",
    "xs = [1, 2, 3]\n",
    "ys = [10, 20, 30, 40]\n",
    "zs = ['a', 'b', 'c',] # look there is an empty space and it doesnt matter\n",
    "print(list(zip(xs, ys, zs)))"
   ]
  },
  {
   "cell_type": "markdown",
   "metadata": {},
   "source": [
    "### Custom HOF"
   ]
  },
  {
   "cell_type": "code",
   "execution_count": null,
   "metadata": {},
   "outputs": [],
   "source": [
    "def custom_sum(xs, transform):\n",
    "    \"\"\"Returns the sum of xs after a user specified transform.\"\"\"\n",
    "    return sum(map(transform, xs))\n",
    "\n",
    "xs = range(5)\n",
    "print (custom_sum(xs, square))\n",
    "print (custom_sum(xs, cube))"
   ]
  },
  {
   "cell_type": "markdown",
   "metadata": {},
   "source": [
    "### Returning a function"
   ]
  },
  {
   "cell_type": "code",
   "execution_count": 22,
   "metadata": {},
   "outputs": [],
   "source": [
    "# this is nice!!\n",
    "\n",
    "\n",
    "def make_logger(target):\n",
    "    def logger(data):\n",
    "        with open(target, 'a') as f:\n",
    "            f.write(data + '\\n')\n",
    "    return logger\n",
    "\n",
    "foo_logger = make_logger('foo.txt') #foo.txt will be created if not there already\n",
    "foo_logger('Hello')\n",
    "foo_logger('World')"
   ]
  },
  {
   "cell_type": "markdown",
   "metadata": {},
   "source": [
    "*the exclamation mark ! at the beginning of the code cell*\n",
    "\n",
    "*tells jupyter that what is next needs to be executed from the command line*\n",
    "\n",
    "*cat is in fact a bash command*"
   ]
  },
  {
   "cell_type": "code",
   "execution_count": 24,
   "metadata": {},
   "outputs": [
    {
     "name": "stdout",
     "output_type": "stream",
     "text": [
      "Hello\n",
      "World\n"
     ]
    }
   ],
   "source": [
    "! cat 'foo.txt'"
   ]
  },
  {
   "cell_type": "markdown",
   "metadata": {},
   "source": [
    "## Anonimous functions (lambda)\n",
    "\n",
    "When using functional style, there is often the need to create specific functions that perform a limited task as input to a HOF such as map or filter. In such cases, these functions are often written as anonymous or lambda functions. \n",
    "The syntax is as follows:\n",
    "\n",
    "lambda *arguments* : *expression*\n",
    "\n",
    "\n",
    "If you find it hard to understand what a lambda function is doing, it should probably be rewritten as a regular function."
   ]
  },
  {
   "cell_type": "code",
   "execution_count": 31,
   "metadata": {},
   "outputs": [
    {
     "name": "stdout",
     "output_type": "stream",
     "text": [
      "7\n",
      "\n",
      "7\n",
      "\n",
      "0\n",
      "1\n",
      "4\n",
      "9\n",
      "16\n"
     ]
    }
   ],
   "source": [
    "suml = lambda x,y: x+y\n",
    "print(suml(3,4), end= '\\n\\n')\n",
    "print((lambda x,y: x+y)(3,4), end= '\\n\\n')\n",
    "for i in map(lambda x: x*x, range(5)): print (i)"
   ]
  },
  {
   "cell_type": "code",
   "execution_count": 32,
   "metadata": {},
   "outputs": [
    {
     "name": "stdout",
     "output_type": "stream",
     "text": [
      "285\n"
     ]
    }
   ],
   "source": [
    "# what does this function do?\n",
    "# answer:\n",
    "# first make a list with [1, 4, 9, ... 100]\n",
    "# then sum all the elements\n",
    "from functools import reduce\n",
    "s1 = reduce(lambda x, y: x+y, map(lambda x: x**2, range(1,10)))\n",
    "print(s1)\n"
   ]
  },
  {
   "cell_type": "markdown",
   "metadata": {},
   "source": [
    "## Recursive functions "
   ]
  },
  {
   "cell_type": "code",
   "execution_count": 33,
   "metadata": {},
   "outputs": [
    {
     "name": "stdout",
     "output_type": "stream",
     "text": [
      "[1, 1, 2, 3, 5, 8, 13, 21, 34, 55]\n"
     ]
    }
   ],
   "source": [
    "# nice !!!\n",
    "\n",
    "def fib1(n):\n",
    "    \"\"\"Fib with recursion.\"\"\"\n",
    "\n",
    "    # base case\n",
    "    if n==0 or n==1:\n",
    "        return 1\n",
    "    # recursive case\n",
    "    else:\n",
    "        return fib1(n-1) + fib1(n-2)\n",
    "\n",
    "    \n",
    "print ([fib1(i) for i in range(10)])"
   ]
  },
  {
   "cell_type": "code",
   "execution_count": 34,
   "metadata": {},
   "outputs": [
    {
     "name": "stdout",
     "output_type": "stream",
     "text": [
      "[1, 1, 2, 3, 5, 8, 13, 21, 34, 55]\n"
     ]
    }
   ],
   "source": [
    "# In Python, a more efficient version that does not use recursion is\n",
    "\n",
    "def fib2(n):\n",
    "    \"\"\"Fib without recursion.\"\"\"\n",
    "    a, b = 0, 1\n",
    "    for i in range(1, n+1):\n",
    "        a, b = b, a+b # nice!\n",
    "    return b\n",
    "\n",
    "print ([fib2(i) for i in range(10)])"
   ]
  },
  {
   "cell_type": "code",
   "execution_count": 35,
   "metadata": {},
   "outputs": [
    {
     "name": "stdout",
     "output_type": "stream",
     "text": [
      "674 μs ± 1 μs per loop (mean ± std. dev. of 7 runs, 1,000 loops each)\n",
      "359 ns ± 1.2 ns per loop (mean ± std. dev. of 7 runs, 1,000,000 loops each)\n"
     ]
    }
   ],
   "source": [
    "# check indeed the timing:\n",
    "# timeit runs the loop a high number of times, in order to provide you with an accurate estimate\n",
    "%timeit fib1(20) # averaged over 1000 loops\n",
    "%timeit fib2(20) # this is a thousand factor faster! averaged over 1,000,000 loops"
   ]
  },
  {
   "cell_type": "markdown",
   "metadata": {},
   "source": [
    "## Iterators\n",
    "\n",
    "*for sake of completeness but we will never see them*\n",
    "\n",
    "Iterators represent streams of values. Because only one value is consumed at a time, they use very little memory. Use of iterators is very helpful for working with data sets too large to fit into RAM."
   ]
  },
  {
   "cell_type": "code",
   "execution_count": null,
   "metadata": {},
   "outputs": [],
   "source": [
    "# Iterators can be created from sequences with the built-in function iter()\n",
    "\n",
    "xs = [1,2,3]\n",
    "x_iter = iter(xs)\n",
    "\n",
    "print (next(x_iter))\n",
    "print (next(x_iter))\n",
    "print (next(x_iter))\n",
    "#print (next(x_iter))"
   ]
  },
  {
   "cell_type": "code",
   "execution_count": null,
   "metadata": {},
   "outputs": [],
   "source": [
    "# Most commonly, iterators are used (automatically) within a for loop\n",
    "# which terminates when it encouters a StopIteration exception\n",
    "\n",
    "x_iter = iter(xs)\n",
    "for x in x_iter:\n",
    "    print (x)"
   ]
  },
  {
   "cell_type": "markdown",
   "metadata": {},
   "source": [
    "## More on comprehensions"
   ]
  },
  {
   "cell_type": "code",
   "execution_count": null,
   "metadata": {},
   "outputs": [],
   "source": [
    "# A generator expression\n",
    "\n",
    "print ((x for x in range(10)))\n",
    "\n",
    "# A list comprehesnnion\n",
    "\n",
    "print ([x**2 for x in range(10)])\n",
    "\n",
    "# A set comprehension\n",
    "\n",
    "print ({x for x in range(10)})\n",
    "\n",
    "# A dictionary comprehension\n",
    "\n",
    "print ({x: \"x\" for x in range(10) if x%2==0})"
   ]
  },
  {
   "cell_type": "markdown",
   "metadata": {},
   "source": [
    "## Useful Modules\n",
    "\n",
    "*nowadays this stuff is already inside high level functions of libraries like pandas or numpy*\n",
    "\n",
    "*these native modules are not something we will use, but here just for completeness*\n",
    "\n",
    "You may want to have a look at the content of the following modules for further usage of (HO) functions:\n",
    "  - [operator](https://docs.python.org/3/library/operator.html)\n",
    "  - [functools](https://docs.python.org/3/library/functools.html)\n",
    "  - [itertools](https://docs.python.org/3/library/itertools.html)\n",
    "  - [toolz](https://pypi.org/project/toolz/)\n",
    "  - [funcy](https://pypi.org/project/funcy/)"
   ]
  },
  {
   "cell_type": "markdown",
   "metadata": {},
   "source": [
    "## Decorators\n",
    "\n",
    "Decorators are a type of HOF that take a function and return a wrapped function that provides additional useful properties.\n",
    "\n",
    "Examples:\n",
    "\n",
    "  - logging\n",
    "  - profiling\n",
    "  - Just-In-Time (JIT) compilation\n",
    "\n",
    "\n",
    ".\n",
    ".\n",
    "\n",
    "\n",
    "\n",
    "- logging: you may want to record things happening while the functions is exectued and store in log file\n",
    "- profiling: almost same thing"
   ]
  },
  {
   "cell_type": "code",
   "execution_count": 38,
   "metadata": {},
   "outputs": [],
   "source": [
    "def my_decorator(func):\n",
    "    def wrapper():\n",
    "        print(\"Something is happening before the function is called.\")\n",
    "        func()\n",
    "        print(\"Something is happening after the function is called.\")\n",
    "    return wrapper\n",
    "\n",
    "def say_whee():\n",
    "    print(\"Whee!\")\n",
    "\n",
    "say_whee = my_decorator(say_whee) # say_whee is now the decorated function"
   ]
  },
  {
   "cell_type": "code",
   "execution_count": 39,
   "metadata": {},
   "outputs": [
    {
     "name": "stdout",
     "output_type": "stream",
     "text": [
      "Something is happening before the function is called.\n",
      "Whee!\n",
      "Something is happening after the function is called.\n"
     ]
    }
   ],
   "source": [
    "say_whee()"
   ]
  },
  {
   "cell_type": "markdown",
   "metadata": {},
   "source": [
    "Python allows you to use decorators in a **simpler way** with the @ symbol, sometimes called the **“pie” syntax**"
   ]
  },
  {
   "cell_type": "code",
   "execution_count": 40,
   "metadata": {},
   "outputs": [],
   "source": [
    "def my_decorator(func):\n",
    "    def wrapper():\n",
    "        print(\"Something is happening before the function is called.\")\n",
    "        func()\n",
    "        print(\"Something is happening after the function is called.\")\n",
    "    return wrapper\n",
    "\n",
    "@my_decorator\n",
    "def say_whee():\n",
    "    print(\"Whee!\")"
   ]
  },
  {
   "cell_type": "code",
   "execution_count": 41,
   "metadata": {},
   "outputs": [
    {
     "name": "stdout",
     "output_type": "stream",
     "text": [
      "Something is happening before the function is called.\n",
      "Whee!\n",
      "Something is happening after the function is called.\n"
     ]
    }
   ],
   "source": [
    "say_whee()"
   ]
  },
  {
   "cell_type": "markdown",
   "metadata": {},
   "source": [
    "#### JIT\n",
    "\n",
    "A JIT (Just-In-Time) compiler refers to a technique used to **improve the performance** of code execution by **compiling** code into machine code at runtime, rather than interpreting it line by line. This helps speed up program execution by reducing the overhead of repeatedly interpreting code.\n",
    "\n",
    "While the standard Python interpreter, CPython, does not include a JIT compiler, there are alternative Python implementations that provide JIT compilation, such as PyPy or [numba](https://numba.pydata.org).\n",
    "\n",
    "JIT combines both interpretation and compilation. It interprets code initially, and as it identifies sections of code that are executed repeatedly, it compiles them to machine code, optimizing performance dynamically.\n",
    "\n",
    "\n",
    "\n",
    "*remember! python is slow because it is not compiled, it is interpreted.*"
   ]
  },
  {
   "cell_type": "code",
   "execution_count": null,
   "metadata": {},
   "outputs": [],
   "source": [
    "from numba import jit\n",
    "\n",
    "@jit\n",
    "def fast_sum(arr):\n",
    "    total = 0\n",
    "    for i in arr:\n",
    "        total += i\n",
    "    return total\n"
   ]
  },
  {
   "cell_type": "code",
   "execution_count": null,
   "metadata": {},
   "outputs": [],
   "source": [
    "fast_sum(list(range(100)))\n",
    "\n",
    "# is it really fast? Try to compare with my_add above"
   ]
  },
  {
   "cell_type": "markdown",
   "metadata": {},
   "source": [
    "# Classes and Objects\n",
    "\n",
    "*classes and objects are obsolete now (since 20 years). we do not need to have our main focus on this anymore.Nowadays our main focus is manipulation of enormous datasets in a distributed environment. this is what unabled AI to ramp up. Object-oriented programming is still here and still used, but nowadays the crucial things are others*\n",
    "\n",
    "Old school object-oriented programming is possible and often used in python. Classes are defined similarly to standard object-oriented languages, with similar functionalities.\n",
    "\n",
    "The main python doc [page](https://docs.python.org/3/tutorial/classes.html) is worth reading through "
   ]
  },
  {
   "cell_type": "code",
   "execution_count": 42,
   "metadata": {},
   "outputs": [
    {
     "name": "stdout",
     "output_type": "stream",
     "text": [
      "buddy 4\n",
      "None\n",
      "12\n"
     ]
    }
   ],
   "source": [
    "class Pet:\n",
    "    # the \"constructor\"\n",
    "    def __init__(self, name, age):  #inizialize the elements of the class\n",
    "        self.name=name\n",
    "        self.age=age\n",
    "    # class functions take the \"self\" parameter !!!\n",
    "    def set_name(self,name):\n",
    "        self.name=name\n",
    "    def convert_age(self,factor):\n",
    "        self.age*=factor\n",
    "\n",
    "buddy=Pet(\"buddy\",4)\n",
    "print (buddy.name, buddy.age)\n",
    "buddy.age=3\n",
    "print (buddy.convert_age(4))\n",
    "print (buddy.age)\n"
   ]
  },
  {
   "cell_type": "code",
   "execution_count": 43,
   "metadata": {},
   "outputs": [
    {
     "name": "stdout",
     "output_type": "stream",
     "text": [
      "tobia\n",
      "70\n"
     ]
    }
   ],
   "source": [
    "# ineritance is straightforward\n",
    "\n",
    "\n",
    "# new thing to know!! \n",
    "\n",
    "class Dog(Pet):\n",
    "    # the following variables is \"global\", i.e. holds for all \"Dog\" objects\n",
    "    species = \"mammal\"\n",
    "    # functions can be redefined as usual\n",
    "    def convert_age(self):\n",
    "        self.age*=7\n",
    "    def set_species(self, species):\n",
    "        self.species = species\n",
    "        \n",
    "puppy=Dog(\"tobia\",10)\n",
    "print(puppy.name)\n",
    "puppy.convert_age()\n",
    "print(puppy.age)"
   ]
  }
 ],
 "metadata": {
  "kernelspec": {
   "display_name": "myenv",
   "language": "python",
   "name": "python3"
  },
  "language_info": {
   "codemirror_mode": {
    "name": "ipython",
    "version": 3
   },
   "file_extension": ".py",
   "mimetype": "text/x-python",
   "name": "python",
   "nbconvert_exporter": "python",
   "pygments_lexer": "ipython3",
   "version": "3.12.0"
  }
 },
 "nbformat": 4,
 "nbformat_minor": 2
}
