{
 "cells": [
  {
   "cell_type": "markdown",
   "metadata": {},
   "source": [
    "### Numpy basics"
   ]
  },
  {
   "cell_type": "code",
   "execution_count": 1,
   "metadata": {},
   "outputs": [],
   "source": [
    "import numpy as np"
   ]
  },
  {
   "cell_type": "markdown",
   "metadata": {},
   "source": [
    "1\\. Find the row, column and overall means for the following matrix:\n",
    "\n",
    "```python\n",
    "m = np.arange(12).reshape((3,4))\n",
    "```"
   ]
  },
  {
   "cell_type": "code",
   "execution_count": 3,
   "metadata": {},
   "outputs": [
    {
     "name": "stdout",
     "output_type": "stream",
     "text": [
      "[[ 0  1  2  3]\n",
      " [ 4  5  6  7]\n",
      " [ 8  9 10 11]]\n",
      "row mean:  [1.5 5.5 9.5]\n",
      "col mean:  [4. 5. 6. 7.]\n",
      "total mean 5.5\n"
     ]
    }
   ],
   "source": [
    "m = np.arange(12).reshape((3,4))\n",
    "print(m)\n",
    "row_means = np.array([np.mean(m[i, :]) for i in range(m.shape[0])])\n",
    "col_means = np.array([np.mean(m[:, j]) for j in range(m.shape[1])])\n",
    "total_mean = np.mean(m, axis= None)\n",
    "\n",
    "print(\"row mean: \", row_means, end= '\\n')\n",
    "print(\"col mean: \", col_means, end= '\\n')\n",
    "print(\"total mean\", total_mean)"
   ]
  },
  {
   "cell_type": "markdown",
   "metadata": {},
   "source": [
    "2\\. Find the outer product of the following two vecotrs\n",
    "\n",
    "```python\n",
    "u = np.array([1,3,5,7])\n",
    "v = np.array([2,4,6,8])\n",
    "```\n",
    "\n",
    "Do this in the following ways:\n",
    "\n",
    "   * Using the function outer in numpy\n",
    "   * Using a nested for loop or list comprehension\n",
    "   * Using numpy broadcasting operatoins\n",
    "\n",
    "\n",
    "\n",
    "The outer product is given by:\n",
    "$$\n",
    "\\mathbf {u} \\otimes \\mathbf {v} =\\mathbf {u} \\mathbf {v} ^{\\textsf {T}}={\\begin{bmatrix}u_{1}\\\\u_{2}\\\\u_{3}\\\\u_{4}\\end{bmatrix}}{\\begin{bmatrix}v_{1}&v_{2}&v_{3}\\end{bmatrix}}={\\begin{bmatrix}u_{1}v_{1}&u_{1}v_{2}&u_{1}v_{3}\\\\u_{2}v_{1}&u_{2}v_{2}&u_{2}v_{3}\\\\u_{3}v_{1}&u_{3}v_{2}&u_{3}v_{3}\\\\u_{4}v_{1}&u_{4}v_{2}&u_{4}v_{3}\\end{bmatrix}}\n",
    "$$"
   ]
  },
  {
   "cell_type": "code",
   "execution_count": 13,
   "metadata": {},
   "outputs": [
    {
     "name": "stdout",
     "output_type": "stream",
     "text": [
      "Way 1: \n",
      "  [[ 2  4  6  8]\n",
      " [ 6 12 18 24]\n",
      " [10 20 30 40]\n",
      " [14 28 42 56]]\n",
      "Way 2: \n",
      "  [[ 2  4  6  8]\n",
      " [ 6 12 18 24]\n",
      " [10 20 30 40]\n",
      " [14 28 42 56]]\n",
      "Way 3: \n",
      "  [[ 2  4  6  8]\n",
      " [ 6 12 18 24]\n",
      " [10 20 30 40]\n",
      " [14 28 42 56]]\n"
     ]
    }
   ],
   "source": [
    "u = np.array([1,3,5,7])\n",
    "v = np.array([2,4,6,8])\n",
    "\n",
    "# 1 Way: np.outer\n",
    "outer_1 = np.outer(u, v)\n",
    "# 2 Way: nested list comprehension\n",
    "\n",
    "outer_2 = np.array( [ [u[i] * v[j]    for j in range(len(v))] for i in range(len(u)) ] )\n",
    "\n",
    "\n",
    "# 3 Way: using broadcasting\n",
    "outer_3 = u.reshape(4, 1) * v\n",
    "\n",
    "\n",
    "print(\"Way 1: \\n \", outer_1)\n",
    "print(\"Way 2: \\n \", outer_2)\n",
    "print(\"Way 3: \\n \", outer_3)"
   ]
  },
  {
   "cell_type": "markdown",
   "metadata": {},
   "source": [
    "3\\. Create a 10 by 6 matrix of random uniform numbers. Set all rows with any entry less than 0.1 to be zero\n",
    "\n",
    "Hint: Use the following numpy functions - np.random.random, np.any as well as Boolean indexing and the axis argument."
   ]
  },
  {
   "cell_type": "code",
   "execution_count": 24,
   "metadata": {},
   "outputs": [
    {
     "name": "stdout",
     "output_type": "stream",
     "text": [
      "m: \n",
      " [[0.37454012 0.95071431 0.73199394 0.59865848 0.15601864 0.15599452]\n",
      " [0.05808361 0.86617615 0.60111501 0.70807258 0.02058449 0.96990985]\n",
      " [0.83244264 0.21233911 0.18182497 0.18340451 0.30424224 0.52475643]\n",
      " [0.43194502 0.29122914 0.61185289 0.13949386 0.29214465 0.36636184]\n",
      " [0.45606998 0.78517596 0.19967378 0.51423444 0.59241457 0.04645041]\n",
      " [0.60754485 0.17052412 0.06505159 0.94888554 0.96563203 0.80839735]\n",
      " [0.30461377 0.09767211 0.68423303 0.44015249 0.12203823 0.49517691]\n",
      " [0.03438852 0.9093204  0.25877998 0.66252228 0.31171108 0.52006802]\n",
      " [0.54671028 0.18485446 0.96958463 0.77513282 0.93949894 0.89482735]\n",
      " [0.59789998 0.92187424 0.0884925  0.19598286 0.04522729 0.32533033]]\n",
      "masked m: \n",
      " [[0.37454012 0.95071431 0.73199394 0.59865848 0.15601864 0.15599452]\n",
      " [0.         0.         0.         0.         0.         0.        ]\n",
      " [0.83244264 0.21233911 0.18182497 0.18340451 0.30424224 0.52475643]\n",
      " [0.43194502 0.29122914 0.61185289 0.13949386 0.29214465 0.36636184]\n",
      " [0.         0.         0.         0.         0.         0.        ]\n",
      " [0.         0.         0.         0.         0.         0.        ]\n",
      " [0.         0.         0.         0.         0.         0.        ]\n",
      " [0.         0.         0.         0.         0.         0.        ]\n",
      " [0.54671028 0.18485446 0.96958463 0.77513282 0.93949894 0.89482735]\n",
      " [0.         0.         0.         0.         0.         0.        ]]\n"
     ]
    }
   ],
   "source": [
    "np.random.seed(42)\n",
    "m = np.random.random_sample(size=(10, 6))\n",
    "mask = (m < 0.1)\n",
    "print(\"m: \\n\", m)\n",
    "\n",
    "# First try\n",
    "#rows_to_zero = [i for i in range(mask.shape[0]) if np.any(mask[i, :] == True)]\n",
    "#print(\"rows to zero: \\n\", rows_to_zero)\n",
    "\n",
    "masked_m = np.array( [np.zeros(m.shape[1]) if np.any(mask[i, :] == True) else m[i, :]  for i in range(m.shape[0]) ] )\n",
    "print(\"masked m: \\n\", masked_m)"
   ]
  },
  {
   "cell_type": "markdown",
   "metadata": {},
   "source": [
    "4\\. Use np.linspace to create an array of 100 numbers between 0 and 2π (includsive).\n",
    "\n",
    "  * Extract every 10th element using slice notation\n",
    "  * Reverse the array using slice notation\n",
    "  * Extract elements where the absolute difference between the sine and cosine functions evaluated at that element is less than 0.1\n",
    "  * Make a plot showing the sin and cos functions and indicate where they are close"
   ]
  },
  {
   "cell_type": "code",
   "execution_count": 50,
   "metadata": {},
   "outputs": [
    {
     "name": "stdout",
     "output_type": "stream",
     "text": [
      "[0.72986496 0.76159822 0.79333148 0.82506474]\n"
     ]
    },
    {
     "data": {
      "text/plain": [
       "<matplotlib.collections.PolyCollection at 0x123a43290>"
      ]
     },
     "execution_count": 50,
     "metadata": {},
     "output_type": "execute_result"
    },
    {
     "data": {
      "image/png": "[encoded data removed]",
      "text/plain": [
       "<Figure size 640x480 with 1 Axes>"
      ]
     },
     "metadata": {},
     "output_type": "display_data"
    }
   ],
   "source": [
    "from math import pi, fabs,  cos, sin\n",
    "\n",
    "a = np.linspace(0, pi, 100)\n",
    "b = a[::10] # start = a[0] (included), stop= a[-1] (included), step = 10\n",
    "reversed_a = a[::-1]\n",
    "mask = np.array( [True if (fabs(cos(element) - sin(element)) < 0.1) else False for element in a] )\n",
    "c = a[mask]\n",
    "print(c)\n",
    "\n",
    "import matplotlib.pyplot as plt\n",
    "fig, ax = plt.subplots()\n",
    "ax.scatter(x = a, y = np.sin(a), color = 'violet' )\n",
    "ax.scatter(x = a, y = np.cos(a), color = 'lightblue' )\n",
    "ax.axvline(x = c[0], color = 'grey')\n",
    "ax.axvline(x = c[-1], color = 'grey')\n",
    "ax.fill_between(x= c, y1= np.ones(len(c)), y2= - np.ones(len(c)), color = 'lightgrey', alpha = 0.3)"
   ]
  },
  {
   "cell_type": "markdown",
   "metadata": {},
   "source": [
    "5\\. Create a matrix that shows the 10 by 10 multiplication table.\n",
    "\n",
    " * Find the trace of the matrix\n",
    " * Extract the anto-diagonal (this should be ```array([10, 18, 24, 28, 30, 30, 28, 24, 18, 10])```)\n",
    " * Extract the diagnoal offset by 1 upwards (this should be ```array([ 2,  6, 12, 20, 30, 42, 56, 72, 90])```)"
   ]
  },
  {
   "cell_type": "code",
   "execution_count": 63,
   "metadata": {},
   "outputs": [
    {
     "name": "stdout",
     "output_type": "stream",
     "text": [
      "multiplication matrix: \n",
      " \n",
      " [[  1   2   3   4   5   6   7   8   9  10]\n",
      " [  2   4   6   8  10  12  14  16  18  20]\n",
      " [  3   6   9  12  15  18  21  24  27  30]\n",
      " [  4   8  12  16  20  24  28  32  36  40]\n",
      " [  5  10  15  20  25  30  35  40  45  50]\n",
      " [  6  12  18  24  30  36  42  48  54  60]\n",
      " [  7  14  21  28  35  42  49  56  63  70]\n",
      " [  8  16  24  32  40  48  56  64  72  80]\n",
      " [  9  18  27  36  45  54  63  72  81  90]\n",
      " [ 10  20  30  40  50  60  70  80  90 100]]\n",
      "trace: \n",
      " 385\n",
      "offset diagonal: \n",
      " [ 2  6 12 20 30 42 56 72 90]\n",
      "anti diagonal: \n",
      " [10 18 24 28 30 30 28 24 18 10]\n"
     ]
    }
   ],
   "source": [
    "m = np.arange(1, 11).reshape(10, 1) * np.arange(1, 11) # or m = np.outer(np.arange(1, 11))\n",
    "print(\"multiplication matrix: \\n \\n\" , m)\n",
    "trace = np.trace(m)\n",
    "\n",
    "rows = np.arange(0, m.shape[0])\n",
    "\n",
    "offset_diagonal = m[rows[0:-1:], rows[1::]]\n",
    "antidiagonal= m[ rows[:: -1], rows[::+1]]\n",
    "\n",
    "print(\"trace: \\n\", trace)\n",
    "print(\"offset diagonal: \\n\", offset_diagonal)\n",
    "print(\"anti diagonal: \\n\", antidiagonal)"
   ]
  },
  {
   "cell_type": "markdown",
   "metadata": {},
   "source": [
    "6\\. Use broadcasting to create a grid of distances\n",
    "\n",
    "Route 66 crosses the following cities in the US: Chicago, Springfield, Saint-Louis, Tulsa, Oklahoma City, Amarillo, Santa Fe, Albuquerque, Flagstaff, Los Angeles\n",
    "The corresponding positions in miles are: 0, 198, 303, 736, 871, 1175, 1475, 1544, 1913, 2448\n",
    "\n",
    "  * Construct a 2D grid of distances among each city along Route 66\n",
    "  * Convert that in km (those savages...)\n",
    "\n",
    "  1 miles = 1.609 km"
   ]
  },
  {
   "cell_type": "code",
   "execution_count": 73,
   "metadata": {},
   "outputs": [
    {
     "name": "stdout",
     "output_type": "stream",
     "text": [
      "Chicago/Chicago           : 0.000 km\n",
      "Chicago/Springfield       : 318.582 km\n",
      "Chicago/Saint-Louis       : 487.527 km\n",
      "Chicago/Tulsa             : 1184.224 km\n",
      "Chicago/Oklahoma City     : 1401.439 km\n",
      "Chicago/Amarillo          : 1890.575 km\n",
      "Chicago/Santa Fe          : 2373.275 km\n",
      "Chicago/Albuquerque       : 2484.296 km\n",
      "Chicago/Flagstaff         : 3078.017 km\n",
      "Chicago/Los Angeles       : 3938.832 km\n",
      "Springfield/Chicago       : 318.582 km\n",
      "Springfield/Springfield   : 0.000 km\n",
      "Springfield/Saint-Louis   : 168.945 km\n",
      "Springfield/Tulsa         : 865.642 km\n",
      "Springfield/Oklahoma City : 1082.857 km\n",
      "Springfield/Amarillo      : 1571.993 km\n",
      "Springfield/Santa Fe      : 2054.693 km\n",
      "Springfield/Albuquerque   : 2165.714 km\n",
      "Springfield/Flagstaff     : 2759.435 km\n",
      "Springfield/Los Angeles   : 3620.250 km\n",
      "Saint-Louis/Chicago       : 487.527 km\n",
      "Saint-Louis/Springfield   : 168.945 km\n",
      "Saint-Louis/Saint-Louis   : 0.000 km\n",
      "Saint-Louis/Tulsa         : 696.697 km\n",
      "Saint-Louis/Oklahoma City : 913.912 km\n",
      "Saint-Louis/Amarillo      : 1403.048 km\n",
      "Saint-Louis/Santa Fe      : 1885.748 km\n",
      "Saint-Louis/Albuquerque   : 1996.769 km\n",
      "Saint-Louis/Flagstaff     : 2590.490 km\n",
      "Saint-Louis/Los Angeles   : 3451.305 km\n",
      "Tulsa/Chicago             : 1184.224 km\n",
      "Tulsa/Springfield         : 865.642 km\n",
      "Tulsa/Saint-Louis         : 696.697 km\n",
      "Tulsa/Tulsa               : 0.000 km\n",
      "Tulsa/Oklahoma City       : 217.215 km\n",
      "Tulsa/Amarillo            : 706.351 km\n",
      "Tulsa/Santa Fe            : 1189.051 km\n",
      "Tulsa/Albuquerque         : 1300.072 km\n",
      "Tulsa/Flagstaff           : 1893.793 km\n",
      "Tulsa/Los Angeles         : 2754.608 km\n",
      "Oklahoma City/Chicago     : 1401.439 km\n",
      "Oklahoma City/Springfield : 1082.857 km\n",
      "Oklahoma City/Saint-Louis : 913.912 km\n",
      "Oklahoma City/Tulsa       : 217.215 km\n",
      "Oklahoma City/Oklahoma City : 0.000 km\n",
      "Oklahoma City/Amarillo    : 489.136 km\n",
      "Oklahoma City/Santa Fe    : 971.836 km\n",
      "Oklahoma City/Albuquerque : 1082.857 km\n",
      "Oklahoma City/Flagstaff   : 1676.578 km\n",
      "Oklahoma City/Los Angeles : 2537.393 km\n",
      "Amarillo/Chicago          : 1890.575 km\n",
      "Amarillo/Springfield      : 1571.993 km\n",
      "Amarillo/Saint-Louis      : 1403.048 km\n",
      "Amarillo/Tulsa            : 706.351 km\n",
      "Amarillo/Oklahoma City    : 489.136 km\n",
      "Amarillo/Amarillo         : 0.000 km\n",
      "Amarillo/Santa Fe         : 482.700 km\n",
      "Amarillo/Albuquerque      : 593.721 km\n",
      "Amarillo/Flagstaff        : 1187.442 km\n",
      "Amarillo/Los Angeles      : 2048.257 km\n",
      "Santa Fe/Chicago          : 2373.275 km\n",
      "Santa Fe/Springfield      : 2054.693 km\n",
      "Santa Fe/Saint-Louis      : 1885.748 km\n",
      "Santa Fe/Tulsa            : 1189.051 km\n",
      "Santa Fe/Oklahoma City    : 971.836 km\n",
      "Santa Fe/Amarillo         : 482.700 km\n",
      "Santa Fe/Santa Fe         : 0.000 km\n",
      "Santa Fe/Albuquerque      : 111.021 km\n",
      "Santa Fe/Flagstaff        : 704.742 km\n",
      "Santa Fe/Los Angeles      : 1565.557 km\n",
      "Albuquerque/Chicago       : 2484.296 km\n",
      "Albuquerque/Springfield   : 2165.714 km\n",
      "Albuquerque/Saint-Louis   : 1996.769 km\n",
      "Albuquerque/Tulsa         : 1300.072 km\n",
      "Albuquerque/Oklahoma City : 1082.857 km\n",
      "Albuquerque/Amarillo      : 593.721 km\n",
      "Albuquerque/Santa Fe      : 111.021 km\n",
      "Albuquerque/Albuquerque   : 0.000 km\n",
      "Albuquerque/Flagstaff     : 593.721 km\n",
      "Albuquerque/Los Angeles   : 1454.536 km\n",
      "Flagstaff/Chicago         : 3078.017 km\n",
      "Flagstaff/Springfield     : 2759.435 km\n",
      "Flagstaff/Saint-Louis     : 2590.490 km\n",
      "Flagstaff/Tulsa           : 1893.793 km\n",
      "Flagstaff/Oklahoma City   : 1676.578 km\n",
      "Flagstaff/Amarillo        : 1187.442 km\n",
      "Flagstaff/Santa Fe        : 704.742 km\n",
      "Flagstaff/Albuquerque     : 593.721 km\n",
      "Flagstaff/Flagstaff       : 0.000 km\n",
      "Flagstaff/Los Angeles     : 860.815 km\n",
      "Los Angeles/Chicago       : 3938.832 km\n",
      "Los Angeles/Springfield   : 3620.250 km\n",
      "Los Angeles/Saint-Louis   : 3451.305 km\n",
      "Los Angeles/Tulsa         : 2754.608 km\n",
      "Los Angeles/Oklahoma City : 2537.393 km\n",
      "Los Angeles/Amarillo      : 2048.257 km\n",
      "Los Angeles/Santa Fe      : 1565.557 km\n",
      "Los Angeles/Albuquerque   : 1454.536 km\n",
      "Los Angeles/Flagstaff     : 860.815 km\n",
      "Los Angeles/Los Angeles   : 0.000 km\n"
     ]
    }
   ],
   "source": [
    "city_names = np.array(['Chicago', 'Springfield', 'Saint-Louis', 'Tulsa', 'Oklahoma City', 'Amarillo', 'Santa Fe', 'Albuquerque', 'Flagstaff', 'Los Angeles'])\n",
    "city_miles = np.array([0, 198, 303, 736, 871, 1175, 1475, 1544, 1913, 2448])\n",
    "\n",
    "pair_labels = np.array([name_a + '/' + name_b  for name_a in city_names for name_b in city_names])\n",
    "pair_miles = np.array([ np.sqrt((miles_a - miles_b)**2) for miles_a in city_miles for miles_b in city_miles])\n",
    "pair_km = pair_miles * 1.609\n",
    "\n",
    "dict = {label: key for label,key in zip(pair_labels, pair_km)}\n",
    "for key, value in zip(dict.keys(), dict.values()):\n",
    "    print(f\"{key:<25} : {value:.3f} km\") #good formatting, specifies number of spaces to be occupied by key"
   ]
  },
  {
   "cell_type": "markdown",
   "metadata": {},
   "source": [
    "7\\. Prime numbers sieve: compute the prime numbers in the 0-N (N=99 to start with) range with a sieve (mask).\n",
    "  * Constract a shape (100,) boolean array, the mask\n",
    "  * Identify the multiples of each number starting from 2 and set accordingly the corresponding mask element\n",
    "  * Apply the mask to obtain an array of ordered prime numbers\n",
    "  * Check the performances (timeit); how does it scale with N?\n",
    "  * Implement the optimization suggested in the [sieve of Eratosthenes](https://en.wikipedia.org/wiki/Sieve_of_Eratosthenes)"
   ]
  },
  {
   "cell_type": "code",
   "execution_count": null,
   "metadata": {},
   "outputs": [
    {
     "name": "stdout",
     "output_type": "stream",
     "text": [
      "naive: \n",
      " [ 0  1  2  3  5  7 11 13 17 19 23 29 31 37 41 43 47 53 59 61 67 71 73 79\n",
      " 83 89 97]\n",
      "134 μs ± 570 ns per loop (mean ± std. dev. of 7 runs, 10,000 loops each)\n",
      "4.83 ms ± 16.8 μs per loop (mean ± std. dev. of 7 runs, 100 loops each)\n",
      "333 ms ± 841 μs per loop (mean ± std. dev. of 7 runs, 1 loop each)\n"
     ]
    }
   ],
   "source": [
    "N = 99\n",
    "\n",
    "# Way 0: very naive and inefficient\n",
    "def naive_sieve(N: int) -> np.ndarray:\n",
    "    numbers = np.arange(0, N)\n",
    "    mask = np.ones(N, dtype = bool) # 1 = True: at start, all numbers are prime\n",
    "    divisors = np.arange(2, N // 2 + 1) # 49 is a divisor for 98\n",
    "\n",
    "    for divisor in divisors:\n",
    "        if mask[divisor] == False:\n",
    "            continue # there is no need to check multiples if divisor has already been decomposed\n",
    "        numbers_to_check = numbers[mask]\n",
    "        numbers_to_check = numbers[numbers > divisor + 1]\n",
    "        for number in numbers_to_check:\n",
    "            if (number % divisor == 0):\n",
    "                mask[number] = False\n",
    "    return numbers[mask]\n",
    "\n",
    "# Way 1: Eratosthenes_sieve: opt\n",
    "#def eratosthenes_sieve(N: int) ->np.ndarray:\n",
    "\n",
    "\n",
    "\n",
    "print(f\"naive: \\n\" ,naive_sieve(N))\n",
    "%timeit naive_sieve(100) # 134 μs\n",
    "%timeit naive_sieve(1000) # 4.83 ms\n",
    "%timeit naive_sieve(10000) # 333 ms"
   ]
  },
  {
   "cell_type": "markdown",
   "metadata": {},
   "source": [
    "**N.B. the following exercises are meant to be solved only if you are familiar with the numpy random library. If not you can skip them (postponed for one of the next exercise sessions)**\n"
   ]
  },
  {
   "cell_type": "markdown",
   "metadata": {},
   "source": [
    "8\\. Diffusion using random walk\n",
    "\n",
    "Consider a simple random walk process: at each step in time, a walker jumps right or left (+1 or -1) with equal probability. The goal is to find the typical distance from the origin of a random walker after a given amount of time. \n",
    "To do that, let's simulate many walkers and create a 2D array with each walker as a raw and the actual time evolution as columns\n",
    "\n",
    "  * Take 1000 walkers and let them walk for 200 steps\n",
    "  * Use randint to create a 2D array of size walkers x steps with values -1 or 1\n",
    "  * Build the actual walking distances for each walker (i.e. another 2D array \"summing on each raw\")\n",
    "  * Take the square of that 2D array (elementwise)\n",
    "  * Compute the mean of the squared distances at each step (i.e. the mean along the columns)\n",
    "  * Plot the average distances (sqrt(distance\\*\\*2)) as a function of time (step)\n",
    "  \n",
    "Did you get what you expected?"
   ]
  },
  {
   "cell_type": "markdown",
   "metadata": {},
   "source": [
    "9\\. Analyze a data file \n",
    "  * Download the population of hares, lynxes and carrots at the beginning of the last century.\n",
    "    ```python\n",
    "    ! wget https://www.dropbox.com/s/3vigxoqayo389uc/populations.txt\n",
    "    ```\n",
    "\n",
    "  * Check the content by looking within the file\n",
    "  * Load the data (use an appropriate numpy method) into a 2D array\n",
    "  * Create arrays out of the columns, the arrays being (in order): *year*, *hares*, *lynxes*, *carrots* \n",
    "  * Plot the 3 populations over the years\n",
    "  * Compute the main statistical properties of the dataset (mean, std, correlations, etc.)\n",
    "  * Which species has the highest population each year?\n",
    "\n",
    "Do you feel there is some evident correlation here? [Studies](https://www.enr.gov.nt.ca/en/services/lynx/lynx-snowshoe-hare-cycle) tend to believe so."
   ]
  }
 ],
 "metadata": {
  "kernelspec": {
   "display_name": "myenv",
   "language": "python",
   "name": "python3"
  },
  "language_info": {
   "codemirror_mode": {
    "name": "ipython",
    "version": 3
   },
   "file_extension": ".py",
   "mimetype": "text/x-python",
   "name": "python",
   "nbconvert_exporter": "python",
   "pygments_lexer": "ipython3",
   "version": "3.12.0"
  }
 },
 "nbformat": 4,
 "nbformat_minor": 2
}
