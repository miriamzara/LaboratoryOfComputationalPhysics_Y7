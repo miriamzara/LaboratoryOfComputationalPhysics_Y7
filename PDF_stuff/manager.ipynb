{
 "cells": [
  {
   "cell_type": "markdown",
   "metadata": {},
   "source": [
    "# Manager and merger for PDF files"
   ]
  },
  {
   "cell_type": "markdown",
   "metadata": {},
   "source": [
    "How to export Jupyter notebooks as PDFs and merge them using the PyPDF2 library:\n",
    "[https://saturncloud.io/blog/how-to-export-jupyter-notebook-by-vscode-in-pdf-format/]"
   ]
  }
 ],
 "metadata": {
  "kernelspec": {
   "display_name": "myenv",
   "language": "python",
   "name": "python3"
  },
  "language_info": {
   "name": "python",
   "version": "3.12.0"
  }
 },
 "nbformat": 4,
 "nbformat_minor": 2
}
