{
 "cells": [
  {
   "cell_type": "markdown",
   "metadata": {},
   "source": [
    "# LAB 02 exercises\n",
    "\n",
    "https://docs.oracle.com/cd/E19957-01/806-3568/ncg_goldberg.html  *\" What Every Computer Scientist Should Know About Floating-Point Arithmetic\", by David Goldberg, published in the March, 1991*"
   ]
  },
  {
   "cell_type": "markdown",
   "metadata": {},
   "source": [
    "### 1\\. *(done)* Write a function that converts number representation, bin<->dec<->hex. (Clearly using the corresponding python built-in functions is not fair..)"
   ]
  },
  {
   "cell_type": "code",
   "execution_count": 86,
   "metadata": {},
   "outputs": [
    {
     "name": "stdout",
     "output_type": "stream",
     "text": [
      "4097\n",
      "1034\n"
     ]
    }
   ],
   "source": [
    "exa_digits = {i: str(i) for i in range(10)}\n",
    "exa_digits.update({10: 'A', 11: 'B', 12: 'C', 13: 'D', 14: 'E', 15: 'F'}) #Add the additional digits manually\n",
    "bin_digits = {i: str(i) for i in range(2)}\n",
    "\n",
    "\n",
    "end_base_dictionaries = {2: bin_digits, 16: exa_digits} # key:int (decimal number), value:str (end base digit)\n",
    "start_base_dictionaries = {base: {v: k for k, v in d.items()} for base, d in end_base_dictionaries.items()} # key:str (start base digit), value:int (decimal number)\n",
    "# --- this below does the same but is longer -------------\n",
    "# start_base_dictionaries = {}\n",
    "#for base, dict in end_base_dictionaries.items():\n",
    "#    inverted_dict = {v: k for k, v in dict.items()} # Inverted dictionary (only works well if values are not duplicated)\n",
    "#    start_base_dictionaries[base] = inverted_dict\n",
    "    \n",
    "\n",
    "\n",
    "def dec_to_base(number: str, end_base: int) -> str:\n",
    "    # -------- Exception handling ------------------------------- #\n",
    "    try:\n",
    "        number = int(number)\n",
    "    except ValueError:\n",
    "        raise ValueError(\"dec_to_base: Invalid decimal number\") #Customize ValueError message!\n",
    "    if end_base== 10:\n",
    "        return str(number) # Handle trivial case directly\n",
    "    # Now that trivial case is ruled out, check if there is a dictionary for the end base \n",
    "    digits_dict = end_base_dictionaries.get(end_base) #This returns None if there is no dictionary, but does not raise errors, so you can customize your error message\n",
    "    if digits_dict is None:\n",
    "        raise ValueError(\"dec_to_base: End base is not supported\")\n",
    "    #--------- Conversion --------------------------------------- #\n",
    "    a = number\n",
    "    b = 0\n",
    "    converted_number = \"\"\n",
    "    while a != 0:\n",
    "        b = a % end_base # division rest\n",
    "        a = a // end_base # division result\n",
    "        #print(a, b)\n",
    "        converted_number += digits_dict[b]\n",
    "    converted_number = \"\".join(reversed(converted_number))\n",
    "    return converted_number\n",
    "\n",
    "def base_to_dec(number:str, start_base: int) -> str:\n",
    "    # ------------------ Exception handling ------------------ #\n",
    "    # Trivial case: start_base == 10\n",
    "    if start_base== 10:\n",
    "        try:\n",
    "            number = int(number)\n",
    "        except ValueError:\n",
    "            raise ValueError(\"dec_to_base: Invalid decimal number\") #Customize ValueError message!\n",
    "        return str(number)\n",
    "    # Trivial case ruled out: check if there is a dictionary for the start base \n",
    "    digits_dict = start_base_dictionaries.get(start_base) #key:str, value: int\n",
    "    if digits_dict is None:\n",
    "        raise ValueError(\"base_to_dec: Start base is not supported\")\n",
    "    # Check if number is valid in start base.\n",
    "    if not bool(all([digit in digits_dict.keys() for digit in number])):\n",
    "        raise ValueError(\"base_to_dec: Number has invalid digits in the specified base.\")\n",
    "    # ----------------------- Conversion --------------------- #\n",
    "    converted_number = sum(start_base**(len(number) - 1 -i)* digits_dict[digit] for i,digit in enumerate(number))\n",
    "    # Or, equivalently:\n",
    "    #converted_number = sum(start_base**i * digits_dict[digit] for i,digit in enumerate(reversed(number)))\n",
    "    # Or, also equivalently:\n",
    "    #converted_number = 0\n",
    "    #for i, digit in enumerate(number):\n",
    "    #    exponent = (len(number) - 1) -i\n",
    "    #    converted_number+= (start_base**exponent) * digits_dict[digit]\n",
    "    return str(converted_number)\n",
    "\n",
    "\n",
    "\n",
    "def convert(number: str, start_base: int, end_base:int) -> str:\n",
    "    if start_base == 10:\n",
    "        return dec_to_base(number, end_base=end_base) #call directly\n",
    "    elif end_base == 10:\n",
    "        return base_to_dec(number, start_base= start_base)\n",
    "    else:\n",
    "        return  dec_to_base(number= base_to_dec(number, start_base= start_base), end_base=end_base) #do start base->dec->end base\n",
    "\n",
    "c = convert(\"1001\", start_base= 16, end_base= 10)\n",
    "print(c)"
   ]
  },
  {
   "cell_type": "markdown",
   "metadata": {},
   "source": [
    "### 2\\. *(done)* Write a function that converts a 32 bit word into a single precision floating point (i.e. interprets the various bits as sign, mantissa and exponent)"
   ]
  },
  {
   "cell_type": "code",
   "execution_count": 125,
   "metadata": {},
   "outputs": [
    {
     "name": "stdout",
     "output_type": "stream",
     "text": [
      "word:  10111111101101001011111100010000\n",
      "number: -1.3456784\n"
     ]
    }
   ],
   "source": [
    "def floating_to_decimal(word: str) -> float:\n",
    "    try: \n",
    "        word = str(word)\n",
    "    except ValueError:\n",
    "        raise ValueError(\"The number must be provided as str or str-recastable type.\")\n",
    "    \n",
    "    if len(word) != 32 or any(char not in '01' for char in word):\n",
    "            raise ValueError(\"The number must have length 32 and contain only 0s and 1s\")\n",
    "    \n",
    "    sign = int(word[0]) #1 bit\n",
    "    exponent = int(word[1:9], 2) #8 bits, convert to decimal\n",
    "    mantissa = int(word[9:32], 2) #23 bits, convert to decimal\n",
    "    number = (-1) ** sign * float(\"1.\" + str(mantissa)) * 2 ** (exponent- 127)\n",
    "    return number\n",
    "\n",
    "\n",
    "word = \"1\"+ f\"{127:08b}\" +f\"{3456784:023b}\" #all decimals given here\n",
    "print(\"word: \", word)\n",
    "print(\"number:\", floating_to_decimal(word)) # -1.1\n"
   ]
  },
  {
   "cell_type": "code",
   "execution_count": 93,
   "metadata": {},
   "outputs": [
    {
     "name": "stdout",
     "output_type": "stream",
     "text": [
      "00100000 32\n",
      "00100000 or 0b100000 32\n"
     ]
    }
   ],
   "source": [
    "# Recap: shift operators\n",
    "\n",
    "a = 8 #1000\n",
    "b = a << 2 #100000\n",
    "print(f\"{b:08b}\", b) # binary, decimal\n",
    "\n",
    "# what if a is given in binary?\n",
    "a = \"1000\"\n",
    "b = int(a, 2) << 2 #100000\n",
    "print(f\"{b:08b} or {bin(b)}\", b) # binary, decimal"
   ]
  },
  {
   "cell_type": "markdown",
   "metadata": {},
   "source": [
    "### 3\\. *(done)* Write a program to determine the underflow and overflow limits (within a factor of 2) for python on your computer. \n",
    "\n",
    "**Tips**: define two variables inizialized to 1 and halve/double them enough time to exceed the under/over-flow limits  "
   ]
  },
  {
   "cell_type": "code",
   "execution_count": 31,
   "metadata": {},
   "outputs": [
    {
     "name": "stdout",
     "output_type": "stream",
     "text": [
      "Base for the representation:  2\n",
      "Number of digits in the mantissa (including the leading digit): 53\n",
      "\n",
      "Overflow limit: 1.7976931348623157e+308\n",
      "Theoretical: 1.797693e+308\n",
      "Great!\n",
      "\n",
      "Underflow limit: 2.2250738585072014e-308\n",
      "Theoretical: 2.225074e-308\n",
      "Theoretical: 1.797693e+308\n",
      "Great!\n",
      "\n",
      "Machine precision:  2.220446049250313e-16\n"
     ]
    }
   ],
   "source": [
    "# Check the true underflow / overflow limits\n",
    "\n",
    "from math import ulp\n",
    "from sys import float_info # a named tuple containing info about the float type\n",
    "print(\"Base for the representation: \", float_info.radix)\n",
    "print(f\"Number of digits in the mantissa (including the leading digit):\", float_info.mant_dig, end = '\\n\\n')\n",
    "print(f\"Overflow limit:\", float_info.max)\n",
    "print(f\"Theoretical: {2**1023 * (2 - 2**-52):e}\")\n",
    "print(\"Great!\", end = '\\n\\n')\n",
    "print(f\"Underflow limit:\", float_info.min) #normalized (first digit of mantissa is 1)\n",
    "print(f\"Theoretical: {2**-1022 * (1):e}\")\n",
    "print(f\"Theoretical: {2**1023 * (2 - 2**-52):e}\")\n",
    "print(\"Great!\", end = '\\n\\n')\n",
    "print(f\"Machine precision: \", float_info.epsilon ) #difference between 1.0 and the least value greater than 1.0 that is representable as a float"
   ]
  },
  {
   "cell_type": "markdown",
   "metadata": {},
   "source": [
    "Now the exercise itself:"
   ]
  },
  {
   "cell_type": "code",
   "execution_count": 30,
   "metadata": {},
   "outputs": [
    {
     "name": "stdout",
     "output_type": "stream",
     "text": [
      "Overflow exponent: 1023\n",
      "Underflow exponent: 1074\n"
     ]
    }
   ],
   "source": [
    "from math import inf\n",
    "a, b = 1., 1.\n",
    "type(a)\n",
    "\n",
    "#Check overflow limit\n",
    "for exp in range(1025):\n",
    "    a *= 2\n",
    "    if a == inf:\n",
    "        print(f\"Overflow exponent: {exp }\")\n",
    "        break\n",
    "\n",
    "#Check underflow limit\n",
    "for exp in range(2048):\n",
    "    b /= 2\n",
    "    if b == 0:\n",
    "        print(f\"Underflow exponent: {exp }\")\n",
    "        break\n"
   ]
  },
  {
   "cell_type": "markdown",
   "metadata": {},
   "source": [
    "**Comment**: the underflow limit is smaller than theoretically expected. The difference arises because the IEEE 754 floating-point standard supports denormalized (or subnormal) numbers, which extend the representable range below the smallest normalized number.\n",
    "When the exponent reaches its minimum value (-1022), the system allows the leading 1. of the mantissa to become 0.. These are denormalized numbers, with the form:\n",
    "\n",
    "$$\n",
    "x = 0.\\text{mantissa} \\times 2^{-1022}.\n",
    "$$\n",
    "\n",
    "This effectively allows the exponent to drop further, extending the range of representable numbers down to:\n",
    "\n",
    "$$\n",
    "2^{-1022 - 52} = 2^{-1074} \\approx 4.94 \\times 10^{-324}.\n",
    "$$"
   ]
  },
  {
   "cell_type": "markdown",
   "metadata": {},
   "source": [
    "### 4\\. *(done)* Write a program to determine the machine precision\n",
    "\n",
    "**Tips**: define a new variable by adding a smaller and smaller value (proceeding similarly to prob. 2) to an original variable and check the point where the two are the same "
   ]
  },
  {
   "cell_type": "code",
   "execution_count": 36,
   "metadata": {},
   "outputs": [
    {
     "name": "stdout",
     "output_type": "stream",
     "text": [
      "Machine precision: 1.110223e-16\n",
      "rounding method: 1\n",
      "Theoretical expectation: 1.110223e-16\n"
     ]
    }
   ],
   "source": [
    "a = 1.\n",
    "for exp in range(64):\n",
    "    b = a + 2** -exp \n",
    "    if b == a:\n",
    "        print(f\"Machine precision: {2** -exp:e}\")\n",
    "        break\n",
    "print(f\"rounding method: {float_info.rounds}\") # 1= to nearest\n",
    "print(f\"Theoretical expectation: {2**(-52 - 1):e}\") # to account for the rounding method \"to nearest\" GREAT!"
   ]
  },
  {
   "cell_type": "markdown",
   "metadata": {},
   "source": [
    "### 5\\. (done) Write a function that takes in input three parameters $a$, $b$ and $c$ and prints out the two solutions to the quadratic equation $ax^2+bx+c=0$ using the standard formula:\n",
    "$$\n",
    "x=\\frac{-b\\pm\\sqrt{b^2-4ac}}{2a}\n",
    "$$\n",
    "\n",
    "(a) use the program to compute the solution for $a=0.001$, $b=1000$ and $c=0.001$\n",
    "\n",
    "(b) re-express the standard solution formula by multiplying top and bottom by $-b\\mp\\sqrt{b^2-4ac}$ and again find the solution for $a=0.001$, $b=1000$ and $c=0.001$. How does it compare with what previously obtained? Why?\n",
    "\n",
    "*Answer: the upper root is inaccurate when computed using the standard formula, because of cathastrophic cancellation happening https://en.wikipedia.org/wiki/Catastrophic_cancellation .*\n",
    "\n",
    "*Computation of $\\sqrt{\\Delta^2}$ produces an approximation error. Although the relative error on $\\sqrt{\\Delta^2}$ might be very small, the* **relative** *error on the numerator $b - \\sqrt{\\Delta^2}$ is not, because the numbers are very close. In this sense, subtraction **amplifies** the approximation error. In the alternative method, instead, there is no subtraction of close values.*\n",
    "\n",
    "(c) write a function that compute the roots of a quadratic equation accurately in all cases"
   ]
  },
  {
   "cell_type": "code",
   "execution_count": 9,
   "metadata": {},
   "outputs": [
    {
     "name": "stdout",
     "output_type": "stream",
     "text": [
      "naive way: \n",
      " -1.000444171950221e-07 -9999999.9999999\n",
      "stable way: \n",
      " -1.00000000000001e-07 -9995560.252509091\n",
      "relative error on upper root: 0.000444171950211044\n"
     ]
    }
   ],
   "source": [
    "# Here b is positive, therefore I expect cancellation issues for the upper root\n",
    "\n",
    "a = 0.001\n",
    "b = 10000\n",
    "c = 0.001\n",
    "\n",
    "import numpy as np\n",
    "def root(a, b, c):\n",
    "    delta = np.sqrt(b**2 - 4*a*c)\n",
    "    up = (-b + delta)/ (2*a)\n",
    "    down = (-b - delta)/ (2*a)\n",
    "    return up, down\n",
    "\n",
    "\n",
    "def another_root(a , b, c):\n",
    "    delta = np.sqrt(b**2 - 4*a*c)\n",
    "    up = (2*c)/ (-b - delta)\n",
    "    down = (2*c)/ (-b + delta)\n",
    "    return up, down\n",
    "\n",
    "up, down = root(a, b, c)\n",
    "print(\"naive way: \\n\", up, down)\n",
    "\n",
    "alt_up, alt_down = another_root(a, b, c)\n",
    "print(\"stable way: \\n\", alt_up, alt_down)\n",
    "\n",
    "print(f\"relative error on upper root: {(up - alt_up) / alt_up}\")\n",
    "\n",
    "# Accurately in all cases\n",
    "# Depending on the sign of b, use the alternative formulation to\n",
    "# compute the lower or upper branch\n",
    "\n",
    "def accurate_root(a, b, c):\n",
    "    if b > 0:\n",
    "        up, _ = another_root(a, b, c)\n",
    "        _, down = root(a, b, c)\n",
    "    else:\n",
    "        _, down = another_root(a, b, c)\n",
    "        up, _ = root(a, b, c)\n",
    "    return up, down"
   ]
  },
  {
   "cell_type": "markdown",
   "metadata": {},
   "source": [
    "### 6\\. Write a program that implements the function $f(x)=x(x−1)$\n",
    "\n",
    "(a) Calculate the derivative of the function at the point $x = 1$ using the derivative definition:\n",
    "\n",
    "$$\n",
    "\\frac{{\\rm d}f}{{\\rm d}x} = \\lim_{\\delta\\to0} \\frac{f(x+\\delta)-f(x)}{\\delta}\n",
    "$$\n",
    "\n",
    "with $\\delta = 10^{−2}$. Calculate the true value of the same derivative analytically and compare with the answer your program gives. The two will not agree perfectly. Why not?\n",
    "\n",
    "(b) Repeat the calculation for $\\delta = 10^{−4}, 10^{−6}, 10^{−8}, 10^{−10}, 10^{−12}$ and $10^{−14}$. How does the accuracy scales with $\\delta$?"
   ]
  },
  {
   "cell_type": "code",
   "execution_count": 42,
   "metadata": {},
   "outputs": [
    {
     "data": {
      "text/plain": [
       "<matplotlib.legend.Legend at 0x10ca96600>"
      ]
     },
     "execution_count": 42,
     "metadata": {},
     "output_type": "execute_result"
    },
    {
     "data": {
      "image/png": "[encoded data removed]",
      "text/plain": [
       "<Figure size 640x480 with 1 Axes>"
      ]
     },
     "metadata": {},
     "output_type": "display_data"
    }
   ],
   "source": [
    "def f(x):\n",
    "    return x**2 - x\n",
    "\n",
    "dfdx = 1\n",
    "delta_range = np.array([10**-exp for exp in range(1, 18, 1)])\n",
    "\n",
    "num_dfdx = np.array([ ( f(1 + delta) -f(1) ) / delta for delta in delta_range])\n",
    "relative_error = np.abs(num_dfdx - 1)\n",
    "import matplotlib.pyplot as plt\n",
    "fig, ax = plt.subplots()\n",
    "ax.scatter(x = delta_range, y = num_dfdx, label = \"dfdx analytical\")\n",
    "ax.axhline(y = 1, color ='red', label = \"dfdx analytical\")\n",
    "ax.set_xscale('log')\n",
    "ax.legend(loc = 'lower right')"
   ]
  },
  {
   "cell_type": "markdown",
   "metadata": {},
   "source": [
    "### 7\\. Consider the integral of the semicircle of radius 1:\n",
    "$$\n",
    "I=\\int_{-1}^{1} \\sqrt(1-x^2) {\\rm d}x\n",
    "$$\n",
    "which it's known to be $I=\\frac{\\pi}{2}=1.57079632679...$.\n",
    "Alternatively we can use the Riemann definition of the integral:\n",
    "$$\n",
    "I=\\lim_{N\\to\\infty} \\sum_{k=1}^{N} h y_k \n",
    "$$\n",
    "\n",
    "with $h=2/N$ the width of each of the $N$ slices the domain is divided into and where\n",
    "$y_k$ is the value of the function at the $k-$th slice.\n",
    "\n",
    "(a) Write a programe to compute the integral with $N=100$. How does the result compares to the true value?\n",
    "\n",
    "(b) How much can $N$ be increased if the computation needs to be run in less than a second? What is the gain in running it for 1 minute? \n"
   ]
  }
 ],
 "metadata": {
  "kernelspec": {
   "display_name": "myenv",
   "language": "python",
   "name": "python3"
  },
  "language_info": {
   "codemirror_mode": {
    "name": "ipython",
    "version": 3
   },
   "file_extension": ".py",
   "mimetype": "text/x-python",
   "name": "python",
   "nbconvert_exporter": "python",
   "pygments_lexer": "ipython3",
   "version": "3.12.0"
  }
 },
 "nbformat": 4,
 "nbformat_minor": 2
}
